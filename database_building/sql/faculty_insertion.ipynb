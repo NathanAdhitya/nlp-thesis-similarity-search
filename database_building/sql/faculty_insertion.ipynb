{
 "cells": [
  {
   "cell_type": "code",
   "execution_count": 1,
   "id": "5d5d25b3",
   "metadata": {},
   "outputs": [],
   "source": [
    "import mysql.connector"
   ]
  },
  {
   "cell_type": "code",
   "execution_count": 2,
   "id": "834e52fe",
   "metadata": {},
   "outputs": [],
   "source": [
    "database = mysql.connector.connect(\n",
    "    host=\"localhost\",\n",
    "    user=\"root\",\n",
    "    password=\"\",\n",
    ")\n",
    "cursor = database.cursor()\n",
    "cursor.execute(\"USE nlp_thesis_similarity\")"
   ]
  },
  {
   "cell_type": "code",
   "execution_count": 3,
   "id": "f10c6aa1",
   "metadata": {},
   "outputs": [
    {
     "name": "stdout",
     "output_type": "stream",
     "text": [
      "Faculty table checked and created if needed\n"
     ]
    }
   ],
   "source": [
    "# Check if the faculty table exists, if not create it\n",
    "try:\n",
    "    # Check if the faculty table exists\n",
    "    cursor.execute(\"SHOW TABLES LIKE 'faculties'\")\n",
    "    if not cursor.fetchone():\n",
    "        # Create the faculties table if it doesn't exist\n",
    "        cursor.execute(\"\"\"\n",
    "        CREATE TABLE faculties (\n",
    "            id INT PRIMARY KEY AUTO_INCREMENT,\n",
    "            name VARCHAR(1024) NOT NULL,\n",
    "            url VARCHAR(1024) NULL\n",
    "        )\n",
    "        \"\"\")\n",
    "        \n",
    "    database.commit()\n",
    "    print(\"Faculty table checked and created if needed\")\n",
    "except Exception as e:\n",
    "    print(f\"Error managing faculty table: {e}\")\n",
    "    database.rollback()  # Rollback in case of error"
   ]
  },
  {
   "cell_type": "code",
   "execution_count": 8,
   "id": "a7665721",
   "metadata": {},
   "outputs": [
    {
     "name": "stdout",
     "output_type": "stream",
     "text": [
      "Error inserting faculties: 1213 (40001): Deadlock found when trying to get lock; try restarting transaction\n"
     ]
    }
   ],
   "source": [
    "# Dictionary of faculties with their names and URLs\n",
    "faculties = [\n",
    "    {\"name\": \"Faculty of Civil Engineering and Planning\", \"url\": \"https://petra.ac.id/faculty/ftsp\"},\n",
    "    {\"name\": \"Faculty of Industrial Technology\", \"url\": \"https://petra.ac.id/faculty/fti\"},\n",
    "    {\"name\": \"School of Business and Management\", \"url\": \"https://petra.ac.id/faculty/sbm\"},\n",
    "    {\"name\": \"Faculty of Teacher Education\", \"url\": \"https://petra.ac.id/faculty/fkip\"},\n",
    "    {\"name\": \"Faculty of Humanities and Creative Industries\", \"url\": \"https://petra.ac.id/faculty/fhik\"},\n",
    "    {\"name\": \"Fakultas Kedokteran\", \"url\": \"https://petra.ac.id/faculty/fk\"},\n",
    "    {\"name\": \"Petra Business School\", \"url\": \"https://petra.ac.id/faculty/pbs\"},\n",
    "    {\"name\": \"Fakultas Kedokteran Gigi\", \"url\": \"https://petra.ac.id/faculty/fkg\"}\n",
    "]\n",
    "\n",
    "# Insert faculties into the database\n",
    "try:\n",
    "    # Clear existing faculty records\n",
    "    cursor.execute(\"DELETE FROM faculties\")\n",
    "    print(\"Cleared existing faculty records\")\n",
    "    \n",
    "    for faculty in faculties:\n",
    "        cursor.execute(\"INSERT INTO faculties (name, url) VALUES (%s, %s)\", \n",
    "                      (faculty[\"name\"], faculty[\"url\"]))\n",
    "    \n",
    "    database.commit()\n",
    "    print(f\"Successfully inserted {len(faculties)} faculties into the database\")\n",
    "    \n",
    "    # Verify insertion by retrieving all faculties\n",
    "    cursor.execute(\"SELECT * FROM faculties\")\n",
    "    result = cursor.fetchall()\n",
    "    print(f\"Total faculties in database: {len(result)}\")\n",
    "    \n",
    "except Exception as e:\n",
    "    print(f\"Error inserting faculties: {e}\")\n",
    "    database.rollback()"
   ]
  }
 ],
 "metadata": {
  "kernelspec": {
   "display_name": "nlp-thesis-similarity",
   "language": "python",
   "name": "python3"
  },
  "language_info": {
   "codemirror_mode": {
    "name": "ipython",
    "version": 3
   },
   "file_extension": ".py",
   "mimetype": "text/x-python",
   "name": "python",
   "nbconvert_exporter": "python",
   "pygments_lexer": "ipython3",
   "version": "3.13.3"
  }
 },
 "nbformat": 4,
 "nbformat_minor": 5
}
