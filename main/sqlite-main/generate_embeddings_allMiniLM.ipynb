{
 "cells": [
  {
   "cell_type": "code",
   "execution_count": 2,
   "id": "5a4eb10c",
   "metadata": {},
   "outputs": [
    {
     "name": "stdout",
     "output_type": "stream",
     "text": [
      "Collecting sqlite-vec\n",
      "  Using cached sqlite_vec-0.1.6-py3-none-win_amd64.whl.metadata (198 bytes)\n",
      "Using cached sqlite_vec-0.1.6-py3-none-win_amd64.whl (281 kB)\n",
      "Installing collected packages: sqlite-vec\n",
      "Successfully installed sqlite-vec-0.1.6\n",
      "Note: you may need to restart the kernel to use updated packages.\n"
     ]
    }
   ],
   "source": [
    "%pip install sqlite-vec"
   ]
  },
  {
   "cell_type": "code",
   "execution_count": 3,
   "id": "9e8f8338",
   "metadata": {},
   "outputs": [],
   "source": [
    "import sqlite3\n",
    "import sqlite_vec\n",
    "\n",
    "db = sqlite3.connect(\"../../data/cleaned_with_bge_m3.db\")\n",
    "db.enable_load_extension(True)\n",
    "sqlite_vec.load(db)\n",
    "db.enable_load_extension(False)"
   ]
  },
  {
   "cell_type": "code",
   "execution_count": 4,
   "id": "d014bb02",
   "metadata": {},
   "outputs": [
    {
     "data": {
      "text/plain": [
       "('v0.1.6',)"
      ]
     },
     "execution_count": 4,
     "metadata": {},
     "output_type": "execute_result"
    }
   ],
   "source": [
    "db.execute(\"SELECT vec_version()\").fetchone()"
   ]
  },
  {
   "cell_type": "code",
   "execution_count": 27,
   "id": "c4de4c1b",
   "metadata": {},
   "outputs": [],
   "source": [
    "db.execute(\"DROP TABLE IF EXISTS publications_vec_all_MiniLM_L6_v2\")\n",
    "db.execute(\"\"\"\n",
    "CREATE VIRTUAL TABLE publications_vec_all_MiniLM_L6_v2 USING vec0(\n",
    "    publication_id INTEGER PRIMARY KEY,\n",
    "    embedding FLOAT[384] distance_metric=cosine\n",
    ")\n",
    "\"\"\")\n",
    "db.commit()"
   ]
  },
  {
   "cell_type": "code",
   "execution_count": 28,
   "id": "f5fa2269",
   "metadata": {},
   "outputs": [
    {
     "name": "stdout",
     "output_type": "stream",
     "text": [
      "SentenceTransformer(\n",
      "  (0): Transformer({'max_seq_length': 256, 'do_lower_case': False}) with Transformer model: BertModel \n",
      "  (1): Pooling({'word_embedding_dimension': 384, 'pooling_mode_cls_token': False, 'pooling_mode_mean_tokens': True, 'pooling_mode_max_tokens': False, 'pooling_mode_mean_sqrt_len_tokens': False, 'pooling_mode_weightedmean_tokens': False, 'pooling_mode_lasttoken': False, 'include_prompt': True})\n",
      "  (2): Normalize()\n",
      ")\n",
      "384\n"
     ]
    }
   ],
   "source": [
    "from sentence_transformers import SentenceTransformer\n",
    "\n",
    "model = SentenceTransformer(\"all-MiniLM-L6-v2\")\n",
    "\n",
    "print(model)\n",
    "print(model.get_sentence_embedding_dimension())"
   ]
  },
  {
   "cell_type": "code",
   "execution_count": null,
   "id": "98d31ac1",
   "metadata": {},
   "outputs": [
    {
     "name": "stdout",
     "output_type": "stream",
     "text": [
      "Tables in the database:\n",
      "- users\n",
      "- publications\n",
      "- sqlite_sequence\n",
      "- publication_user_mapping\n",
      "- publications_vec_bge_m3_info\n",
      "- publications_vec_bge_m3_chunks\n",
      "- publications_vec_bge_m3_rowids\n",
      "- publications_vec_bge_m3_vector_chunks00\n",
      "- publications_vec_all_MiniLM_L6_v2_info\n",
      "- publications_vec_all_MiniLM_L6_v2_chunks\n",
      "- publications_vec_all_MiniLM_L6_v2_rowids\n",
      "- publications_vec_all_MiniLM_L6_v2_vector_chunks00\n",
      "- publications_vec_bge_m3\n",
      "- publications_vec_all_MiniLM_L6_v2\n",
      "\n",
      "Virtual tables:\n",
      "- publications_vec_bge_m3\n",
      "- publications_vec_all_MiniLM_L6_v2\n"
     ]
    }
   ],
   "source": [
    "# Query to get all tables in the database\n",
    "tables = db.execute(\"SELECT name FROM sqlite_master WHERE type='table'\").fetchall()\n",
    "\n",
    "# Print the table names\n",
    "print(\"Tables in the database:\")\n",
    "for table in tables:\n",
    "    print(f\"- {table[0]}\")\n",
    "\n",
    "# Also get the virtual tables\n",
    "virtual_tables = db.execute(\"SELECT name FROM sqlite_master WHERE type='table' AND sql LIKE '%VIRTUAL TABLE%'\").fetchall()\n",
    "if virtual_tables:\n",
    "    print(\"\\nVirtual tables:\")\n",
    "    for table in virtual_tables:\n",
    "        print(f\"- {table[0]}\")\n"
   ]
  },
  {
   "cell_type": "code",
   "execution_count": 31,
   "id": "09a57d09",
   "metadata": {},
   "outputs": [
    {
     "name": "stdout",
     "output_type": "stream",
     "text": [
      "[(1, b'\\x9c\\xa5\\x9d<\\xc3\\xba&\\xba \\xca\\xd4<\\x9a\\xb2V\\xbd\\x07\\x9d\\x91\\xbc\\xb1\\x9fG=\\xa1oE<K_\\x10\\xbd\\xf3\\x941=j\\x02f\\xbd\\xb8z\\x88<&\\x16\\xa8\\xbd\\xf46\\xde\\xbc=\\xa3\\x86\\xbdA\\xf8\\xd5\\xbc%\\xf6@\\xbdz\\x19<=\\xda\\xc9\\xca<\\x95\\xb1Q\\xbcA8\\t\\xbdg\\xea\\xe3=Y\\x8bi;\\x89hj=\\xaf\\xc2K=\\xc3\\x8a\\xd1<\\x04)\\x1d<]\\x9d\\x8d\\xbc@#\\x1c=\\x1eR\\xd0<\\xa3r%\\xbc\\xe7\\x99\\xac\\xbd\\x9f\\xf7\\xa0=\\x85\\xdf^=8x\\xfd<\\x1c\\xfe\\xbd\\xbc,\\xce\\xd4=\\x00\\x83\\n\\xbd\\x93\\xdf\\x16;c5\\x1e\\xbb\\xb0\\x123=\\xd6Tx\\xbd\\xaf\\x001\\xbd\\nY\\x14\\xbd4\\xb1X\\xbc}C[=v\\x18z\\xbc!m\\xd2\\xbd\\xc2\\xd6\\x0f<\\xe8\\x8e\\r\\xbd\\xb9\\x05#<\\xf3\\x81\\xf5\\xbd\\xd5\\xe9\\x00=\\xbcfr\\xbd3\\xd3\\x9d\\xbcQ\\xda\\xae<\\'\\xbat\\xbd\\xb9\"J=k\\x92 =\\xe8\\xd1\\x19=\\xfa\\xb9\\x89\\xbc?\\x9e\\xad\\xbb\\xd0O\\xbf\\xbcU\\xf2\\x0b<M/\\xce=\\x19\\xbb\\xd3=w\\xa9\\xc4\\xbdMaR<\\x0c\\x12.;x5\\x9d\\xbd\\x16~s<1\\xf7\\xa9\\xbd\\xca\\xfe\\xcd<g?\\x1f\\xbbB\\xfd\\x83=\\xcb\\x82\\x08\\xbe\\xba\\xf1\\xd2\\xbc\\x994\\x9a<\\x16)\\x95\\xbd\\xa1M\\x85\\xbcl,\\r\\xbdh\\x07\\xb7=hL \\xbd\\xcc\\xb7e=\\xc2\\xca\\x97<f\\x1a+\\xbd\\x03sj\\xbdo6d=y@~\\xbdeI3\\xbdXPv=\\\\\\xfam\\xbd\\xd3b\\xa0\\xbd\\xc4j\\x88<\\xac7,=\\xcePX=lg\\xd7<c\\xe6\\xf7\\xbdzI*\\xbb\\x112\\xfe=\\xbd\\xda%=\\x88\\x0ex=\\xe7xo=\\xafM\\x19\\xbc\\xf8\\x1f]\\xbd\\xd3\\r\\xbc\\xbd\\x98G_\\xbd\\xeb\\x8c]=t^\\xe2;PQ*;\\x82u\\x8a;\\xbe\\xb6C\\xbd\\xd0\\x00\\x91\\xbd\\xdb\\x89m\\xbd\\xb9U<\\xbd\\x18\\x15\\xa0=\\x13\\xadz\\xbdef\\x01=\\x01\\x02\\xf6\\xbc\\x8dlR\\xbbT$\\x16\\xbd\\x02\\xf9\\x9e;\\x98\\x16+\\xbd\\x19\\x7f\\x89=\\x1e\\nl\\xbb\\xaf\\x97\\'\\xbd\\x86\\xaf\\x9a\\xbdR\\xf5\\t=v~\\xdf\\x85m\\xdf0=af\\xe4<g\\x9b\\xae<\\xd7y6=U\\xca\\\\\\xbbpw\\xbd\\xbc\\x7f\\x03\\xee\\xbc?q\\x92\\xbb\\x1a\\xb4B\\xbd\\x93@c\\xbc\\xeb\\xfa\\x93<\\xe9\\xban\\xbd\\xf0F\\x98\\xbd\\x9b\\xb1\\x9c;F\\x9b\\xd7\\xbb\\xe4P\\x88<=\\xdfR<p\\x85\\x1a=\\x00\\xcf\\xc5\\xbc<\\xc2\\x8b=\\xec\\xd9<=\\xa7\\xb5Y=\\x9d\\xe9m=\\xe0n\\x07\\xbdo\\xf26\\xbd5\\x85\\n\\xba\\xdbH\\n\\xbb\\x90\\xf0\\x98\\xbd\\x8d\\x80\\x19\\xbd\\x8b\\x04\\xe8\\xb9\\n\\x13\\xbf\\xbdL a=\\x14\\xe03;-\\x82\\x88=\\xd7\\x17}:\\xdf\\xdc\\x0b\\xbe\\x1e*=<.\\r\\x1a\\xbd\\x83\\xd8\\xc3<\\x17\\x96?\\xbam%\\x82\\xbc\\xafEK\\xbb\\xd8K\\x95<\\x91-\\x7f\\xbc\\x99\\xc86\\xbajD\\xdb=\\xa6V\\x9b\\xbc\\xbf\\x04\\xea<\\xfc@\\x14<\\xd5\\xa0\\xe0=W\\x0b4\\xbd\\x0b\\x9aL=\\xd3\\x80\\xd0<\\xef\\xc6\\xb9\\xbch\\xce?=\\xe1\\x07a=\\x9c\\xb8\\xa4\\xbbt\\xb2\\x0f\\xbd)\"\\xb4<\\\\;_\\xbd\\xf8r\\xd1<\\x83[\\xfd<4\\x00\\x10=\\xbf\\xc6\\xec\\xbc\\xc0\\x84N=3Z/=\\xfb\\xa4\\xfc;\\x86!\\x11\\xbd\\xb6\\x89\\xfc;)CV\\xbd\\x18\\x00\\xfd\\xbdC\\xc2%\\xbd?\\x8f\\xf4;\\x8f\\xb8d=\\xac\\xa0#<2[\\xe7:v\\n\\xb0\\xbb\\x17]\\xa5=\\xf4\\x9e\\x10<\\xd4d|<\\x17\\xd2\\xb1\\xbd\\xca\\x99Q=\\xae\\xfa\\xcf<n\\xa6\\x10\\xbd\\xd10\\xc4\\xbc\\xc3(\\x15\\xbda\\n\\xfd<e\\xd0/\\xbd\\xbbd\\xe3=B\\x02\\x8c=\\xe8C\\xad;\\xe9Ar\\xba\\xbcT&\\xbd\\tWT\\xbd\\\\\\xf1F<\\x1e\\x1e2\\x89\\'\\xa9\\xc8<9\\xf9\\xa2\\xbc6\\xd9\\xc8\\xbd\\x1a2\\x0b=N\\xd8\\x9c\\xbd\\xfb\\x86\\x82\\xbd!\\xb8\\xac\\xbc\\xf2T\\xef=A\\x98\\xc0=\\xeb\\x8e\\x02\\xbd\\xb9lL\\xbdM%\\x8e\\xbd\\x13\\x84\\xa8;\\xb6=\\xab\\xbc\\x937\\x8e\\xbdd\\x1e\\x17\\xbd\\xe1\\xf3\\xbb=~o\\x86\\xbcB\\xd1q\\xbcS\\xbf\\x9e=\\x13/\\x88=\\xcd\\xfc\\x91=\\x96s\\x84\\xbd\\xe1\\xa5P\\xbd\\xbegF<%\\xad\\x0e=8\\xf8\\x1e=\\x7f\\xf5[\\xbc{\\x02\\x0e\\xbd#\\xa7\\x9b\\xbc\\xc2\\xc0\\xcf=\\xbc\\xd6\\x0f\\xbd\\x9eZ\\xab\\xbd\\xa7j\\xe2=\\xe7e\\xa0\\xbdH\\x15\\x0c\\xbdu\\x8f\\xe3=\\xca\\xc2\\x14\\xbd\\x94U\\x8d\\xbd\\x9aC\\x92=H\\xdbY=Z\\x19\\xeb\\xb9Tr/\\xbd\\x97&\\x89\\xbd`\\x1f\\x12\\xbd\\xa4:\\xb1\\xbdW\\xf0N\\xbd\\xf2+\\xcf\\xbcM\\x03\\xbd\\xbd4j\\x1e\\xbd\\x93\\xa1\\xf0\\xbc\\xa6\\x99\\xb5:w\\xdd\\xa1\\xbc\\xc9[\\x8f=\\xebpT\\xbc#\\x9c\\x8c\\xbc\\x9c\\xf1t=\\xbd\\xdd\\xf3\\xbc^\\xae\\xf8<\\x83\\xbeu\\xbc\\xa6\\xf4h<+\\xba\\x16<\\xf4,\\xbf\\xbd\\x17\\xf0!\\xbd\\xa9\\x0b\\xa9<\\xa3I\\xf1<$\\xb2\\xfd<\\x84\\x02L=\\xc0j6;\\x12\\xbc\\xca\\xbc\\xfe\\x8d\\xf2;\\xc6.(\\xbe\\xefC\\xa6\\xbc\\x0b\\xbd\\r\\xbd\\x9d5\\xf2<\\xa4?\\x83;\\x02\\xf6\\x0f\\xbd\\x13\\x99b\\xbbL\\xd2Z\\xbc\\x10\\x01\\x05\\xbd\\x85\\xa4G\\xbc\\x1f\\x93\\xdb\\xbd{K<;!\\xf1g=c\\x9d\\x95<\\x97\"i=\\x84\\x8d\\xb1\\xbcY\\xd3\\x93<\\xb3\\x00Z\\xbcc!\\x1f=k\\x1e\\x8f\\xbc\\xbc\\x832=\\xba,\\xfa\\xbb\\x9e\\xfd =+P\\xe2\\xbc\\xb2\\x9cX\\xb3\\xaf\\x9dd\\xbd\\xaf\\'c\\xbd\\xee/\\xff\\xbc\\xad\\x1fs\\xbc\\xde^\\xea\\xbb\\x7f\\xd9\\x13\\xbd\\x85\\xdf\\xa0\\xbd\\xab\\x9c\\x1b\\xbd\\xf7\\x19\\xc4\\xbcB\\xe8\\xf8<\\x01U}\\xbd@}>=\\xe2/\\xba;y\\xb5\\xd99\\xffc\\x8f\\xbd\\xf3x%=H\\xcc\\x96=K\\xfd\\x02>\\xc0l\\x8c\\xbaQ1%=I\\xb92=n?\\xa0=V7\\x9c<\\xd9o\\xa9\\xbd\\x90\\x83\\x12\\xbd\\x97\\xc4\\xdb=\\x0bi\\x01\\xbc\\t\\x9b\\xc0\\xbc\\xf9\\x13o\\xbd\\x8b\\x11)\\xbd\\x1c\\xe5y\\xbb6S\\x03>8\\xd4\\x91<\\x83y\\x1f\\xbdP\\x07n<%\\xcc\\x18\\xbb\\xa2I\\xc1<G\\xdc^\\xbc\\xeazC<-\\xc2S=aH\\xba=/K\\x86\\xbc\\x99|\\xa6<Y\\xacW=UK|=N3\\x08=;\\x19\\xe7\\xbbH\\xbd/:e\\xbf\\xeb<\\x05gM<x\\x81\\x90;x\\xed\\x0e<A\\x95\\xa0\\xbd\\x002\\x08=ea\\x88<A\\x122\\xbcSV/<\\xc2y\\xa8=\\xe6\\te=~\\x8eW=\\x9e\\xce\\xcc=\\xfd5\\xc2=\\xe3\\x17\\xdc<\\x02\\x9d\\xaa\\xbd')]\n"
     ]
    }
   ],
   "source": [
    "tables = db.execute(\"SELECT * FROM publications_vec_all_MiniLM_L6_v2 LIMIT 1\").fetchall()\n",
    "\n",
    "print(tables)"
   ]
  },
  {
   "cell_type": "code",
   "execution_count": 23,
   "id": "05217bc3",
   "metadata": {},
   "outputs": [
    {
     "name": "stdout",
     "output_type": "stream",
     "text": [
      "(1, 384)\n",
      "haha\n",
      "(384,)\n"
     ]
    }
   ],
   "source": [
    "# print(model.encode([\"Hello world!\"])[:10])\n",
    "# print(\"haha\")\n",
    "# print(model.encode(\"Hello world!\")[:10])\n",
    "\n",
    "print(model.encode([\"Hello world!\"]).shape)\n",
    "print(\"haha\")\n",
    "print(model.encode(\"Hello world!\").shape)\n",
    "# print(model.encode(\"Hello world!\")[0])"
   ]
  },
  {
   "cell_type": "code",
   "execution_count": 37,
   "id": "21d76086",
   "metadata": {},
   "outputs": [
    {
     "name": "stdout",
     "output_type": "stream",
     "text": [
      "The Indonesian subtitles of the English utterances spoken by the characters in American Beauty: This thesis is particularly about the translation done on the subtitles of the movie entitled American Beauty. In doing the research the writer would like to find out (1) what kinds of mistakes appear in the subtitles that do not convey the meaning of the original utterances, (2) which mistake mostly occurs in the subtitles (3) what the quality of the subtitles is. To do the research, the writer would like to make use of the qualitative approach. The data of the transcription of utterances are obtained from the internet and then compared to the VCD (Video Compact Disc) entitled American Beauty. The seventy-six scenes in the film have three parts - the beginning, the conflicts, and the ending. The subtitles being analyzed are from twelve scenes which belong to the three parts, having more utterances than the others. The analysis is based on the theories of translation. The translation theories are those of Peter Newmark?s, about unit of translating, audience criteria, the categorisation of translation mistakes; and of Christine Durieux about the criteria of a good translation. The findings of the analysis reveal that the mistakes occurring in the subtitles are of two kinds. They are having misleading mistakes and having nuanced mistakes. The acceptable subtitles are the most samples found in the data. The subtitles of having misleading mistakes are in the first position while of having nuanced mistakes in the second. The quality of the subtitles is good.\n",
      "(384,)\n"
     ]
    }
   ],
   "source": [
    "publications = db.execute(\"SELECT id, title, abstract FROM publications LIMIT 1\").fetchall()\n",
    "for pub_id, title, abstract in publications:\n",
    "    text = f\"{title}: {abstract}\"\n",
    "    print(text)\n",
    "    print(model.encode(text).shape)\n",
    "    "
   ]
  },
  {
   "cell_type": "code",
   "execution_count": 29,
   "id": "edcfaa77",
   "metadata": {},
   "outputs": [
    {
     "name": "stdout",
     "output_type": "stream",
     "text": [
      "Processing publication 1 (0.0%)\n",
      "Processing publication 455 (1.0%)\n",
      "Processing publication 909 (2.0%)\n",
      "Processing publication 1363 (3.0%)\n",
      "Processing publication 1817 (4.0%)\n",
      "Processing publication 2271 (5.0%)\n",
      "Processing publication 2725 (6.0%)\n",
      "Processing publication 3179 (7.0%)\n",
      "Processing publication 3633 (8.0%)\n",
      "Processing publication 4087 (9.0%)\n",
      "Processing publication 4541 (10.0%)\n",
      "Processing publication 4995 (11.0%)\n",
      "Processing publication 5449 (12.0%)\n",
      "Processing publication 5903 (13.0%)\n",
      "Processing publication 6357 (14.0%)\n",
      "Processing publication 6811 (15.0%)\n",
      "Processing publication 7265 (16.0%)\n",
      "Processing publication 7719 (17.0%)\n",
      "Processing publication 8173 (18.0%)\n",
      "Processing publication 8627 (19.0%)\n",
      "Processing publication 9081 (20.0%)\n",
      "Processing publication 9535 (21.0%)\n",
      "Processing publication 9989 (22.0%)\n",
      "Processing publication 10443 (22.9%)\n",
      "Processing publication 10897 (23.9%)\n",
      "Processing publication 11351 (24.9%)\n",
      "Processing publication 11805 (25.9%)\n",
      "Processing publication 12259 (26.9%)\n",
      "Processing publication 12713 (27.9%)\n",
      "Processing publication 13167 (28.9%)\n",
      "Processing publication 13621 (29.9%)\n",
      "Processing publication 14075 (30.9%)\n",
      "Processing publication 14529 (31.9%)\n",
      "Processing publication 14983 (32.9%)\n",
      "Processing publication 15437 (33.9%)\n",
      "Processing publication 15891 (34.9%)\n",
      "Processing publication 16345 (35.9%)\n",
      "Processing publication 16799 (36.9%)\n",
      "Processing publication 17253 (37.9%)\n",
      "Processing publication 17707 (38.9%)\n",
      "Processing publication 18161 (39.9%)\n",
      "Processing publication 18615 (40.9%)\n",
      "Processing publication 19069 (41.9%)\n",
      "Processing publication 19523 (42.9%)\n",
      "Processing publication 19977 (43.9%)\n",
      "Processing publication 20431 (44.9%)\n",
      "Processing publication 20885 (45.9%)\n",
      "Processing publication 21339 (46.9%)\n",
      "Processing publication 21793 (47.9%)\n",
      "Processing publication 22247 (48.9%)\n",
      "Processing publication 22701 (49.9%)\n",
      "Processing publication 23155 (50.9%)\n",
      "Processing publication 23609 (51.9%)\n",
      "Processing publication 24063 (52.9%)\n",
      "Processing publication 24517 (53.9%)\n",
      "Processing publication 24971 (54.9%)\n",
      "Processing publication 25425 (55.9%)\n",
      "Processing publication 25879 (56.9%)\n",
      "Processing publication 26333 (57.9%)\n",
      "Processing publication 26787 (58.9%)\n",
      "Processing publication 27241 (59.9%)\n",
      "Processing publication 27695 (60.9%)\n",
      "Processing publication 28149 (61.9%)\n",
      "Processing publication 28603 (62.9%)\n",
      "Processing publication 29057 (63.9%)\n",
      "Processing publication 29511 (64.9%)\n",
      "Processing publication 29965 (65.9%)\n",
      "Processing publication 30419 (66.9%)\n",
      "Processing publication 30873 (67.9%)\n",
      "Processing publication 31327 (68.8%)\n",
      "Processing publication 31781 (69.8%)\n",
      "Processing publication 32235 (70.8%)\n",
      "Processing publication 32689 (71.8%)\n",
      "Processing publication 33143 (72.8%)\n",
      "Processing publication 33597 (73.8%)\n",
      "Processing publication 34051 (74.8%)\n",
      "Processing publication 34505 (75.8%)\n",
      "Processing publication 34959 (76.8%)\n",
      "Processing publication 35413 (77.8%)\n",
      "Processing publication 35867 (78.8%)\n",
      "Processing publication 36321 (79.8%)\n",
      "Processing publication 36775 (80.8%)\n",
      "Processing publication 37229 (81.8%)\n",
      "Processing publication 37683 (82.8%)\n",
      "Processing publication 38137 (83.8%)\n",
      "Processing publication 38591 (84.8%)\n",
      "Processing publication 39045 (85.8%)\n",
      "Processing publication 39499 (86.8%)\n",
      "Processing publication 39953 (87.8%)\n",
      "Processing publication 40407 (88.8%)\n",
      "Processing publication 40861 (89.8%)\n",
      "Processing publication 41315 (90.8%)\n",
      "Processing publication 41769 (91.8%)\n",
      "Processing publication 42223 (92.8%)\n",
      "Processing publication 42677 (93.8%)\n",
      "Processing publication 43131 (94.8%)\n",
      "Processing publication 43585 (95.8%)\n",
      "Processing publication 44039 (96.8%)\n",
      "Processing publication 44493 (97.8%)\n",
      "Processing publication 44947 (98.8%)\n",
      "Processing publication 45401 (99.8%)\n",
      "Inserted 45499 embeddings into publications_vec_all_MiniLM_L6_v2\n"
     ]
    }
   ],
   "source": [
    "# Get publications data and generate embeddings\n",
    "publications = db.execute(\"SELECT id, title, abstract FROM publications\").fetchall()\n",
    "\n",
    "for pub_id, title, abstract in publications:\n",
    "    # Print progress every 1% processed\n",
    "    if (pub_id - 1) % max(1, len(publications) // 100) == 0:\n",
    "        print(f\"Processing publication {pub_id} ({((pub_id - 1) / len(publications) * 100):.1f}%)\")\n",
    "        \n",
    "    # Check if embedding already exists\n",
    "    existing = db.execute(\n",
    "        \"SELECT 1 FROM publications_vec_all_MiniLM_L6_v2 WHERE publication_id = ?\", \n",
    "        (pub_id,)\n",
    "    ).fetchone()\n",
    "\n",
    "    if existing:\n",
    "        continue\n",
    "    \n",
    "    # Create merged string\n",
    "    text = f\"{title}: {abstract}\"\n",
    "    \n",
    "    # Generate embedding\n",
    "    embedding = model.encode(text)\n",
    "    \n",
    "    # Insert into vector table\n",
    "    db.execute(\n",
    "        \"INSERT INTO publications_vec_all_MiniLM_L6_v2 (publication_id, embedding) VALUES (?, ?)\",\n",
    "        (pub_id, embedding)\n",
    "    )\n",
    "    \n",
    "    db.commit()\n",
    "\n",
    "db.commit()\n",
    "\n",
    "# vacuum\n",
    "db.execute(\"VACUUM\")\n",
    "print(f\"Inserted {len(publications)} embeddings into publications_vec_all_MiniLM_L6_v2\")"
   ]
  }
 ],
 "metadata": {
  "kernelspec": {
   "display_name": "nlp-thesis-similarity",
   "language": "python",
   "name": "python3"
  },
  "language_info": {
   "codemirror_mode": {
    "name": "ipython",
    "version": 3
   },
   "file_extension": ".py",
   "mimetype": "text/x-python",
   "name": "python",
   "nbconvert_exporter": "python",
   "pygments_lexer": "ipython3",
   "version": "3.13.3"
  }
 },
 "nbformat": 4,
 "nbformat_minor": 5
}
