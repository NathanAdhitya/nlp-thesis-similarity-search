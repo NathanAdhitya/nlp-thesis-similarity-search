{
 "cells": [
  {
   "cell_type": "code",
   "execution_count": 1,
   "id": "5a4eb10c",
   "metadata": {},
   "outputs": [
    {
     "name": "stdout",
     "output_type": "stream",
     "text": [
      "Requirement already satisfied: sqlite-vec in c:\\users\\2ndro\\anaconda3\\envs\\nlp-thesis-similarity\\lib\\site-packages (0.1.6)\n",
      "Note: you may need to restart the kernel to use updated packages.\n"
     ]
    }
   ],
   "source": [
    "%pip install sqlite-vec"
   ]
  },
  {
   "cell_type": "code",
   "execution_count": 2,
   "id": "c4aff6c9",
   "metadata": {},
   "outputs": [
    {
     "name": "stdout",
     "output_type": "stream",
     "text": [
      "Requirement already satisfied: deep-translator in c:\\users\\2ndro\\anaconda3\\envs\\nlp-thesis-similarity\\lib\\site-packages (1.11.4)\n",
      "Requirement already satisfied: beautifulsoup4<5.0.0,>=4.9.1 in c:\\users\\2ndro\\anaconda3\\envs\\nlp-thesis-similarity\\lib\\site-packages (from deep-translator) (4.13.4)\n",
      "Requirement already satisfied: requests<3.0.0,>=2.23.0 in c:\\users\\2ndro\\anaconda3\\envs\\nlp-thesis-similarity\\lib\\site-packages (from deep-translator) (2.32.3)\n",
      "Requirement already satisfied: soupsieve>1.2 in c:\\users\\2ndro\\anaconda3\\envs\\nlp-thesis-similarity\\lib\\site-packages (from beautifulsoup4<5.0.0,>=4.9.1->deep-translator) (2.7)\n",
      "Requirement already satisfied: typing-extensions>=4.0.0 in c:\\users\\2ndro\\anaconda3\\envs\\nlp-thesis-similarity\\lib\\site-packages (from beautifulsoup4<5.0.0,>=4.9.1->deep-translator) (4.13.2)\n",
      "Requirement already satisfied: charset-normalizer<4,>=2 in c:\\users\\2ndro\\anaconda3\\envs\\nlp-thesis-similarity\\lib\\site-packages (from requests<3.0.0,>=2.23.0->deep-translator) (3.4.2)\n",
      "Requirement already satisfied: idna<4,>=2.5 in c:\\users\\2ndro\\anaconda3\\envs\\nlp-thesis-similarity\\lib\\site-packages (from requests<3.0.0,>=2.23.0->deep-translator) (3.10)\n",
      "Requirement already satisfied: urllib3<3,>=1.21.1 in c:\\users\\2ndro\\anaconda3\\envs\\nlp-thesis-similarity\\lib\\site-packages (from requests<3.0.0,>=2.23.0->deep-translator) (2.4.0)\n",
      "Requirement already satisfied: certifi>=2017.4.17 in c:\\users\\2ndro\\anaconda3\\envs\\nlp-thesis-similarity\\lib\\site-packages (from requests<3.0.0,>=2.23.0->deep-translator) (2025.4.26)\n",
      "Note: you may need to restart the kernel to use updated packages.\n"
     ]
    }
   ],
   "source": [
    "%pip install deep-translator"
   ]
  },
  {
   "cell_type": "code",
   "execution_count": 1,
   "id": "9e8f8338",
   "metadata": {},
   "outputs": [],
   "source": [
    "import sqlite3\n",
    "import sqlite_vec\n",
    "\n",
    "db = sqlite3.connect(\"../../data/cleaned_with_bge_m3.db\")\n",
    "db.enable_load_extension(True)\n",
    "sqlite_vec.load(db)\n",
    "db.enable_load_extension(False)"
   ]
  },
  {
   "cell_type": "code",
   "execution_count": 2,
   "id": "d014bb02",
   "metadata": {},
   "outputs": [
    {
     "data": {
      "text/plain": [
       "('v0.1.6',)"
      ]
     },
     "execution_count": 2,
     "metadata": {},
     "output_type": "execute_result"
    }
   ],
   "source": [
    "db.execute(\"SELECT vec_version()\").fetchone()"
   ]
  },
  {
   "cell_type": "code",
   "execution_count": 5,
   "id": "5d7e13d7",
   "metadata": {},
   "outputs": [
    {
     "name": "stdout",
     "output_type": "stream",
     "text": [
      "Columns in publications_vec_indobert table:\n",
      "- publication_id (Type: , Primary Key: Yes)\n",
      "- embedding (Type: , Primary Key: No)\n",
      "\n",
      "Sample data (first row):\n",
      "- publication_id: 1\n",
      "- embedding: Vector with 3072 elements\n",
      "  First few elements: b'cVr\\xbf\\xb7'...\n"
     ]
    }
   ],
   "source": [
    "# Get column information for the publications_vec_indobert table\n",
    "cursor = db.execute(\"PRAGMA table_info(publications_vec_indobert)\")\n",
    "columns = cursor.fetchall()\n",
    "\n",
    "# Print column information\n",
    "print(\"Columns in publications_vec_indobert table:\")\n",
    "for col in columns:\n",
    "    col_id, name, type_name, not_null, default_val, primary_key = col\n",
    "    print(f\"- {name} (Type: {type_name}, Primary Key: {'Yes' if primary_key else 'No'})\")\n",
    "\n",
    "# Get a sample row to see actual data (limit to 1 row)\n",
    "try:\n",
    "    sample = db.execute(\"SELECT * FROM publications_vec_indobert LIMIT 1\").fetchone()\n",
    "    if sample:\n",
    "        print(\"\\nSample data (first row):\")\n",
    "        for i, col in enumerate(columns):\n",
    "            col_name = col[1]\n",
    "            value = sample[i]\n",
    "            # For embedding vector, just show length or first few elements\n",
    "            if col_name == \"embedding\" and value is not None:\n",
    "                print(f\"- {col_name}: Vector with {len(value)} elements\")\n",
    "                print(f\"  First few elements: {value[:5]}...\")\n",
    "            else:\n",
    "                print(f\"- {col_name}: {value}\")\n",
    "    else:\n",
    "        print(\"\\nNo data in the table.\")\n",
    "except Exception as e:\n",
    "    print(f\"\\nError fetching sample: {e}\")"
   ]
  },
  {
   "cell_type": "code",
   "execution_count": 9,
   "id": "5ca799fc",
   "metadata": {},
   "outputs": [
    {
     "name": "stdout",
     "output_type": "stream",
     "text": [
      "Found 5 publications without embeddings in publications_vec_indobert table\n",
      "\n",
      "Publication ID: 559\n",
      "Title: Kartu ucapan \"selamat ulang tahun\", penutup roda mobil minuman ringan \"jelly\", leaflet mobil \"BMW\", poster festival musik \"pentas musik'98\", .......\n",
      "Abstract: None\n",
      "\n",
      "Publication ID: 727\n",
      "Title: Audit sumber daya manusia pada departemen produksi PT. Mustika Bahana Jaya di Lumajang\n",
      "Abstract: Penelitian mengenai Audit Sumber Daya Manusia Pada Departemen Produksi PT. Mustika Bahana Jaya di Lumajang bertujuan untuk mengetahui pelaksanaan fungsi SDM yang meliputi: perencanaan tenaga kerja, re...\n",
      "\n",
      "Publication ID: 750\n",
      "Title: Pembuatan perangkat lunak image morphing dengan menggunakan algoritma featured based image metamorphosis\n",
      "Abstract: Seiring dengan perkembangan teknologi pengolahan citra digital dan animasi dewasa ini, diperlukan adanya sebuah perangkat lunak yang dapat membantu pembuatan animasi. Sehingga dalam membuat sebuah ani...\n",
      "\n",
      "Publication ID: 1026\n",
      "Title: Perancangan komik bertema cerita fantasi dengan judul \"venandyrant - the light of hope\"\n",
      "Abstract: Selama ini, di dunia komik Indonesia banyak beredar komik dari negara lain maka perancangan ini diharapkan mampu menggugah insan komik Indonesia. Fantasi merupakan sebuah khayalan yang sangat mempenga...\n",
      "\n",
      "Publication ID: 10874\n",
      "Title: Some language differences in man's and woman's sppeches as seen from the characters of Noel Coward's play : private lives through sociolinguistic approach\n",
      "Abstract: Private Lives is the story of misadventures caused by an exchange of husbands and wives.The spouse is Elyot and Sibyl,and the other spouse is Victor and Amanda.Elyot is honeymooning with his second wi...\n"
     ]
    }
   ],
   "source": [
    "# Find publications without embeddings in publications_vec_indobert\n",
    "query = \"\"\"\n",
    "SELECT p.id, p.title, p.abstract \n",
    "FROM publications p\n",
    "LEFT JOIN publications_vec_indobert v ON p.id = v.publication_id\n",
    "WHERE v.publication_id IS NULL\n",
    "ORDER BY p.id\n",
    "\"\"\"\n",
    "\n",
    "missing_embeddings = db.execute(query).fetchall()\n",
    "\n",
    "# Print the count and details of publications without embeddings\n",
    "print(f\"Found {len(missing_embeddings)} publications without embeddings in publications_vec_indobert table\")\n",
    "\n",
    "# Print first 10 as samples\n",
    "for i, (pub_id, title, abstract) in enumerate(missing_embeddings[:10]):\n",
    "    print(f\"\\nPublication ID: {pub_id}\")\n",
    "    print(f\"Title: {title}\")\n",
    "    print(f\"Abstract: {abstract[:200]}...\" if abstract and len(abstract) > 200 else f\"Abstract: {abstract}\")\n",
    "    \n",
    "    if i >= 9 and len(missing_embeddings) > 10:\n",
    "        print(f\"\\n... and {len(missing_embeddings) - 10} more publications without embeddings\")"
   ]
  },
  {
   "cell_type": "code",
   "execution_count": null,
   "id": "c4de4c1b",
   "metadata": {},
   "outputs": [],
   "source": [
    "# db.execute(\"DROP TABLE IF EXISTS publications_vec_indobert\")\n",
    "# db.execute(\"\"\"\n",
    "# CREATE VIRTUAL TABLE publications_vec_indobert USING vec0(\n",
    "#     publication_id INTEGER PRIMARY KEY,\n",
    "#     embedding FLOAT[768] distance_metric=cosine\n",
    "# )\n",
    "# \"\"\")\n",
    "# db.commit()"
   ]
  },
  {
   "cell_type": "code",
   "execution_count": 11,
   "id": "f5fa2269",
   "metadata": {},
   "outputs": [
    {
     "name": "stderr",
     "output_type": "stream",
     "text": [
      "c:\\Users\\2ndro\\anaconda3\\envs\\nlp-thesis-similarity\\Lib\\site-packages\\tqdm\\auto.py:21: TqdmWarning: IProgress not found. Please update jupyter and ipywidgets. See https://ipywidgets.readthedocs.io/en/stable/user_install.html\n",
      "  from .autonotebook import tqdm as notebook_tqdm\n"
     ]
    },
    {
     "name": "stdout",
     "output_type": "stream",
     "text": [
      "SentenceTransformer(\n",
      "  (0): Transformer({'max_seq_length': 75, 'do_lower_case': False}) with Transformer model: BertModel \n",
      "  (1): Pooling({'word_embedding_dimension': 768, 'pooling_mode_cls_token': False, 'pooling_mode_mean_tokens': True, 'pooling_mode_max_tokens': False, 'pooling_mode_mean_sqrt_len_tokens': False, 'pooling_mode_weightedmean_tokens': False, 'pooling_mode_lasttoken': False, 'include_prompt': True})\n",
      ")\n",
      "768\n"
     ]
    }
   ],
   "source": [
    "from sentence_transformers import SentenceTransformer\n",
    "from deep_translator import GoogleTranslator\n",
    "\n",
    "model = SentenceTransformer('rahmanfadhil/indobert-finetuned-indonli')\n",
    "\n",
    "print(model)\n",
    "print(model.get_sentence_embedding_dimension())"
   ]
  },
  {
   "cell_type": "code",
   "execution_count": 7,
   "id": "98d31ac1",
   "metadata": {},
   "outputs": [
    {
     "name": "stdout",
     "output_type": "stream",
     "text": [
      "Tables in the database:\n",
      "- users\n",
      "- publications\n",
      "- sqlite_sequence\n",
      "- publication_user_mapping\n",
      "- publications_vec_bge_m3_info\n",
      "- publications_vec_bge_m3_chunks\n",
      "- publications_vec_bge_m3_rowids\n",
      "- publications_vec_bge_m3_vector_chunks00\n",
      "- publications_vec_all_MiniLM_L6_v2_info\n",
      "- publications_vec_all_MiniLM_L6_v2_chunks\n",
      "- publications_vec_all_MiniLM_L6_v2_rowids\n",
      "- publications_vec_all_MiniLM_L6_v2_vector_chunks00\n",
      "- publications_vec_bge_m3\n",
      "- publications_vec_all_MiniLM_L6_v2\n",
      "- publications_vec_indobert\n",
      "- publications_vec_indobert_info\n",
      "- publications_vec_indobert_chunks\n",
      "- publications_vec_indobert_rowids\n",
      "- publications_vec_indobert_vector_chunks00\n",
      "\n",
      "Virtual tables:\n",
      "- publications_vec_bge_m3\n",
      "- publications_vec_all_MiniLM_L6_v2\n",
      "- publications_vec_indobert\n"
     ]
    }
   ],
   "source": [
    "# Query to get all tables in the database\n",
    "tables = db.execute(\"SELECT name FROM sqlite_master WHERE type='table'\").fetchall()\n",
    "\n",
    "# Print the table names\n",
    "print(\"Tables in the database:\")\n",
    "for table in tables:\n",
    "    print(f\"- {table[0]}\")\n",
    "\n",
    "# Also get the virtual tables\n",
    "virtual_tables = db.execute(\"SELECT name FROM sqlite_master WHERE type='table' AND sql LIKE '%VIRTUAL TABLE%'\").fetchall()\n",
    "if virtual_tables:\n",
    "    print(\"\\nVirtual tables:\")\n",
    "    for table in virtual_tables:\n",
    "        print(f\"- {table[0]}\")"
   ]
  },
  {
   "cell_type": "code",
   "execution_count": 8,
   "id": "05217bc3",
   "metadata": {},
   "outputs": [
    {
     "name": "stdout",
     "output_type": "stream",
     "text": [
      "(1, 768)\n",
      "haha\n",
      "(768,)\n"
     ]
    }
   ],
   "source": [
    "# print(model.encode([\"Hello world!\"])[:10])\n",
    "# print(\"haha\")\n",
    "# print(model.encode(\"Hello world!\")[:10])\n",
    "\n",
    "print(model.encode([\"Hello world!\"]).shape)\n",
    "print(\"haha\")\n",
    "print(model.encode(\"Hello world!\").shape)\n",
    "# print(model.encode(\"Hello world!\")[0])"
   ]
  },
  {
   "cell_type": "code",
   "execution_count": 14,
   "id": "edcfaa77",
   "metadata": {},
   "outputs": [
    {
     "name": "stdout",
     "output_type": "stream",
     "text": [
      "Processing publication 1 (0.0%)\n",
      "Processing publication 455 (1.0%)\n",
      "Processing publication 909 (2.0%)\n",
      "Processing publication 1363 (3.0%)\n",
      "Processing publication 1817 (4.0%)\n",
      "Processing publication 2271 (5.0%)\n",
      "Processing publication 2725 (6.0%)\n",
      "Processing publication 3179 (7.0%)\n",
      "Processing publication 3633 (8.0%)\n",
      "Processing publication 4087 (9.0%)\n",
      "Processing publication 4541 (10.0%)\n",
      "Processing publication 4995 (11.0%)\n",
      "Processing publication 5449 (12.0%)\n",
      "Processing publication 5903 (13.0%)\n",
      "Processing publication 6357 (14.0%)\n",
      "Processing publication 6811 (15.0%)\n",
      "Processing publication 7265 (16.0%)\n",
      "Processing publication 7719 (17.0%)\n",
      "Processing publication 8173 (18.0%)\n",
      "Processing publication 8627 (19.0%)\n",
      "Processing publication 9081 (20.0%)\n",
      "Processing publication 9535 (21.0%)\n",
      "Processing publication 9989 (22.0%)\n",
      "Processing publication 10443 (22.9%)\n",
      "Processing publication 10897 (23.9%)\n",
      "Processing publication 11351 (24.9%)\n",
      "Processing publication 11805 (25.9%)\n",
      "Processing publication 12259 (26.9%)\n",
      "Processing publication 12713 (27.9%)\n",
      "Processing publication 13167 (28.9%)\n",
      "Processing publication 13621 (29.9%)\n",
      "Processing publication 14075 (30.9%)\n",
      "Processing publication 14529 (31.9%)\n",
      "Processing publication 14983 (32.9%)\n",
      "Processing publication 15437 (33.9%)\n",
      "Processing publication 15891 (34.9%)\n",
      "Processing publication 16345 (35.9%)\n",
      "Processing publication 16799 (36.9%)\n",
      "Processing publication 17253 (37.9%)\n",
      "Processing publication 17707 (38.9%)\n",
      "Processing publication 18161 (39.9%)\n",
      "Processing publication 18615 (40.9%)\n",
      "Processing publication 19069 (41.9%)\n",
      "Processing publication 19523 (42.9%)\n",
      "Processing publication 19977 (43.9%)\n",
      "Processing publication 20431 (44.9%)\n",
      "Processing publication 20885 (45.9%)\n",
      "Processing publication 21339 (46.9%)\n",
      "Processing publication 21793 (47.9%)\n",
      "Processing publication 22247 (48.9%)\n",
      "Processing publication 22701 (49.9%)\n",
      "Processing publication 23155 (50.9%)\n",
      "Processing publication 23609 (51.9%)\n",
      "Processing publication 24063 (52.9%)\n",
      "Processing publication 24517 (53.9%)\n",
      "Processing publication 24971 (54.9%)\n",
      "Processing publication 25425 (55.9%)\n",
      "Processing publication 25879 (56.9%)\n",
      "Processing publication 26333 (57.9%)\n",
      "Processing publication 26787 (58.9%)\n",
      "Processing publication 27241 (59.9%)\n",
      "Processing publication 27695 (60.9%)\n",
      "Processing publication 28149 (61.9%)\n",
      "Processing publication 28603 (62.9%)\n",
      "Processing publication 29057 (63.9%)\n",
      "Processing publication 29511 (64.9%)\n",
      "Processing publication 29965 (65.9%)\n",
      "Processing publication 30419 (66.9%)\n",
      "Processing publication 30873 (67.9%)\n",
      "Processing publication 31327 (68.8%)\n",
      "Processing publication 31781 (69.8%)\n",
      "Processing publication 32235 (70.8%)\n",
      "Processing publication 32689 (71.8%)\n",
      "Processing publication 33143 (72.8%)\n",
      "Processing publication 33597 (73.8%)\n",
      "Processing publication 34051 (74.8%)\n",
      "Processing publication 34505 (75.8%)\n",
      "Processing publication 34959 (76.8%)\n",
      "Processing publication 35413 (77.8%)\n",
      "Processing publication 35867 (78.8%)\n",
      "Processing publication 36321 (79.8%)\n",
      "Processing publication 36775 (80.8%)\n",
      "Processing publication 37229 (81.8%)\n",
      "Processing publication 37683 (82.8%)\n",
      "Processing publication 38137 (83.8%)\n",
      "Processing publication 38591 (84.8%)\n",
      "Processing publication 39045 (85.8%)\n",
      "Processing publication 39499 (86.8%)\n",
      "Processing publication 39953 (87.8%)\n",
      "Processing publication 40407 (88.8%)\n",
      "Processing publication 40861 (89.8%)\n",
      "Processing publication 41315 (90.8%)\n",
      "Processing publication 41769 (91.8%)\n",
      "Processing publication 42223 (92.8%)\n",
      "Processing publication 42677 (93.8%)\n",
      "Processing publication 43131 (94.8%)\n",
      "Processing publication 43585 (95.8%)\n",
      "Processing publication 44039 (96.8%)\n",
      "Processing publication 44493 (97.8%)\n",
      "Processing publication 44947 (98.8%)\n",
      "Processing publication 45401 (99.8%)\n",
      "Inserted embeddings into publications_vec_indobert\n"
     ]
    }
   ],
   "source": [
    "# Get publications data and generate embeddings\n",
    "publications = db.execute(\"SELECT id, title, abstract FROM publications\").fetchall()\n",
    "\n",
    "# Create translator instance once outside the loop\n",
    "translator = GoogleTranslator(source='auto', target='indonesian')\n",
    "\n",
    "for pub_id, title, abstract in publications:\n",
    "    # Print progress every 1% processed\n",
    "    if (pub_id - 1) % max(1, len(publications) // 100) == 0:\n",
    "        print(f\"Processing publication {pub_id} ({((pub_id - 1) / len(publications) * 100):.1f}%)\")\n",
    "        \n",
    "    # Check if embedding already exists\n",
    "    existing = db.execute(\n",
    "        \"SELECT 1 FROM publications_vec_indobert WHERE publication_id = ?\", \n",
    "        (pub_id,)\n",
    "    ).fetchone()\n",
    "\n",
    "    if existing:\n",
    "        continue\n",
    "    \n",
    "    # Create merged string\n",
    "    text = f\"{title}: {abstract}\"\n",
    "    \n",
    "    # Translate text to Indonesian\n",
    "    try:\n",
    "        translated_text = translator.translate(text)\n",
    "        # print(f\"Translated text for publication {pub_id}\")\n",
    "        \n",
    "        print(translated_text[:1000])  # Print first 1000 characters of translated text for debugging\n",
    "        \n",
    "        # Generate embedding for the translated text\n",
    "        embedding = model.encode(translated_text)\n",
    "        \n",
    "        print(f\"Generated embedding for publication {pub_id} with shape {embedding.shape}\")\n",
    "        \n",
    "        # Insert into vector table\n",
    "        db.execute(\n",
    "            \"INSERT INTO publications_vec_indobert (publication_id, embedding) VALUES (?, ?)\",\n",
    "            (pub_id, embedding)\n",
    "        )\n",
    "        \n",
    "        print(f\"Inserted embedding for publication {pub_id}\")\n",
    "        \n",
    "        db.commit()\n",
    "        \n",
    "    except Exception as e:\n",
    "        print(f\"Translation error for publication {pub_id}: {e}\")\n",
    "        print(f\"Skipping embedding generation for publication {pub_id}\")\n",
    "        # Skip embedding generation if translation fails\n",
    "        continue\n",
    "\n",
    "db.commit()\n",
    "\n",
    "# vacuum\n",
    "db.execute(\"VACUUM\")\n",
    "print(f\"Inserted embeddings into publications_vec_indobert\")"
   ]
  }
 ],
 "metadata": {
  "kernelspec": {
   "display_name": "nlp-thesis-similarity",
   "language": "python",
   "name": "python3"
  },
  "language_info": {
   "codemirror_mode": {
    "name": "ipython",
    "version": 3
   },
   "file_extension": ".py",
   "mimetype": "text/x-python",
   "name": "python",
   "nbconvert_exporter": "python",
   "pygments_lexer": "ipython3",
   "version": "3.13.3"
  }
 },
 "nbformat": 4,
 "nbformat_minor": 5
}
