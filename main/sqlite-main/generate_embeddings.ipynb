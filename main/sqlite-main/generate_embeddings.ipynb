{
 "cells": [
  {
   "cell_type": "code",
   "execution_count": 1,
   "id": "5a4eb10c",
   "metadata": {},
   "outputs": [
    {
     "name": "stdout",
     "output_type": "stream",
     "text": [
      "Requirement already satisfied: sqlite-vec in c:\\users\\nathan adhitya\\documents\\nlp-thesis-similarity-search\\.venv\\lib\\site-packages (0.1.6)\n",
      "Note: you may need to restart the kernel to use updated packages.\n"
     ]
    }
   ],
   "source": [
    "%pip install sqlite-vec"
   ]
  },
  {
   "cell_type": "code",
   "execution_count": 2,
   "id": "9e8f8338",
   "metadata": {},
   "outputs": [],
   "source": [
    "import sqlite3\n",
    "import sqlite_vec\n",
    "\n",
    "db = sqlite3.connect(\"../../data/cleaned.db\")\n",
    "db.enable_load_extension(True)\n",
    "sqlite_vec.load(db)\n",
    "db.enable_load_extension(False)"
   ]
  },
  {
   "cell_type": "code",
   "execution_count": 6,
   "id": "d014bb02",
   "metadata": {},
   "outputs": [
    {
     "data": {
      "text/plain": [
       "('v0.1.6',)"
      ]
     },
     "execution_count": 6,
     "metadata": {},
     "output_type": "execute_result"
    }
   ],
   "source": [
    "db.execute(\"SELECT vec_version()\").fetchone()"
   ]
  },
  {
   "cell_type": "code",
   "execution_count": null,
   "id": "c4de4c1b",
   "metadata": {
    "vscode": {
     "languageId": "cmake"
    }
   },
   "outputs": [],
   "source": [
    "db.execute(\"DROP TABLE IF EXISTS publications_vec_bge_m3\")\n",
    "db.execute(\"\"\"\n",
    "CREATE VIRTUAL TABLE publications_vec_bge_m3 USING vec0(\n",
    "    publication_id INTEGER PRIMARY KEY,\n",
    "    embedding FLOAT[1024] distance_metric=cosine\n",
    ")\n",
    "\"\"\")\n",
    "db.commit()"
   ]
  },
  {
   "cell_type": "code",
   "execution_count": 7,
   "id": "f5fa2269",
   "metadata": {},
   "outputs": [
    {
     "data": {
      "application/vnd.jupyter.widget-view+json": {
       "model_id": "a2d06932ec1a49e598e2c404da58b008",
       "version_major": 2,
       "version_minor": 0
      },
      "text/plain": [
       "Fetching 30 files:   0%|          | 0/30 [00:00<?, ?it/s]"
      ]
     },
     "metadata": {},
     "output_type": "display_data"
    },
    {
     "name": "stdout",
     "output_type": "stream",
     "text": [
      "<FlagEmbedding.inference.embedder.encoder_only.m3.M3Embedder object at 0x0000018E24F59B50>\n"
     ]
    }
   ],
   "source": [
    "# Generate embeddings for the publications\n",
    "from FlagEmbedding import BGEM3FlagModel\n",
    "\n",
    "model = BGEM3FlagModel('BAAI/bge-m3',  \n",
    "                       use_fp16=True) # Setting use_fp16 to True speeds up computation with a slight performance degradation\n",
    "\n",
    "print(model)"
   ]
  },
  {
   "cell_type": "code",
   "execution_count": 12,
   "id": "edcfaa77",
   "metadata": {},
   "outputs": [
    {
     "name": "stdout",
     "output_type": "stream",
     "text": [
      "Processing publication 1 (0.0%)\n",
      "Processing publication 455 (1.0%)\n",
      "Processing publication 909 (2.0%)\n",
      "Processing publication 1363 (3.0%)\n",
      "Processing publication 1817 (4.0%)\n",
      "Processing publication 2271 (5.0%)\n",
      "Processing publication 2725 (6.0%)\n",
      "Processing publication 3179 (7.0%)\n",
      "Processing publication 3633 (8.0%)\n",
      "Processing publication 4087 (9.0%)\n",
      "Processing publication 4541 (10.0%)\n",
      "Processing publication 4995 (11.0%)\n",
      "Processing publication 5449 (12.0%)\n",
      "Processing publication 5903 (13.0%)\n",
      "Processing publication 6357 (14.0%)\n",
      "Processing publication 6811 (15.0%)\n",
      "Processing publication 7265 (16.0%)\n",
      "Processing publication 7719 (17.0%)\n",
      "Processing publication 8173 (18.0%)\n",
      "Processing publication 8627 (19.0%)\n",
      "Processing publication 9081 (20.0%)\n",
      "Processing publication 9535 (21.0%)\n",
      "Processing publication 9989 (22.0%)\n",
      "Processing publication 10443 (22.9%)\n",
      "Processing publication 10897 (23.9%)\n",
      "Processing publication 11351 (24.9%)\n",
      "Processing publication 11805 (25.9%)\n",
      "Processing publication 12259 (26.9%)\n",
      "Processing publication 12713 (27.9%)\n",
      "Processing publication 13167 (28.9%)\n",
      "Processing publication 13621 (29.9%)\n",
      "Processing publication 14075 (30.9%)\n",
      "Processing publication 14529 (31.9%)\n",
      "Processing publication 14983 (32.9%)\n",
      "Processing publication 15437 (33.9%)\n",
      "Processing publication 15891 (34.9%)\n",
      "Processing publication 16345 (35.9%)\n",
      "Processing publication 16799 (36.9%)\n",
      "Processing publication 17253 (37.9%)\n",
      "Processing publication 17707 (38.9%)\n",
      "Processing publication 18161 (39.9%)\n",
      "Processing publication 18615 (40.9%)\n",
      "Processing publication 19069 (41.9%)\n",
      "Processing publication 19523 (42.9%)\n",
      "Processing publication 19977 (43.9%)\n",
      "Processing publication 20431 (44.9%)\n",
      "Processing publication 20885 (45.9%)\n",
      "Processing publication 21339 (46.9%)\n",
      "Processing publication 21793 (47.9%)\n",
      "Processing publication 22247 (48.9%)\n",
      "Processing publication 22701 (49.9%)\n",
      "Processing publication 23155 (50.9%)\n",
      "Processing publication 23609 (51.9%)\n",
      "Processing publication 24063 (52.9%)\n",
      "Processing publication 24517 (53.9%)\n",
      "Processing publication 24971 (54.9%)\n",
      "Processing publication 25425 (55.9%)\n",
      "Processing publication 25879 (56.9%)\n",
      "Processing publication 26333 (57.9%)\n",
      "Processing publication 26787 (58.9%)\n",
      "Processing publication 27241 (59.9%)\n",
      "Processing publication 27695 (60.9%)\n",
      "Processing publication 28149 (61.9%)\n",
      "Processing publication 28603 (62.9%)\n",
      "Processing publication 29057 (63.9%)\n",
      "Processing publication 29511 (64.9%)\n",
      "Processing publication 29965 (65.9%)\n",
      "Processing publication 30419 (66.9%)\n",
      "Processing publication 30873 (67.9%)\n",
      "Processing publication 31327 (68.8%)\n",
      "Processing publication 31781 (69.8%)\n",
      "Processing publication 32235 (70.8%)\n",
      "Processing publication 32689 (71.8%)\n",
      "Processing publication 33143 (72.8%)\n",
      "Processing publication 33597 (73.8%)\n",
      "Processing publication 34051 (74.8%)\n",
      "Processing publication 34505 (75.8%)\n",
      "Processing publication 34959 (76.8%)\n",
      "Processing publication 35413 (77.8%)\n",
      "Processing publication 35867 (78.8%)\n",
      "Processing publication 36321 (79.8%)\n",
      "Processing publication 36775 (80.8%)\n",
      "Processing publication 37229 (81.8%)\n",
      "Processing publication 37683 (82.8%)\n",
      "Processing publication 38137 (83.8%)\n",
      "Processing publication 38591 (84.8%)\n",
      "Processing publication 39045 (85.8%)\n",
      "Processing publication 39499 (86.8%)\n",
      "Processing publication 39953 (87.8%)\n",
      "Processing publication 40407 (88.8%)\n",
      "Processing publication 40861 (89.8%)\n",
      "Processing publication 41315 (90.8%)\n",
      "Processing publication 41769 (91.8%)\n",
      "Processing publication 42223 (92.8%)\n",
      "Processing publication 42677 (93.8%)\n",
      "Processing publication 43131 (94.8%)\n",
      "Processing publication 43585 (95.8%)\n",
      "Processing publication 44039 (96.8%)\n",
      "Processing publication 44493 (97.8%)\n",
      "Processing publication 44947 (98.8%)\n",
      "Processing publication 45401 (99.8%)\n",
      "Inserted 45499 embeddings into publications_vec_bge_m3\n"
     ]
    }
   ],
   "source": [
    "# Get publications data and generate embeddings\n",
    "publications = db.execute(\"SELECT id, title, abstract FROM publications\").fetchall()\n",
    "\n",
    "for pub_id, title, abstract in publications:\n",
    "    # Print progress every 1% processed\n",
    "    if (pub_id - 1) % max(1, len(publications) // 100) == 0:\n",
    "        print(f\"Processing publication {pub_id} ({((pub_id - 1) / len(publications) * 100):.1f}%)\")\n",
    "        \n",
    "    # Check if embedding already exists\n",
    "    existing = db.execute(\n",
    "        \"SELECT 1 FROM publications_vec_bge_m3 WHERE publication_id = ?\", \n",
    "        (pub_id,)\n",
    "    ).fetchone()\n",
    "\n",
    "    if existing:\n",
    "        continue\n",
    "    \n",
    "    # Create merged string\n",
    "    text = f\"{title}: {abstract}\"\n",
    "    \n",
    "    # Generate embedding\n",
    "    embedding = model.encode([text])['dense_vecs'][0]\n",
    "    \n",
    "        \n",
    "    # Insert into vector table\n",
    "    db.execute(\n",
    "        \"INSERT INTO publications_vec_bge_m3 (publication_id, embedding) VALUES (?, ?)\",\n",
    "        (pub_id, embedding)\n",
    "    )\n",
    "    \n",
    "    db.commit()\n",
    "\n",
    "db.commit()\n",
    "\n",
    "# vacuum\n",
    "db.execute(\"VACUUM\")\n",
    "print(f\"Inserted {len(publications)} embeddings into publications_vec_bge_m3\")"
   ]
  }
 ],
 "metadata": {
  "kernelspec": {
   "display_name": ".venv",
   "language": "python",
   "name": "python3"
  },
  "language_info": {
   "codemirror_mode": {
    "name": "ipython",
    "version": 3
   },
   "file_extension": ".py",
   "mimetype": "text/x-python",
   "name": "python",
   "nbconvert_exporter": "python",
   "pygments_lexer": "ipython3",
   "version": "3.12.1"
  }
 },
 "nbformat": 4,
 "nbformat_minor": 5
}
