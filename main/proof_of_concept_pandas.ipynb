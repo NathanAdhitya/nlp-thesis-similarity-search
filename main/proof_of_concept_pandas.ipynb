{
 "cells": [
  {
   "cell_type": "code",
   "execution_count": 3,
   "id": "3fc42297",
   "metadata": {},
   "outputs": [
    {
     "name": "stderr",
     "output_type": "stream",
     "text": [
      "c:\\Users\\2ndro\\anaconda3\\envs\\nlp-thesis-similarity\\Lib\\site-packages\\tqdm\\auto.py:21: TqdmWarning: IProgress not found. Please update jupyter and ipywidgets. See https://ipywidgets.readthedocs.io/en/stable/user_install.html\n",
      "  from .autonotebook import tqdm as notebook_tqdm\n"
     ]
    }
   ],
   "source": [
    "import csv\n",
    "import pandas as pd\n",
    "# from FlagEmbedding import BGEM3FlagModel\n",
    "from sentence_transformers import SentenceTransformer"
   ]
  },
  {
   "cell_type": "code",
   "execution_count": 4,
   "id": "52bb3f74",
   "metadata": {},
   "outputs": [],
   "source": [
    "def loadAdvisors(input_file) -> pd.DataFrame:\n",
    "    return pd.read_csv(input_file)\n",
    "\n",
    "def loadPapers(input_file) -> pd.DataFrame:\n",
    "    return pd.read_csv(input_file)"
   ]
  },
  {
   "cell_type": "code",
   "execution_count": 5,
   "id": "a4c7d52c",
   "metadata": {},
   "outputs": [],
   "source": [
    "def preprocessPapers(papers_df: pd.DataFrame, model) -> pd.DataFrame:\n",
    "    \"\"\"\n",
    "    Preprocess the papers DataFrame. Generate the Embedding of the title and abstract.\n",
    "    \"\"\"\n",
    "    # Create a copy to avoid modifying the original\n",
    "    # df_processed = papers_df.copy()\n",
    "    \n",
    "    # Define a function to generate embedding for a row\n",
    "    def generate_row_embedding(row):\n",
    "        return model.encode(row['title'] + \" \" + row['abstract'])\n",
    "    \n",
    "    # Apply the function to each row to create the embedding column\n",
    "    papers_df['embedding'] = papers_df.apply(generate_row_embedding, axis=1)\n",
    "    \n",
    "    return papers_df"
   ]
  },
  {
   "cell_type": "code",
   "execution_count": 12,
   "id": "a54c574c",
   "metadata": {},
   "outputs": [
    {
     "name": "stdout",
     "output_type": "stream",
     "text": [
      "\n",
      " title                 Natural Language Processing for Automated Essa...\n",
      "abstract              This study explores the application of natural...\n",
      "advisor_scholar_id                                         HmDcu0MAAAAJ\n",
      "embedding             [-0.018476183, 0.013943252, -0.019873925, 0.01...\n",
      "Name: 1, dtype: object\n"
     ]
    }
   ],
   "source": [
    "advisors_df  = loadAdvisors(\"../data/authors.csv\")\n",
    "papers_df = loadPapers(\"../data/papers(example).csv\")\n",
    "\n",
    "# model = BGEM3FlagModel('BAAI/bge-m3', use_fp16=True)\n",
    "model = SentenceTransformer(\"all-MiniLM-L6-v2\")\n",
    "\n",
    "preprocessed_papers_df = preprocessPapers(papers_df, model)\n",
    "print(\"\\n\", preprocessed_papers_df.iloc[1])"
   ]
  },
  {
   "cell_type": "code",
   "execution_count": 27,
   "id": "2b9ef9bb",
   "metadata": {},
   "outputs": [
    {
     "name": "stdout",
     "output_type": "stream",
     "text": [
      "Sistem Pencarian Forum Berbasis Ontologi Dan Label: 0.056474991142749786\n",
      "Natural Language Processing for Automated Essay Scoring: 0.04940434545278549\n",
      "Blockchain-Based Framework for Secure Health Records: 0.17237482964992523\n",
      "Computer Vision Techniques for Urban Traffic Management: 0.040774472057819366\n",
      "Reinforcement Learning for Optimizing Energy Consumption in Smart Buildings: 0.10779222846031189\n"
     ]
    }
   ],
   "source": [
    "query = \"health\"\n",
    "query_embedding = model.encode(query)\n",
    "\n",
    "for i in range(len(preprocessed_papers_df)):\n",
    "    # Calculate the similarity between the query and each paper\n",
    "    similarity = query_embedding @ preprocessed_papers_df.iloc[i]['embedding'].T\n",
    "    print(f\"{preprocessed_papers_df.iloc[i]['title']}: {similarity}\")\n",
    "# print(similarity)\n",
    "\n"
   ]
  }
 ],
 "metadata": {
  "kernelspec": {
   "display_name": "nlp-thesis-similarity",
   "language": "python",
   "name": "python3"
  },
  "language_info": {
   "codemirror_mode": {
    "name": "ipython",
    "version": 3
   },
   "file_extension": ".py",
   "mimetype": "text/x-python",
   "name": "python",
   "nbconvert_exporter": "python",
   "pygments_lexer": "ipython3",
   "version": "3.13.3"
  }
 },
 "nbformat": 4,
 "nbformat_minor": 5
}
