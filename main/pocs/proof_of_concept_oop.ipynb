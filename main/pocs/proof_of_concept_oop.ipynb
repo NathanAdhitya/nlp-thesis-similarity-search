{
 "cells": [
  {
   "cell_type": "code",
   "execution_count": 42,
   "id": "3fc42297",
   "metadata": {},
   "outputs": [],
   "source": [
    "import csv\n",
    "from PIL import Image\n",
    "from IPython.display import display\n",
    "import requests\n",
    "from io import BytesIO"
   ]
  },
  {
   "cell_type": "code",
   "execution_count": 55,
   "id": "52bb3f74",
   "metadata": {},
   "outputs": [],
   "source": [
    "class Advisor:\n",
    "    def __init__(self, name, scholar_id, affiliation, email_domain, interests, citedby, url_picture) -> None:\n",
    "        self.name = name\n",
    "        self.scholar_id = scholar_id\n",
    "        self.affiliation = affiliation\n",
    "        self.email_domain = email_domain\n",
    "        self.interests = interests\n",
    "        self.citedby = citedby\n",
    "        self.url_picture = url_picture\n",
    "        # self.papers = []\n",
    "    def describe(self) -> None:\n",
    "        print(f\"Name: {self.name}\\nScholar ID: {self.scholar_id}\\nAffiliation: {self.affiliation}\\nEmail Domain: {self.email_domain}\\nInterests: {self.interests}\\nCited By: {self.citedby}\")\n",
    "        try:\n",
    "            response = requests.get(self.url_picture, stream=True)\n",
    "            response.raise_for_status()\n",
    "            img = Image.open(BytesIO(response.content))\n",
    "            display(img)\n",
    "        except requests.exceptions.RequestException as e:\n",
    "            print(f\"Error fetching image from {self.url_picture}: {e}\")\n",
    "        except IOError as e:\n",
    "            print(f\"Error opening image {self.url_picture}: {e}\")\n",
    "\n",
    "            \n",
    "\n",
    "class Paper:\n",
    "    def __init__(self, title, abstract, advisor_scholar_id) -> None:\n",
    "        self.title = title\n",
    "        self.abstract = abstract\n",
    "        self.advisor_scholar_id = advisor_scholar_id\n",
    "    def describe(self) -> None:\n",
    "        print(f\"Title: {self.title}\\nAbstract: {self.abstract}\\nAdvisor Scholar ID: {self.advisor_scholar_id}\")\n",
    "        \n",
    "def loadAdvisors(input_file) -> list:\n",
    "    \"\"\"\n",
    "    Load the advisors from a CSV file. Return a list of Advisor objects.\n",
    "    \"\"\"\n",
    "    advisors = []\n",
    "    with open(input_file, \"r\"):\n",
    "        reader = csv.DictReader(open(input_file, \"r\"))\n",
    "        for row in reader:\n",
    "            name = row[\"name\"]\n",
    "            scholar_id = row[\"scholar_id\"]\n",
    "            affiliation = row[\"affiliation\"]\n",
    "            email_domain = row[\"email_domain\"]\n",
    "            interests = row[\"interests\"]\n",
    "            citedby = int(row[\"citedby\"])\n",
    "            url_picture = row[\"url_picture\"]\n",
    "            advisor = Advisor(name, scholar_id, affiliation, email_domain, interests, citedby, url_picture)\n",
    "            advisors.append(advisor)\n",
    "    return advisors\n",
    "\n",
    "def loadPapers(input_file) -> list:\n",
    "    \"\"\"\n",
    "    Load the papers from a CSV file. Return a list of Paper objects.\n",
    "    \"\"\"\n",
    "    papers = []\n",
    "    with open(input_file, \"r\"):\n",
    "        reader = csv.DictReader(open(input_file, \"r\"))\n",
    "        for row in reader:\n",
    "            title = row[\"title\"]\n",
    "            abstract = row[\"abstract\"]\n",
    "            advisor_scholar_id = row[\"advisor_scholar_id\"]\n",
    "            paper = Paper(title, abstract, advisor_scholar_id)\n",
    "            papers.append(paper)                \n",
    "    return papers"
   ]
  },
  {
   "cell_type": "code",
   "execution_count": null,
   "id": "2b9ef9bb",
   "metadata": {},
   "outputs": [
    {
     "name": "stdout",
     "output_type": "stream",
     "text": [
      "Name: Djwantoro Hardjito\n",
      "Scholar ID: ih679EwAAAAJ\n",
      "Affiliation: Professor, Petra Christian University, Indonesia\n",
      "Email Domain: @petra.ac.id\n",
      "Interests: Geopolymer;Construction Materials;Concrete;Fly Ash;Mortar\n",
      "Cited By: 8329\n",
      "Error fetching image from https://scholar.google.com/citations?view_op=medium_photo&user=ih679EwAAAAJ: 429 Client Error: Too Many Requests for url: https://scholar.google.com/citations?view_op=medium_photo&user=ih679EwAAAAJ\n",
      "\n",
      "\n",
      "Title: Natural Language Processing for Automated Essay Scoring\n",
      "Abstract: This study explores the application of natural language processing techniques for automated essay scoring. Traditional methods of essay assessment are time-consuming and subject to human bias. We propose a machine learning approach that analyzes linguistic features, semantic coherence, and grammatical structure to provide consistent and objective scoring. Our model incorporates word embeddings, syntactic parsing, and discourse analysis to evaluate essays across multiple dimensions. Experimental results on a dataset of 10,000 student essays show that our approach achieves a correlation of 0.85 with human graders, outperforming existing automated systems. This research has significant implications for educational assessment, potentially reducing grading workload while maintaining evaluation quality.\n",
      "Advisor Scholar ID: HmDcu0MAAAAJ\n"
     ]
    }
   ],
   "source": [
    "advisors  = loadAdvisors(\"../data/authors.csv\")\n",
    "papers = loadPapers(\"../data/papers(example).csv\")\n",
    "\n",
    "query = \"Signature based malware detection\"\n",
    "\n",
    "advisors[0].describe()\n",
    "print(\"\\n\") \n",
    "papers[1].describe()"
   ]
  }
 ],
 "metadata": {
  "kernelspec": {
   "display_name": "tfrocm",
   "language": "python",
   "name": "python3"
  },
  "language_info": {
   "codemirror_mode": {
    "name": "ipython",
    "version": 3
   },
   "file_extension": ".py",
   "mimetype": "text/x-python",
   "name": "python",
   "nbconvert_exporter": "python",
   "pygments_lexer": "ipython3",
   "version": "3.9.21"
  }
 },
 "nbformat": 4,
 "nbformat_minor": 5
}
