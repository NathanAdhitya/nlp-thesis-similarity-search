{
 "cells": [
  {
   "cell_type": "code",
   "execution_count": 2,
   "id": "8d0568d0",
   "metadata": {},
   "outputs": [
    {
     "name": "stdout",
     "output_type": "stream",
     "text": [
      "Requirement already satisfied: FlagEmbedding in c:\\users\\nathan adhitya\\documents\\nlp-thesis-similarity-search\\.venv\\lib\\site-packages (1.3.4)\n",
      "Collecting transformers==4.51.3\n",
      "  Downloading transformers-4.51.3-py3-none-any.whl.metadata (38 kB)\n",
      "Requirement already satisfied: filelock in c:\\users\\nathan adhitya\\documents\\nlp-thesis-similarity-search\\.venv\\lib\\site-packages (from transformers==4.51.3) (3.18.0)\n",
      "Requirement already satisfied: huggingface-hub<1.0,>=0.30.0 in c:\\users\\nathan adhitya\\documents\\nlp-thesis-similarity-search\\.venv\\lib\\site-packages (from transformers==4.51.3) (0.32.0)\n",
      "Requirement already satisfied: numpy>=1.17 in c:\\users\\nathan adhitya\\documents\\nlp-thesis-similarity-search\\.venv\\lib\\site-packages (from transformers==4.51.3) (2.2.6)\n",
      "Requirement already satisfied: packaging>=20.0 in c:\\users\\nathan adhitya\\documents\\nlp-thesis-similarity-search\\.venv\\lib\\site-packages (from transformers==4.51.3) (25.0)\n",
      "Requirement already satisfied: pyyaml>=5.1 in c:\\users\\nathan adhitya\\documents\\nlp-thesis-similarity-search\\.venv\\lib\\site-packages (from transformers==4.51.3) (6.0.2)\n",
      "Requirement already satisfied: regex!=2019.12.17 in c:\\users\\nathan adhitya\\documents\\nlp-thesis-similarity-search\\.venv\\lib\\site-packages (from transformers==4.51.3) (2024.11.6)\n",
      "Requirement already satisfied: requests in c:\\users\\nathan adhitya\\documents\\nlp-thesis-similarity-search\\.venv\\lib\\site-packages (from transformers==4.51.3) (2.32.3)\n",
      "Requirement already satisfied: tokenizers<0.22,>=0.21 in c:\\users\\nathan adhitya\\documents\\nlp-thesis-similarity-search\\.venv\\lib\\site-packages (from transformers==4.51.3) (0.21.1)\n",
      "Requirement already satisfied: safetensors>=0.4.3 in c:\\users\\nathan adhitya\\documents\\nlp-thesis-similarity-search\\.venv\\lib\\site-packages (from transformers==4.51.3) (0.5.3)\n",
      "Requirement already satisfied: tqdm>=4.27 in c:\\users\\nathan adhitya\\documents\\nlp-thesis-similarity-search\\.venv\\lib\\site-packages (from transformers==4.51.3) (4.67.1)\n",
      "Requirement already satisfied: fsspec>=2023.5.0 in c:\\users\\nathan adhitya\\documents\\nlp-thesis-similarity-search\\.venv\\lib\\site-packages (from huggingface-hub<1.0,>=0.30.0->transformers==4.51.3) (2025.3.0)\n",
      "Requirement already satisfied: typing-extensions>=3.7.4.3 in c:\\users\\nathan adhitya\\documents\\nlp-thesis-similarity-search\\.venv\\lib\\site-packages (from huggingface-hub<1.0,>=0.30.0->transformers==4.51.3) (4.13.2)\n",
      "Requirement already satisfied: torch>=1.6.0 in c:\\users\\nathan adhitya\\documents\\nlp-thesis-similarity-search\\.venv\\lib\\site-packages (from FlagEmbedding) (2.7.0)\n",
      "Requirement already satisfied: datasets>=2.19.0 in c:\\users\\nathan adhitya\\documents\\nlp-thesis-similarity-search\\.venv\\lib\\site-packages (from FlagEmbedding) (3.6.0)\n",
      "Requirement already satisfied: accelerate>=0.20.1 in c:\\users\\nathan adhitya\\documents\\nlp-thesis-similarity-search\\.venv\\lib\\site-packages (from FlagEmbedding) (1.7.0)\n",
      "Requirement already satisfied: sentence_transformers in c:\\users\\nathan adhitya\\documents\\nlp-thesis-similarity-search\\.venv\\lib\\site-packages (from FlagEmbedding) (4.1.0)\n",
      "Requirement already satisfied: peft in c:\\users\\nathan adhitya\\documents\\nlp-thesis-similarity-search\\.venv\\lib\\site-packages (from FlagEmbedding) (0.15.2)\n",
      "Requirement already satisfied: ir-datasets in c:\\users\\nathan adhitya\\documents\\nlp-thesis-similarity-search\\.venv\\lib\\site-packages (from FlagEmbedding) (0.5.10)\n",
      "Requirement already satisfied: sentencepiece in c:\\users\\nathan adhitya\\documents\\nlp-thesis-similarity-search\\.venv\\lib\\site-packages (from FlagEmbedding) (0.2.0)\n",
      "Requirement already satisfied: protobuf in c:\\users\\nathan adhitya\\documents\\nlp-thesis-similarity-search\\.venv\\lib\\site-packages (from FlagEmbedding) (6.31.0)\n",
      "Requirement already satisfied: psutil in c:\\users\\nathan adhitya\\documents\\nlp-thesis-similarity-search\\.venv\\lib\\site-packages (from accelerate>=0.20.1->FlagEmbedding) (7.0.0)\n",
      "Requirement already satisfied: pyarrow>=15.0.0 in c:\\users\\nathan adhitya\\documents\\nlp-thesis-similarity-search\\.venv\\lib\\site-packages (from datasets>=2.19.0->FlagEmbedding) (20.0.0)\n",
      "Requirement already satisfied: dill<0.3.9,>=0.3.0 in c:\\users\\nathan adhitya\\documents\\nlp-thesis-similarity-search\\.venv\\lib\\site-packages (from datasets>=2.19.0->FlagEmbedding) (0.3.8)\n",
      "Requirement already satisfied: pandas in c:\\users\\nathan adhitya\\documents\\nlp-thesis-similarity-search\\.venv\\lib\\site-packages (from datasets>=2.19.0->FlagEmbedding) (2.2.3)\n",
      "Requirement already satisfied: xxhash in c:\\users\\nathan adhitya\\documents\\nlp-thesis-similarity-search\\.venv\\lib\\site-packages (from datasets>=2.19.0->FlagEmbedding) (3.5.0)\n",
      "Requirement already satisfied: multiprocess<0.70.17 in c:\\users\\nathan adhitya\\documents\\nlp-thesis-similarity-search\\.venv\\lib\\site-packages (from datasets>=2.19.0->FlagEmbedding) (0.70.16)\n",
      "Requirement already satisfied: aiohttp!=4.0.0a0,!=4.0.0a1 in c:\\users\\nathan adhitya\\documents\\nlp-thesis-similarity-search\\.venv\\lib\\site-packages (from fsspec[http]<=2025.3.0,>=2023.1.0->datasets>=2.19.0->FlagEmbedding) (3.12.0)\n",
      "Requirement already satisfied: aiohappyeyeballs>=2.5.0 in c:\\users\\nathan adhitya\\documents\\nlp-thesis-similarity-search\\.venv\\lib\\site-packages (from aiohttp!=4.0.0a0,!=4.0.0a1->fsspec[http]<=2025.3.0,>=2023.1.0->datasets>=2.19.0->FlagEmbedding) (2.6.1)\n",
      "Requirement already satisfied: aiosignal>=1.1.2 in c:\\users\\nathan adhitya\\documents\\nlp-thesis-similarity-search\\.venv\\lib\\site-packages (from aiohttp!=4.0.0a0,!=4.0.0a1->fsspec[http]<=2025.3.0,>=2023.1.0->datasets>=2.19.0->FlagEmbedding) (1.3.2)\n",
      "Requirement already satisfied: attrs>=17.3.0 in c:\\users\\nathan adhitya\\documents\\nlp-thesis-similarity-search\\.venv\\lib\\site-packages (from aiohttp!=4.0.0a0,!=4.0.0a1->fsspec[http]<=2025.3.0,>=2023.1.0->datasets>=2.19.0->FlagEmbedding) (25.3.0)\n",
      "Requirement already satisfied: frozenlist>=1.1.1 in c:\\users\\nathan adhitya\\documents\\nlp-thesis-similarity-search\\.venv\\lib\\site-packages (from aiohttp!=4.0.0a0,!=4.0.0a1->fsspec[http]<=2025.3.0,>=2023.1.0->datasets>=2.19.0->FlagEmbedding) (1.6.0)\n",
      "Requirement already satisfied: multidict<7.0,>=4.5 in c:\\users\\nathan adhitya\\documents\\nlp-thesis-similarity-search\\.venv\\lib\\site-packages (from aiohttp!=4.0.0a0,!=4.0.0a1->fsspec[http]<=2025.3.0,>=2023.1.0->datasets>=2.19.0->FlagEmbedding) (6.4.4)\n",
      "Requirement already satisfied: propcache>=0.2.0 in c:\\users\\nathan adhitya\\documents\\nlp-thesis-similarity-search\\.venv\\lib\\site-packages (from aiohttp!=4.0.0a0,!=4.0.0a1->fsspec[http]<=2025.3.0,>=2023.1.0->datasets>=2.19.0->FlagEmbedding) (0.3.1)\n",
      "Requirement already satisfied: yarl<2.0,>=1.17.0 in c:\\users\\nathan adhitya\\documents\\nlp-thesis-similarity-search\\.venv\\lib\\site-packages (from aiohttp!=4.0.0a0,!=4.0.0a1->fsspec[http]<=2025.3.0,>=2023.1.0->datasets>=2.19.0->FlagEmbedding) (1.20.0)\n",
      "Requirement already satisfied: idna>=2.0 in c:\\users\\nathan adhitya\\documents\\nlp-thesis-similarity-search\\.venv\\lib\\site-packages (from yarl<2.0,>=1.17.0->aiohttp!=4.0.0a0,!=4.0.0a1->fsspec[http]<=2025.3.0,>=2023.1.0->datasets>=2.19.0->FlagEmbedding) (3.10)\n",
      "Requirement already satisfied: charset-normalizer<4,>=2 in c:\\users\\nathan adhitya\\documents\\nlp-thesis-similarity-search\\.venv\\lib\\site-packages (from requests->transformers==4.51.3) (3.4.2)\n",
      "Requirement already satisfied: urllib3<3,>=1.21.1 in c:\\users\\nathan adhitya\\documents\\nlp-thesis-similarity-search\\.venv\\lib\\site-packages (from requests->transformers==4.51.3) (2.4.0)\n",
      "Requirement already satisfied: certifi>=2017.4.17 in c:\\users\\nathan adhitya\\documents\\nlp-thesis-similarity-search\\.venv\\lib\\site-packages (from requests->transformers==4.51.3) (2025.4.26)\n",
      "Requirement already satisfied: sympy>=1.13.3 in c:\\users\\nathan adhitya\\documents\\nlp-thesis-similarity-search\\.venv\\lib\\site-packages (from torch>=1.6.0->FlagEmbedding) (1.14.0)\n",
      "Requirement already satisfied: networkx in c:\\users\\nathan adhitya\\documents\\nlp-thesis-similarity-search\\.venv\\lib\\site-packages (from torch>=1.6.0->FlagEmbedding) (3.4.2)\n",
      "Requirement already satisfied: jinja2 in c:\\users\\nathan adhitya\\documents\\nlp-thesis-similarity-search\\.venv\\lib\\site-packages (from torch>=1.6.0->FlagEmbedding) (3.1.6)\n",
      "Requirement already satisfied: setuptools in c:\\users\\nathan adhitya\\documents\\nlp-thesis-similarity-search\\.venv\\lib\\site-packages (from torch>=1.6.0->FlagEmbedding) (80.8.0)\n",
      "Requirement already satisfied: mpmath<1.4,>=1.1.0 in c:\\users\\nathan adhitya\\documents\\nlp-thesis-similarity-search\\.venv\\lib\\site-packages (from sympy>=1.13.3->torch>=1.6.0->FlagEmbedding) (1.3.0)\n",
      "Requirement already satisfied: colorama in c:\\users\\nathan adhitya\\documents\\nlp-thesis-similarity-search\\.venv\\lib\\site-packages (from tqdm>=4.27->transformers==4.51.3) (0.4.6)\n",
      "Requirement already satisfied: beautifulsoup4>=4.4.1 in c:\\users\\nathan adhitya\\documents\\nlp-thesis-similarity-search\\.venv\\lib\\site-packages (from ir-datasets->FlagEmbedding) (4.13.4)\n",
      "Requirement already satisfied: inscriptis>=2.2.0 in c:\\users\\nathan adhitya\\documents\\nlp-thesis-similarity-search\\.venv\\lib\\site-packages (from ir-datasets->FlagEmbedding) (2.6.0)\n",
      "Requirement already satisfied: lxml>=4.5.2 in c:\\users\\nathan adhitya\\documents\\nlp-thesis-similarity-search\\.venv\\lib\\site-packages (from ir-datasets->FlagEmbedding) (5.4.0)\n",
      "Requirement already satisfied: trec-car-tools>=2.5.4 in c:\\users\\nathan adhitya\\documents\\nlp-thesis-similarity-search\\.venv\\lib\\site-packages (from ir-datasets->FlagEmbedding) (2.6)\n",
      "Requirement already satisfied: lz4>=3.1.10 in c:\\users\\nathan adhitya\\documents\\nlp-thesis-similarity-search\\.venv\\lib\\site-packages (from ir-datasets->FlagEmbedding) (4.4.4)\n",
      "Requirement already satisfied: warc3-wet>=0.2.3 in c:\\users\\nathan adhitya\\documents\\nlp-thesis-similarity-search\\.venv\\lib\\site-packages (from ir-datasets->FlagEmbedding) (0.2.5)\n",
      "Requirement already satisfied: warc3-wet-clueweb09>=0.2.5 in c:\\users\\nathan adhitya\\documents\\nlp-thesis-similarity-search\\.venv\\lib\\site-packages (from ir-datasets->FlagEmbedding) (0.2.5)\n",
      "Requirement already satisfied: zlib-state>=0.1.3 in c:\\users\\nathan adhitya\\documents\\nlp-thesis-similarity-search\\.venv\\lib\\site-packages (from ir-datasets->FlagEmbedding) (0.1.9)\n",
      "Requirement already satisfied: ijson>=3.1.3 in c:\\users\\nathan adhitya\\documents\\nlp-thesis-similarity-search\\.venv\\lib\\site-packages (from ir-datasets->FlagEmbedding) (3.4.0)\n",
      "Requirement already satisfied: unlzw3>=0.2.1 in c:\\users\\nathan adhitya\\documents\\nlp-thesis-similarity-search\\.venv\\lib\\site-packages (from ir-datasets->FlagEmbedding) (0.2.3)\n",
      "Requirement already satisfied: soupsieve>1.2 in c:\\users\\nathan adhitya\\documents\\nlp-thesis-similarity-search\\.venv\\lib\\site-packages (from beautifulsoup4>=4.4.1->ir-datasets->FlagEmbedding) (2.7)\n",
      "Requirement already satisfied: cbor>=1.0.0 in c:\\users\\nathan adhitya\\documents\\nlp-thesis-similarity-search\\.venv\\lib\\site-packages (from trec-car-tools>=2.5.4->ir-datasets->FlagEmbedding) (1.0.0)\n",
      "Requirement already satisfied: MarkupSafe>=2.0 in c:\\users\\nathan adhitya\\documents\\nlp-thesis-similarity-search\\.venv\\lib\\site-packages (from jinja2->torch>=1.6.0->FlagEmbedding) (3.0.2)\n",
      "Requirement already satisfied: python-dateutil>=2.8.2 in c:\\users\\nathan adhitya\\documents\\nlp-thesis-similarity-search\\.venv\\lib\\site-packages (from pandas->datasets>=2.19.0->FlagEmbedding) (2.9.0.post0)\n",
      "Requirement already satisfied: pytz>=2020.1 in c:\\users\\nathan adhitya\\documents\\nlp-thesis-similarity-search\\.venv\\lib\\site-packages (from pandas->datasets>=2.19.0->FlagEmbedding) (2025.2)\n",
      "Requirement already satisfied: tzdata>=2022.7 in c:\\users\\nathan adhitya\\documents\\nlp-thesis-similarity-search\\.venv\\lib\\site-packages (from pandas->datasets>=2.19.0->FlagEmbedding) (2025.2)\n",
      "Requirement already satisfied: six>=1.5 in c:\\users\\nathan adhitya\\documents\\nlp-thesis-similarity-search\\.venv\\lib\\site-packages (from python-dateutil>=2.8.2->pandas->datasets>=2.19.0->FlagEmbedding) (1.17.0)\n",
      "Requirement already satisfied: scikit-learn in c:\\users\\nathan adhitya\\documents\\nlp-thesis-similarity-search\\.venv\\lib\\site-packages (from sentence_transformers->FlagEmbedding) (1.6.1)\n",
      "Requirement already satisfied: scipy in c:\\users\\nathan adhitya\\documents\\nlp-thesis-similarity-search\\.venv\\lib\\site-packages (from sentence_transformers->FlagEmbedding) (1.15.3)\n",
      "Requirement already satisfied: Pillow in c:\\users\\nathan adhitya\\documents\\nlp-thesis-similarity-search\\.venv\\lib\\site-packages (from sentence_transformers->FlagEmbedding) (11.2.1)\n",
      "Requirement already satisfied: joblib>=1.2.0 in c:\\users\\nathan adhitya\\documents\\nlp-thesis-similarity-search\\.venv\\lib\\site-packages (from scikit-learn->sentence_transformers->FlagEmbedding) (1.5.1)\n",
      "Requirement already satisfied: threadpoolctl>=3.1.0 in c:\\users\\nathan adhitya\\documents\\nlp-thesis-similarity-search\\.venv\\lib\\site-packages (from scikit-learn->sentence_transformers->FlagEmbedding) (3.6.0)\n",
      "Downloading transformers-4.51.3-py3-none-any.whl (10.4 MB)\n",
      "   ---------------------------------------- 0.0/10.4 MB ? eta -:--:--\n",
      "   ---------- ----------------------------- 2.6/10.4 MB 21.4 MB/s eta 0:00:01\n",
      "   ---------------------------------------  10.2/10.4 MB 33.5 MB/s eta 0:00:01\n",
      "   ---------------------------------------  10.2/10.4 MB 33.5 MB/s eta 0:00:01\n",
      "   ---------------------------------------- 10.4/10.4 MB 17.0 MB/s eta 0:00:00\n",
      "Installing collected packages: transformers\n",
      "  Attempting uninstall: transformers\n",
      "    Found existing installation: transformers 4.52.3\n",
      "    Uninstalling transformers-4.52.3:\n",
      "      Successfully uninstalled transformers-4.52.3\n",
      "Successfully installed transformers-4.51.3\n",
      "Note: you may need to restart the kernel to use updated packages.\n"
     ]
    }
   ],
   "source": [
    "%pip install -U FlagEmbedding transformers==4.51.3"
   ]
  },
  {
   "cell_type": "code",
   "execution_count": 1,
   "id": "a88d9ead",
   "metadata": {},
   "outputs": [
    {
     "data": {
      "application/vnd.jupyter.widget-view+json": {
       "model_id": "1d005f3472834d4d8e345c3bfdcc3b33",
       "version_major": 2,
       "version_minor": 0
      },
      "text/plain": [
       "tokenizer_config.json:   0%|          | 0.00/444 [00:00<?, ?B/s]"
      ]
     },
     "metadata": {},
     "output_type": "display_data"
    },
    {
     "data": {
      "application/vnd.jupyter.widget-view+json": {
       "model_id": "df9f07301a8142feb575ceb8b74ab01a",
       "version_major": 2,
       "version_minor": 0
      },
      "text/plain": [
       "sentencepiece.bpe.model:   0%|          | 0.00/5.07M [00:00<?, ?B/s]"
      ]
     },
     "metadata": {},
     "output_type": "display_data"
    },
    {
     "data": {
      "application/vnd.jupyter.widget-view+json": {
       "model_id": "b8b6e260a97c4f25bdfcc69a1a6076ed",
       "version_major": 2,
       "version_minor": 0
      },
      "text/plain": [
       "tokenizer.json:   0%|          | 0.00/17.1M [00:00<?, ?B/s]"
      ]
     },
     "metadata": {},
     "output_type": "display_data"
    },
    {
     "data": {
      "application/vnd.jupyter.widget-view+json": {
       "model_id": "150c76a0063e4697bb46d575659fb839",
       "version_major": 2,
       "version_minor": 0
      },
      "text/plain": [
       "special_tokens_map.json:   0%|          | 0.00/964 [00:00<?, ?B/s]"
      ]
     },
     "metadata": {},
     "output_type": "display_data"
    },
    {
     "data": {
      "application/vnd.jupyter.widget-view+json": {
       "model_id": "3611d7759e994db784c106cbc2c070ec",
       "version_major": 2,
       "version_minor": 0
      },
      "text/plain": [
       "Fetching 30 files:   0%|          | 0/30 [00:00<?, ?it/s]"
      ]
     },
     "metadata": {},
     "output_type": "display_data"
    },
    {
     "data": {
      "application/vnd.jupyter.widget-view+json": {
       "model_id": "3db9441713b645038b7c4a2af2e223a2",
       "version_major": 2,
       "version_minor": 0
      },
      "text/plain": [
       "colbert_linear.pt:   0%|          | 0.00/2.10M [00:00<?, ?B/s]"
      ]
     },
     "metadata": {},
     "output_type": "display_data"
    },
    {
     "data": {
      "application/vnd.jupyter.widget-view+json": {
       "model_id": "0e07a16713bd40bebd31bcde4d8779b8",
       "version_major": 2,
       "version_minor": 0
      },
      "text/plain": [
       "config.json:   0%|          | 0.00/191 [00:00<?, ?B/s]"
      ]
     },
     "metadata": {},
     "output_type": "display_data"
    },
    {
     "data": {
      "application/vnd.jupyter.widget-view+json": {
       "model_id": "f5a2cd9000ff47d3a47725437b1f5951",
       "version_major": 2,
       "version_minor": 0
      },
      "text/plain": [
       "README.md:   0%|          | 0.00/15.8k [00:00<?, ?B/s]"
      ]
     },
     "metadata": {},
     "output_type": "display_data"
    },
    {
     "data": {
      "application/vnd.jupyter.widget-view+json": {
       "model_id": "4e576c3392a949db9fc2e04dea29002c",
       "version_major": 2,
       "version_minor": 0
      },
      "text/plain": [
       "config_sentence_transformers.json:   0%|          | 0.00/123 [00:00<?, ?B/s]"
      ]
     },
     "metadata": {},
     "output_type": "display_data"
    },
    {
     "data": {
      "application/vnd.jupyter.widget-view+json": {
       "model_id": "cc6935604ca74cfebd20e24e72656e4d",
       "version_major": 2,
       "version_minor": 0
      },
      "text/plain": [
       "bm25.jpg:   0%|          | 0.00/132k [00:00<?, ?B/s]"
      ]
     },
     "metadata": {},
     "output_type": "display_data"
    },
    {
     "data": {
      "application/vnd.jupyter.widget-view+json": {
       "model_id": "450e19ac2fb44902a72c3c3c52be7d39",
       "version_major": 2,
       "version_minor": 0
      },
      "text/plain": [
       ".gitattributes:   0%|          | 0.00/1.63k [00:00<?, ?B/s]"
      ]
     },
     "metadata": {},
     "output_type": "display_data"
    },
    {
     "data": {
      "application/vnd.jupyter.widget-view+json": {
       "model_id": "de0623d103b042ecb61675f7b4312ccc",
       "version_major": 2,
       "version_minor": 0
      },
      "text/plain": [
       "config.json:   0%|          | 0.00/687 [00:00<?, ?B/s]"
      ]
     },
     "metadata": {},
     "output_type": "display_data"
    },
    {
     "data": {
      "application/vnd.jupyter.widget-view+json": {
       "model_id": "4c70482821114b18954a9843a48f79fb",
       "version_major": 2,
       "version_minor": 0
      },
      "text/plain": [
       ".DS_Store:   0%|          | 0.00/6.15k [00:00<?, ?B/s]"
      ]
     },
     "metadata": {},
     "output_type": "display_data"
    },
    {
     "data": {
      "application/vnd.jupyter.widget-view+json": {
       "model_id": "a25585727c814ce8810c3b850ef42ebb",
       "version_major": 2,
       "version_minor": 0
      },
      "text/plain": [
       "long.jpg:   0%|          | 0.00/485k [00:00<?, ?B/s]"
      ]
     },
     "metadata": {},
     "output_type": "display_data"
    },
    {
     "data": {
      "application/vnd.jupyter.widget-view+json": {
       "model_id": "214aec25cb8c4d11b9b5f7ec916b755c",
       "version_major": 2,
       "version_minor": 0
      },
      "text/plain": [
       "miracl.jpg:   0%|          | 0.00/576k [00:00<?, ?B/s]"
      ]
     },
     "metadata": {},
     "output_type": "display_data"
    },
    {
     "data": {
      "application/vnd.jupyter.widget-view+json": {
       "model_id": "afc41cc655f746bcb71d0f3c6c822608",
       "version_major": 2,
       "version_minor": 0
      },
      "text/plain": [
       "mkqa.jpg:   0%|          | 0.00/608k [00:00<?, ?B/s]"
      ]
     },
     "metadata": {},
     "output_type": "display_data"
    },
    {
     "data": {
      "application/vnd.jupyter.widget-view+json": {
       "model_id": "41b1133dc6f743158224095a1b027fac",
       "version_major": 2,
       "version_minor": 0
      },
      "text/plain": [
       "nqa.jpg:   0%|          | 0.00/158k [00:00<?, ?B/s]"
      ]
     },
     "metadata": {},
     "output_type": "display_data"
    },
    {
     "data": {
      "application/vnd.jupyter.widget-view+json": {
       "model_id": "81ba07121d2a4b849b2e81acb2111a5f",
       "version_major": 2,
       "version_minor": 0
      },
      "text/plain": [
       "long.jpg:   0%|          | 0.00/127k [00:00<?, ?B/s]"
      ]
     },
     "metadata": {},
     "output_type": "display_data"
    },
    {
     "data": {
      "application/vnd.jupyter.widget-view+json": {
       "model_id": "1cc58737aad84103bbc7d4b51e3004f5",
       "version_major": 2,
       "version_minor": 0
      },
      "text/plain": [
       "others.webp:   0%|          | 0.00/21.0k [00:00<?, ?B/s]"
      ]
     },
     "metadata": {},
     "output_type": "display_data"
    },
    {
     "data": {
      "application/vnd.jupyter.widget-view+json": {
       "model_id": "38ddfab8c70042e69747ebfa76d22205",
       "version_major": 2,
       "version_minor": 0
      },
      "text/plain": [
       "modules.json:   0%|          | 0.00/349 [00:00<?, ?B/s]"
      ]
     },
     "metadata": {},
     "output_type": "display_data"
    },
    {
     "data": {
      "application/vnd.jupyter.widget-view+json": {
       "model_id": "7a2566cfa65348aab85a04c17eb7e4fb",
       "version_major": 2,
       "version_minor": 0
      },
      "text/plain": [
       "Constant_7_attr__value:   0%|          | 0.00/65.6k [00:00<?, ?B/s]"
      ]
     },
     "metadata": {},
     "output_type": "display_data"
    },
    {
     "data": {
      "application/vnd.jupyter.widget-view+json": {
       "model_id": "c7864ab9471f4c8283878ff9fe8d9293",
       "version_major": 2,
       "version_minor": 0
      },
      "text/plain": [
       "model.onnx_data:   0%|          | 0.00/2.27G [00:00<?, ?B/s]"
      ]
     },
     "metadata": {},
     "output_type": "display_data"
    },
    {
     "data": {
      "application/vnd.jupyter.widget-view+json": {
       "model_id": "d55093086dcb47f38963d2a2dbe04970",
       "version_major": 2,
       "version_minor": 0
      },
      "text/plain": [
       "model.onnx:   0%|          | 0.00/725k [00:00<?, ?B/s]"
      ]
     },
     "metadata": {},
     "output_type": "display_data"
    },
    {
     "data": {
      "application/vnd.jupyter.widget-view+json": {
       "model_id": "645efd608b8b4a54a4fabd4bbccf1fa8",
       "version_major": 2,
       "version_minor": 0
      },
      "text/plain": [
       "config.json:   0%|          | 0.00/698 [00:00<?, ?B/s]"
      ]
     },
     "metadata": {},
     "output_type": "display_data"
    },
    {
     "data": {
      "application/vnd.jupyter.widget-view+json": {
       "model_id": "8baa8cea2feb46cabb948591faf74ecb",
       "version_major": 2,
       "version_minor": 0
      },
      "text/plain": [
       "tokenizer.json:   0%|          | 0.00/17.1M [00:00<?, ?B/s]"
      ]
     },
     "metadata": {},
     "output_type": "display_data"
    },
    {
     "data": {
      "application/vnd.jupyter.widget-view+json": {
       "model_id": "5ec4234f2a1b472e88283ba9a0178a76",
       "version_major": 2,
       "version_minor": 0
      },
      "text/plain": [
       "tokenizer_config.json:   0%|          | 0.00/1.17k [00:00<?, ?B/s]"
      ]
     },
     "metadata": {},
     "output_type": "display_data"
    },
    {
     "data": {
      "application/vnd.jupyter.widget-view+json": {
       "model_id": "6e318706fa334ca3af3fb7f3a327d859",
       "version_major": 2,
       "version_minor": 0
      },
      "text/plain": [
       "pytorch_model.bin:   0%|          | 0.00/2.27G [00:00<?, ?B/s]"
      ]
     },
     "metadata": {},
     "output_type": "display_data"
    },
    {
     "data": {
      "application/vnd.jupyter.widget-view+json": {
       "model_id": "cad7014606b54ee48dbd0db320069c3a",
       "version_major": 2,
       "version_minor": 0
      },
      "text/plain": [
       "sentence_bert_config.json:   0%|          | 0.00/54.0 [00:00<?, ?B/s]"
      ]
     },
     "metadata": {},
     "output_type": "display_data"
    },
    {
     "data": {
      "application/vnd.jupyter.widget-view+json": {
       "model_id": "939a63ab0dda4c46873e67b4c9804075",
       "version_major": 2,
       "version_minor": 0
      },
      "text/plain": [
       "sparse_linear.pt:   0%|          | 0.00/3.52k [00:00<?, ?B/s]"
      ]
     },
     "metadata": {},
     "output_type": "display_data"
    },
    {
     "name": "stdout",
     "output_type": "stream",
     "text": [
      "<FlagEmbedding.inference.embedder.encoder_only.m3.M3Embedder object at 0x000002EE547EA7B0>\n"
     ]
    }
   ],
   "source": [
    "from FlagEmbedding import BGEM3FlagModel\n",
    "\n",
    "model = BGEM3FlagModel('BAAI/bge-m3',  \n",
    "                       use_fp16=True) # Setting use_fp16 to True speeds up computation with a slight performance degradation\n",
    "\n",
    "print(model)"
   ]
  },
  {
   "cell_type": "code",
   "execution_count": 4,
   "id": "72c0e762",
   "metadata": {},
   "outputs": [
    {
     "name": "stdout",
     "output_type": "stream",
     "text": [
      "[0.51898307 0.39796674]\n"
     ]
    }
   ],
   "source": [
    "e1 = \"Pusat studi budaya Islam-Jawa Demak: Budaya merupakan faktor utama dalam pengembangan dunia arsitektur, seringkali keberadaan budaya ditampilkan melalui tempelan-tempelan belaka dan hanya memperlhatkan keberadaan yang kosong akan makna. Keberadaan proyek ini berusaha menggali kembali makna budaya yang terkubur. Pusat studi budaya Islam-Jawa Demak merupakan salah satu wadah arsitektural, fasilitas pendidkan, fasilitas teater, fasilitas perpustakaan dan fasilitas asrama. Konsep yang digali merupakan konsep dari atap Masjid Agung Demak yaitu konsep Islam, Iman dan Ihsan. Pengembangan konsep yang dilakukan adalah konsep perjalanan manusia menuju kesempurnaan. Pengadaan ruang studi bagi pelajar merupakan satu upaya untuk mencapai kesadaran berbudaya, sehingga para pelajar dapat mengerti tentang budaya. Masyarakat diupayakan dapat menikmati keberadaan budaya setempat. keberadaan bangunan selain digunakan untuk pagelaran pameran, seni drama atau seni musik, namun digunakan sebagai pembelajaran dan pengkajian budaya dengan keberadaan perpustakaan sebagai sarana penggaliannya dan ruang koderensi sebagai ruang penyebarannya/pembahanya\"\n",
    "e2 = [\n",
    "    \"Budaya Islam-Jawa\", \n",
    "    \"Pengembangan Sistem Informasi Geografis\"\n",
    "]\n",
    "\n",
    "embeddings_1 = model.encode(e1, \n",
    "                            batch_size=12, \n",
    "                            max_length=8192, # If you don't need such a long length, you can set a smaller value to speed up the encoding process.\n",
    "                            )['dense_vecs']\n",
    "embeddings_2 = model.encode(e2)['dense_vecs']\n",
    "similarity = embeddings_1 @ embeddings_2.T\n",
    "print(similarity)"
   ]
  }
 ],
 "metadata": {
  "kernelspec": {
   "display_name": ".venv",
   "language": "python",
   "name": "python3"
  },
  "language_info": {
   "codemirror_mode": {
    "name": "ipython",
    "version": 3
   },
   "file_extension": ".py",
   "mimetype": "text/x-python",
   "name": "python",
   "nbconvert_exporter": "python",
   "pygments_lexer": "ipython3",
   "version": "3.12.1"
  }
 },
 "nbformat": 4,
 "nbformat_minor": 5
}
