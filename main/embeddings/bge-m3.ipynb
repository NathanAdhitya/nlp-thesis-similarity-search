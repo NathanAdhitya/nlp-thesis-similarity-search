{
 "cells": [
  {
   "cell_type": "code",
   "execution_count": 2,
   "id": "8d0568d0",
   "metadata": {},
   "outputs": [
    {
     "name": "stdout",
     "output_type": "stream",
     "text": [
      "Requirement already satisfied: FlagEmbedding in c:\\users\\nathan adhitya\\documents\\nlp-thesis-similarity-search\\.venv\\lib\\site-packages (1.3.4)\n",
      "Collecting transformers==4.51.3\n",
      "  Downloading transformers-4.51.3-py3-none-any.whl.metadata (38 kB)\n",
      "Requirement already satisfied: filelock in c:\\users\\nathan adhitya\\documents\\nlp-thesis-similarity-search\\.venv\\lib\\site-packages (from transformers==4.51.3) (3.18.0)\n",
      "Requirement already satisfied: huggingface-hub<1.0,>=0.30.0 in c:\\users\\nathan adhitya\\documents\\nlp-thesis-similarity-search\\.venv\\lib\\site-packages (from transformers==4.51.3) (0.32.0)\n",
      "Requirement already satisfied: numpy>=1.17 in c:\\users\\nathan adhitya\\documents\\nlp-thesis-similarity-search\\.venv\\lib\\site-packages (from transformers==4.51.3) (2.2.6)\n",
      "Requirement already satisfied: packaging>=20.0 in c:\\users\\nathan adhitya\\documents\\nlp-thesis-similarity-search\\.venv\\lib\\site-packages (from transformers==4.51.3) (25.0)\n",
      "Requirement already satisfied: pyyaml>=5.1 in c:\\users\\nathan adhitya\\documents\\nlp-thesis-similarity-search\\.venv\\lib\\site-packages (from transformers==4.51.3) (6.0.2)\n",
      "Requirement already satisfied: regex!=2019.12.17 in c:\\users\\nathan adhitya\\documents\\nlp-thesis-similarity-search\\.venv\\lib\\site-packages (from transformers==4.51.3) (2024.11.6)\n",
      "Requirement already satisfied: requests in c:\\users\\nathan adhitya\\documents\\nlp-thesis-similarity-search\\.venv\\lib\\site-packages (from transformers==4.51.3) (2.32.3)\n",
      "Requirement already satisfied: tokenizers<0.22,>=0.21 in c:\\users\\nathan adhitya\\documents\\nlp-thesis-similarity-search\\.venv\\lib\\site-packages (from transformers==4.51.3) (0.21.1)\n",
      "Requirement already satisfied: safetensors>=0.4.3 in c:\\users\\nathan adhitya\\documents\\nlp-thesis-similarity-search\\.venv\\lib\\site-packages (from transformers==4.51.3) (0.5.3)\n",
      "Requirement already satisfied: tqdm>=4.27 in c:\\users\\nathan adhitya\\documents\\nlp-thesis-similarity-search\\.venv\\lib\\site-packages (from transformers==4.51.3) (4.67.1)\n",
      "Requirement already satisfied: fsspec>=2023.5.0 in c:\\users\\nathan adhitya\\documents\\nlp-thesis-similarity-search\\.venv\\lib\\site-packages (from huggingface-hub<1.0,>=0.30.0->transformers==4.51.3) (2025.3.0)\n",
      "Requirement already satisfied: typing-extensions>=3.7.4.3 in c:\\users\\nathan adhitya\\documents\\nlp-thesis-similarity-search\\.venv\\lib\\site-packages (from huggingface-hub<1.0,>=0.30.0->transformers==4.51.3) (4.13.2)\n",
      "Requirement already satisfied: torch>=1.6.0 in c:\\users\\nathan adhitya\\documents\\nlp-thesis-similarity-search\\.venv\\lib\\site-packages (from FlagEmbedding) (2.7.0)\n",
      "Requirement already satisfied: datasets>=2.19.0 in c:\\users\\nathan adhitya\\documents\\nlp-thesis-similarity-search\\.venv\\lib\\site-packages (from FlagEmbedding) (3.6.0)\n",
      "Requirement already satisfied: accelerate>=0.20.1 in c:\\users\\nathan adhitya\\documents\\nlp-thesis-similarity-search\\.venv\\lib\\site-packages (from FlagEmbedding) (1.7.0)\n",
      "Requirement already satisfied: sentence_transformers in c:\\users\\nathan adhitya\\documents\\nlp-thesis-similarity-search\\.venv\\lib\\site-packages (from FlagEmbedding) (4.1.0)\n",
      "Requirement already satisfied: peft in c:\\users\\nathan adhitya\\documents\\nlp-thesis-similarity-search\\.venv\\lib\\site-packages (from FlagEmbedding) (0.15.2)\n",
      "Requirement already satisfied: ir-datasets in c:\\users\\nathan adhitya\\documents\\nlp-thesis-similarity-search\\.venv\\lib\\site-packages (from FlagEmbedding) (0.5.10)\n",
      "Requirement already satisfied: sentencepiece in c:\\users\\nathan adhitya\\documents\\nlp-thesis-similarity-search\\.venv\\lib\\site-packages (from FlagEmbedding) (0.2.0)\n",
      "Requirement already satisfied: protobuf in c:\\users\\nathan adhitya\\documents\\nlp-thesis-similarity-search\\.venv\\lib\\site-packages (from FlagEmbedding) (6.31.0)\n",
      "Requirement already satisfied: psutil in c:\\users\\nathan adhitya\\documents\\nlp-thesis-similarity-search\\.venv\\lib\\site-packages (from accelerate>=0.20.1->FlagEmbedding) (7.0.0)\n",
      "Requirement already satisfied: pyarrow>=15.0.0 in c:\\users\\nathan adhitya\\documents\\nlp-thesis-similarity-search\\.venv\\lib\\site-packages (from datasets>=2.19.0->FlagEmbedding) (20.0.0)\n",
      "Requirement already satisfied: dill<0.3.9,>=0.3.0 in c:\\users\\nathan adhitya\\documents\\nlp-thesis-similarity-search\\.venv\\lib\\site-packages (from datasets>=2.19.0->FlagEmbedding) (0.3.8)\n",
      "Requirement already satisfied: pandas in c:\\users\\nathan adhitya\\documents\\nlp-thesis-similarity-search\\.venv\\lib\\site-packages (from datasets>=2.19.0->FlagEmbedding) (2.2.3)\n",
      "Requirement already satisfied: xxhash in c:\\users\\nathan adhitya\\documents\\nlp-thesis-similarity-search\\.venv\\lib\\site-packages (from datasets>=2.19.0->FlagEmbedding) (3.5.0)\n",
      "Requirement already satisfied: multiprocess<0.70.17 in c:\\users\\nathan adhitya\\documents\\nlp-thesis-similarity-search\\.venv\\lib\\site-packages (from datasets>=2.19.0->FlagEmbedding) (0.70.16)\n",
      "Requirement already satisfied: aiohttp!=4.0.0a0,!=4.0.0a1 in c:\\users\\nathan adhitya\\documents\\nlp-thesis-similarity-search\\.venv\\lib\\site-packages (from fsspec[http]<=2025.3.0,>=2023.1.0->datasets>=2.19.0->FlagEmbedding) (3.12.0)\n",
      "Requirement already satisfied: aiohappyeyeballs>=2.5.0 in c:\\users\\nathan adhitya\\documents\\nlp-thesis-similarity-search\\.venv\\lib\\site-packages (from aiohttp!=4.0.0a0,!=4.0.0a1->fsspec[http]<=2025.3.0,>=2023.1.0->datasets>=2.19.0->FlagEmbedding) (2.6.1)\n",
      "Requirement already satisfied: aiosignal>=1.1.2 in c:\\users\\nathan adhitya\\documents\\nlp-thesis-similarity-search\\.venv\\lib\\site-packages (from aiohttp!=4.0.0a0,!=4.0.0a1->fsspec[http]<=2025.3.0,>=2023.1.0->datasets>=2.19.0->FlagEmbedding) (1.3.2)\n",
      "Requirement already satisfied: attrs>=17.3.0 in c:\\users\\nathan adhitya\\documents\\nlp-thesis-similarity-search\\.venv\\lib\\site-packages (from aiohttp!=4.0.0a0,!=4.0.0a1->fsspec[http]<=2025.3.0,>=2023.1.0->datasets>=2.19.0->FlagEmbedding) (25.3.0)\n",
      "Requirement already satisfied: frozenlist>=1.1.1 in c:\\users\\nathan adhitya\\documents\\nlp-thesis-similarity-search\\.venv\\lib\\site-packages (from aiohttp!=4.0.0a0,!=4.0.0a1->fsspec[http]<=2025.3.0,>=2023.1.0->datasets>=2.19.0->FlagEmbedding) (1.6.0)\n",
      "Requirement already satisfied: multidict<7.0,>=4.5 in c:\\users\\nathan adhitya\\documents\\nlp-thesis-similarity-search\\.venv\\lib\\site-packages (from aiohttp!=4.0.0a0,!=4.0.0a1->fsspec[http]<=2025.3.0,>=2023.1.0->datasets>=2.19.0->FlagEmbedding) (6.4.4)\n",
      "Requirement already satisfied: propcache>=0.2.0 in c:\\users\\nathan adhitya\\documents\\nlp-thesis-similarity-search\\.venv\\lib\\site-packages (from aiohttp!=4.0.0a0,!=4.0.0a1->fsspec[http]<=2025.3.0,>=2023.1.0->datasets>=2.19.0->FlagEmbedding) (0.3.1)\n",
      "Requirement already satisfied: yarl<2.0,>=1.17.0 in c:\\users\\nathan adhitya\\documents\\nlp-thesis-similarity-search\\.venv\\lib\\site-packages (from aiohttp!=4.0.0a0,!=4.0.0a1->fsspec[http]<=2025.3.0,>=2023.1.0->datasets>=2.19.0->FlagEmbedding) (1.20.0)\n",
      "Requirement already satisfied: idna>=2.0 in c:\\users\\nathan adhitya\\documents\\nlp-thesis-similarity-search\\.venv\\lib\\site-packages (from yarl<2.0,>=1.17.0->aiohttp!=4.0.0a0,!=4.0.0a1->fsspec[http]<=2025.3.0,>=2023.1.0->datasets>=2.19.0->FlagEmbedding) (3.10)\n",
      "Requirement already satisfied: charset-normalizer<4,>=2 in c:\\users\\nathan adhitya\\documents\\nlp-thesis-similarity-search\\.venv\\lib\\site-packages (from requests->transformers==4.51.3) (3.4.2)\n",
      "Requirement already satisfied: urllib3<3,>=1.21.1 in c:\\users\\nathan adhitya\\documents\\nlp-thesis-similarity-search\\.venv\\lib\\site-packages (from requests->transformers==4.51.3) (2.4.0)\n",
      "Requirement already satisfied: certifi>=2017.4.17 in c:\\users\\nathan adhitya\\documents\\nlp-thesis-similarity-search\\.venv\\lib\\site-packages (from requests->transformers==4.51.3) (2025.4.26)\n",
      "Requirement already satisfied: sympy>=1.13.3 in c:\\users\\nathan adhitya\\documents\\nlp-thesis-similarity-search\\.venv\\lib\\site-packages (from torch>=1.6.0->FlagEmbedding) (1.14.0)\n",
      "Requirement already satisfied: networkx in c:\\users\\nathan adhitya\\documents\\nlp-thesis-similarity-search\\.venv\\lib\\site-packages (from torch>=1.6.0->FlagEmbedding) (3.4.2)\n",
      "Requirement already satisfied: jinja2 in c:\\users\\nathan adhitya\\documents\\nlp-thesis-similarity-search\\.venv\\lib\\site-packages (from torch>=1.6.0->FlagEmbedding) (3.1.6)\n",
      "Requirement already satisfied: setuptools in c:\\users\\nathan adhitya\\documents\\nlp-thesis-similarity-search\\.venv\\lib\\site-packages (from torch>=1.6.0->FlagEmbedding) (80.8.0)\n",
      "Requirement already satisfied: mpmath<1.4,>=1.1.0 in c:\\users\\nathan adhitya\\documents\\nlp-thesis-similarity-search\\.venv\\lib\\site-packages (from sympy>=1.13.3->torch>=1.6.0->FlagEmbedding) (1.3.0)\n",
      "Requirement already satisfied: colorama in c:\\users\\nathan adhitya\\documents\\nlp-thesis-similarity-search\\.venv\\lib\\site-packages (from tqdm>=4.27->transformers==4.51.3) (0.4.6)\n",
      "Requirement already satisfied: beautifulsoup4>=4.4.1 in c:\\users\\nathan adhitya\\documents\\nlp-thesis-similarity-search\\.venv\\lib\\site-packages (from ir-datasets->FlagEmbedding) (4.13.4)\n",
      "Requirement already satisfied: inscriptis>=2.2.0 in c:\\users\\nathan adhitya\\documents\\nlp-thesis-similarity-search\\.venv\\lib\\site-packages (from ir-datasets->FlagEmbedding) (2.6.0)\n",
      "Requirement already satisfied: lxml>=4.5.2 in c:\\users\\nathan adhitya\\documents\\nlp-thesis-similarity-search\\.venv\\lib\\site-packages (from ir-datasets->FlagEmbedding) (5.4.0)\n",
      "Requirement already satisfied: trec-car-tools>=2.5.4 in c:\\users\\nathan adhitya\\documents\\nlp-thesis-similarity-search\\.venv\\lib\\site-packages (from ir-datasets->FlagEmbedding) (2.6)\n",
      "Requirement already satisfied: lz4>=3.1.10 in c:\\users\\nathan adhitya\\documents\\nlp-thesis-similarity-search\\.venv\\lib\\site-packages (from ir-datasets->FlagEmbedding) (4.4.4)\n",
      "Requirement already satisfied: warc3-wet>=0.2.3 in c:\\users\\nathan adhitya\\documents\\nlp-thesis-similarity-search\\.venv\\lib\\site-packages (from ir-datasets->FlagEmbedding) (0.2.5)\n",
      "Requirement already satisfied: warc3-wet-clueweb09>=0.2.5 in c:\\users\\nathan adhitya\\documents\\nlp-thesis-similarity-search\\.venv\\lib\\site-packages (from ir-datasets->FlagEmbedding) (0.2.5)\n",
      "Requirement already satisfied: zlib-state>=0.1.3 in c:\\users\\nathan adhitya\\documents\\nlp-thesis-similarity-search\\.venv\\lib\\site-packages (from ir-datasets->FlagEmbedding) (0.1.9)\n",
      "Requirement already satisfied: ijson>=3.1.3 in c:\\users\\nathan adhitya\\documents\\nlp-thesis-similarity-search\\.venv\\lib\\site-packages (from ir-datasets->FlagEmbedding) (3.4.0)\n",
      "Requirement already satisfied: unlzw3>=0.2.1 in c:\\users\\nathan adhitya\\documents\\nlp-thesis-similarity-search\\.venv\\lib\\site-packages (from ir-datasets->FlagEmbedding) (0.2.3)\n",
      "Requirement already satisfied: soupsieve>1.2 in c:\\users\\nathan adhitya\\documents\\nlp-thesis-similarity-search\\.venv\\lib\\site-packages (from beautifulsoup4>=4.4.1->ir-datasets->FlagEmbedding) (2.7)\n",
      "Requirement already satisfied: cbor>=1.0.0 in c:\\users\\nathan adhitya\\documents\\nlp-thesis-similarity-search\\.venv\\lib\\site-packages (from trec-car-tools>=2.5.4->ir-datasets->FlagEmbedding) (1.0.0)\n",
      "Requirement already satisfied: MarkupSafe>=2.0 in c:\\users\\nathan adhitya\\documents\\nlp-thesis-similarity-search\\.venv\\lib\\site-packages (from jinja2->torch>=1.6.0->FlagEmbedding) (3.0.2)\n",
      "Requirement already satisfied: python-dateutil>=2.8.2 in c:\\users\\nathan adhitya\\documents\\nlp-thesis-similarity-search\\.venv\\lib\\site-packages (from pandas->datasets>=2.19.0->FlagEmbedding) (2.9.0.post0)\n",
      "Requirement already satisfied: pytz>=2020.1 in c:\\users\\nathan adhitya\\documents\\nlp-thesis-similarity-search\\.venv\\lib\\site-packages (from pandas->datasets>=2.19.0->FlagEmbedding) (2025.2)\n",
      "Requirement already satisfied: tzdata>=2022.7 in c:\\users\\nathan adhitya\\documents\\nlp-thesis-similarity-search\\.venv\\lib\\site-packages (from pandas->datasets>=2.19.0->FlagEmbedding) (2025.2)\n",
      "Requirement already satisfied: six>=1.5 in c:\\users\\nathan adhitya\\documents\\nlp-thesis-similarity-search\\.venv\\lib\\site-packages (from python-dateutil>=2.8.2->pandas->datasets>=2.19.0->FlagEmbedding) (1.17.0)\n",
      "Requirement already satisfied: scikit-learn in c:\\users\\nathan adhitya\\documents\\nlp-thesis-similarity-search\\.venv\\lib\\site-packages (from sentence_transformers->FlagEmbedding) (1.6.1)\n",
      "Requirement already satisfied: scipy in c:\\users\\nathan adhitya\\documents\\nlp-thesis-similarity-search\\.venv\\lib\\site-packages (from sentence_transformers->FlagEmbedding) (1.15.3)\n",
      "Requirement already satisfied: Pillow in c:\\users\\nathan adhitya\\documents\\nlp-thesis-similarity-search\\.venv\\lib\\site-packages (from sentence_transformers->FlagEmbedding) (11.2.1)\n",
      "Requirement already satisfied: joblib>=1.2.0 in c:\\users\\nathan adhitya\\documents\\nlp-thesis-similarity-search\\.venv\\lib\\site-packages (from scikit-learn->sentence_transformers->FlagEmbedding) (1.5.1)\n",
      "Requirement already satisfied: threadpoolctl>=3.1.0 in c:\\users\\nathan adhitya\\documents\\nlp-thesis-similarity-search\\.venv\\lib\\site-packages (from scikit-learn->sentence_transformers->FlagEmbedding) (3.6.0)\n",
      "Downloading transformers-4.51.3-py3-none-any.whl (10.4 MB)\n",
      "   ---------------------------------------- 0.0/10.4 MB ? eta -:--:--\n",
      "   ---------- ----------------------------- 2.6/10.4 MB 21.4 MB/s eta 0:00:01\n",
      "   ---------------------------------------  10.2/10.4 MB 33.5 MB/s eta 0:00:01\n",
      "   ---------------------------------------  10.2/10.4 MB 33.5 MB/s eta 0:00:01\n",
      "   ---------------------------------------- 10.4/10.4 MB 17.0 MB/s eta 0:00:00\n",
      "Installing collected packages: transformers\n",
      "  Attempting uninstall: transformers\n",
      "    Found existing installation: transformers 4.52.3\n",
      "    Uninstalling transformers-4.52.3:\n",
      "      Successfully uninstalled transformers-4.52.3\n",
      "Successfully installed transformers-4.51.3\n",
      "Note: you may need to restart the kernel to use updated packages.\n"
     ]
    }
   ],
   "source": [
    "%pip install -U FlagEmbedding transformers==4.51.3"
   ]
  },
  {
   "cell_type": "code",
   "execution_count": 1,
   "id": "a88d9ead",
   "metadata": {},
   "outputs": [
    {
     "name": "stderr",
     "output_type": "stream",
     "text": [
      "c:\\Users\\2ndro\\anaconda3\\envs\\bge-m3\\lib\\site-packages\\tqdm\\auto.py:21: TqdmWarning: IProgress not found. Please update jupyter and ipywidgets. See https://ipywidgets.readthedocs.io/en/stable/user_install.html\n",
      "  from .autonotebook import tqdm as notebook_tqdm\n",
      "Fetching 30 files:   0%|          | 0/30 [00:00<?, ?it/s]c:\\Users\\2ndro\\anaconda3\\envs\\bge-m3\\lib\\site-packages\\huggingface_hub\\file_download.py:143: UserWarning: `huggingface_hub` cache-system uses symlinks by default to efficiently store duplicated files but your machine does not support them in C:\\Users\\2ndro\\.cache\\huggingface\\hub\\models--BAAI--bge-m3. Caching files will still work but in a degraded version that might require more space on your disk. This warning can be disabled by setting the `HF_HUB_DISABLE_SYMLINKS_WARNING` environment variable. For more details, see https://huggingface.co/docs/huggingface_hub/how-to-cache#limitations.\n",
      "To support symlinks on Windows, you either need to activate Developer Mode or to run Python as an administrator. In order to activate developer mode, see this article: https://docs.microsoft.com/en-us/windows/apps/get-started/enable-your-device-for-development\n",
      "  warnings.warn(message)\n",
      "Fetching 30 files:  60%|██████    | 18/30 [33:01<22:01, 110.11s/it]\n"
     ]
    },
    {
     "ename": "KeyboardInterrupt",
     "evalue": "",
     "output_type": "error",
     "traceback": [
      "\u001b[1;31m---------------------------------------------------------------------------\u001b[0m",
      "\u001b[1;31mKeyboardInterrupt\u001b[0m                         Traceback (most recent call last)",
      "Cell \u001b[1;32mIn[1], line 4\u001b[0m\n\u001b[0;32m      1\u001b[0m \u001b[38;5;28;01mfrom\u001b[39;00m\u001b[38;5;250m \u001b[39m\u001b[38;5;21;01mFlagEmbedding\u001b[39;00m\u001b[38;5;250m \u001b[39m\u001b[38;5;28;01mimport\u001b[39;00m BGEM3FlagModel\n\u001b[0;32m      2\u001b[0m \u001b[38;5;28;01mimport\u001b[39;00m\u001b[38;5;250m \u001b[39m\u001b[38;5;21;01mtqdm\u001b[39;00m\u001b[38;5;250m \u001b[39m\u001b[38;5;28;01mas\u001b[39;00m\u001b[38;5;250m \u001b[39m\u001b[38;5;21;01mnotebook_tqdm\u001b[39;00m\n\u001b[1;32m----> 4\u001b[0m model \u001b[38;5;241m=\u001b[39m \u001b[43mBGEM3FlagModel\u001b[49m\u001b[43m(\u001b[49m\u001b[38;5;124;43m'\u001b[39;49m\u001b[38;5;124;43mBAAI/bge-m3\u001b[39;49m\u001b[38;5;124;43m'\u001b[39;49m\u001b[43m,\u001b[49m\u001b[43m  \u001b[49m\n\u001b[0;32m      5\u001b[0m \u001b[43m                       \u001b[49m\u001b[43muse_fp16\u001b[49m\u001b[38;5;241;43m=\u001b[39;49m\u001b[38;5;28;43;01mTrue\u001b[39;49;00m\u001b[43m)\u001b[49m \u001b[38;5;66;03m# Setting use_fp16 to True speeds up computation with a slight performance degradation\u001b[39;00m\n\u001b[0;32m      7\u001b[0m \u001b[38;5;28mprint\u001b[39m(model)\n",
      "File \u001b[1;32mc:\\Users\\2ndro\\anaconda3\\envs\\bge-m3\\lib\\site-packages\\FlagEmbedding\\inference\\embedder\\encoder_only\\m3.py:95\u001b[0m, in \u001b[0;36mM3Embedder.__init__\u001b[1;34m(self, model_name_or_path, normalize_embeddings, use_fp16, query_instruction_for_retrieval, query_instruction_format, devices, pooling_method, trust_remote_code, cache_dir, colbert_dim, batch_size, query_max_length, passage_max_length, return_dense, return_sparse, return_colbert_vecs, **kwargs)\u001b[0m\n\u001b[0;32m     87\u001b[0m \u001b[38;5;28mself\u001b[39m\u001b[38;5;241m.\u001b[39mpooling_method \u001b[38;5;241m=\u001b[39m pooling_method\n\u001b[0;32m     89\u001b[0m \u001b[38;5;28mself\u001b[39m\u001b[38;5;241m.\u001b[39mtokenizer \u001b[38;5;241m=\u001b[39m AutoTokenizer\u001b[38;5;241m.\u001b[39mfrom_pretrained(\n\u001b[0;32m     90\u001b[0m     model_name_or_path,\n\u001b[0;32m     91\u001b[0m     trust_remote_code\u001b[38;5;241m=\u001b[39mtrust_remote_code,\n\u001b[0;32m     92\u001b[0m     cache_dir\u001b[38;5;241m=\u001b[39mcache_dir\n\u001b[0;32m     93\u001b[0m )\n\u001b[0;32m     94\u001b[0m \u001b[38;5;28mself\u001b[39m\u001b[38;5;241m.\u001b[39mmodel \u001b[38;5;241m=\u001b[39m EncoderOnlyEmbedderM3ModelForInference(\n\u001b[1;32m---> 95\u001b[0m     \u001b[43mEncoderOnlyEmbedderM3Runner\u001b[49m\u001b[38;5;241;43m.\u001b[39;49m\u001b[43mget_model\u001b[49m\u001b[43m(\u001b[49m\n\u001b[0;32m     96\u001b[0m \u001b[43m        \u001b[49m\u001b[43mmodel_name_or_path\u001b[49m\u001b[43m,\u001b[49m\n\u001b[0;32m     97\u001b[0m \u001b[43m        \u001b[49m\u001b[43mtrust_remote_code\u001b[49m\u001b[38;5;241;43m=\u001b[39;49m\u001b[43mtrust_remote_code\u001b[49m\u001b[43m,\u001b[49m\n\u001b[0;32m     98\u001b[0m \u001b[43m        \u001b[49m\u001b[43mcolbert_dim\u001b[49m\u001b[38;5;241;43m=\u001b[39;49m\u001b[43mcolbert_dim\u001b[49m\u001b[43m,\u001b[49m\n\u001b[0;32m     99\u001b[0m \u001b[43m        \u001b[49m\u001b[43mcache_dir\u001b[49m\u001b[38;5;241;43m=\u001b[39;49m\u001b[43mcache_dir\u001b[49m\n\u001b[0;32m    100\u001b[0m \u001b[43m    \u001b[49m\u001b[43m)\u001b[49m,\n\u001b[0;32m    101\u001b[0m     tokenizer\u001b[38;5;241m=\u001b[39m\u001b[38;5;28mself\u001b[39m\u001b[38;5;241m.\u001b[39mtokenizer,\n\u001b[0;32m    102\u001b[0m     sentence_pooling_method\u001b[38;5;241m=\u001b[39mpooling_method,\n\u001b[0;32m    103\u001b[0m     normalize_embeddings\u001b[38;5;241m=\u001b[39mnormalize_embeddings\n\u001b[0;32m    104\u001b[0m )\n",
      "File \u001b[1;32mc:\\Users\\2ndro\\anaconda3\\envs\\bge-m3\\lib\\site-packages\\FlagEmbedding\\finetune\\embedder\\encoder_only\\m3\\runner.py:63\u001b[0m, in \u001b[0;36mEncoderOnlyEmbedderM3Runner.get_model\u001b[1;34m(model_name_or_path, trust_remote_code, colbert_dim, cache_dir)\u001b[0m\n\u001b[0;32m     61\u001b[0m cache_folder \u001b[38;5;241m=\u001b[39m os\u001b[38;5;241m.\u001b[39mgetenv(\u001b[38;5;124m'\u001b[39m\u001b[38;5;124mHF_HUB_CACHE\u001b[39m\u001b[38;5;124m'\u001b[39m, \u001b[38;5;28;01mNone\u001b[39;00m) \u001b[38;5;28;01mif\u001b[39;00m cache_dir \u001b[38;5;129;01mis\u001b[39;00m \u001b[38;5;28;01mNone\u001b[39;00m \u001b[38;5;28;01melse\u001b[39;00m cache_dir\n\u001b[0;32m     62\u001b[0m \u001b[38;5;28;01mif\u001b[39;00m \u001b[38;5;129;01mnot\u001b[39;00m os\u001b[38;5;241m.\u001b[39mpath\u001b[38;5;241m.\u001b[39mexists(model_name_or_path):\n\u001b[1;32m---> 63\u001b[0m     model_name_or_path \u001b[38;5;241m=\u001b[39m \u001b[43msnapshot_download\u001b[49m\u001b[43m(\u001b[49m\n\u001b[0;32m     64\u001b[0m \u001b[43m        \u001b[49m\u001b[43mrepo_id\u001b[49m\u001b[38;5;241;43m=\u001b[39;49m\u001b[43mmodel_name_or_path\u001b[49m\u001b[43m,\u001b[49m\n\u001b[0;32m     65\u001b[0m \u001b[43m        \u001b[49m\u001b[43mcache_dir\u001b[49m\u001b[38;5;241;43m=\u001b[39;49m\u001b[43mcache_folder\u001b[49m\u001b[43m,\u001b[49m\n\u001b[0;32m     66\u001b[0m \u001b[43m        \u001b[49m\u001b[43mignore_patterns\u001b[49m\u001b[38;5;241;43m=\u001b[39;49m\u001b[43m[\u001b[49m\u001b[38;5;124;43m'\u001b[39;49m\u001b[38;5;124;43mflax_model.msgpack\u001b[39;49m\u001b[38;5;124;43m'\u001b[39;49m\u001b[43m,\u001b[49m\u001b[43m \u001b[49m\u001b[38;5;124;43m'\u001b[39;49m\u001b[38;5;124;43mrust_model.ot\u001b[39;49m\u001b[38;5;124;43m'\u001b[39;49m\u001b[43m,\u001b[49m\u001b[43m \u001b[49m\u001b[38;5;124;43m'\u001b[39;49m\u001b[38;5;124;43mtf_model.h5\u001b[39;49m\u001b[38;5;124;43m'\u001b[39;49m\u001b[43m]\u001b[49m\n\u001b[0;32m     67\u001b[0m \u001b[43m    \u001b[49m\u001b[43m)\u001b[49m\n\u001b[0;32m     69\u001b[0m model \u001b[38;5;241m=\u001b[39m AutoModel\u001b[38;5;241m.\u001b[39mfrom_pretrained(\n\u001b[0;32m     70\u001b[0m     model_name_or_path,\n\u001b[0;32m     71\u001b[0m     cache_dir\u001b[38;5;241m=\u001b[39mcache_folder,\n\u001b[0;32m     72\u001b[0m     trust_remote_code\u001b[38;5;241m=\u001b[39mtrust_remote_code\n\u001b[0;32m     73\u001b[0m )\n\u001b[0;32m     74\u001b[0m colbert_linear \u001b[38;5;241m=\u001b[39m torch\u001b[38;5;241m.\u001b[39mnn\u001b[38;5;241m.\u001b[39mLinear(\n\u001b[0;32m     75\u001b[0m     in_features\u001b[38;5;241m=\u001b[39mmodel\u001b[38;5;241m.\u001b[39mconfig\u001b[38;5;241m.\u001b[39mhidden_size,\n\u001b[0;32m     76\u001b[0m     out_features\u001b[38;5;241m=\u001b[39mmodel\u001b[38;5;241m.\u001b[39mconfig\u001b[38;5;241m.\u001b[39mhidden_size \u001b[38;5;28;01mif\u001b[39;00m colbert_dim \u001b[38;5;241m<\u001b[39m\u001b[38;5;241m=\u001b[39m \u001b[38;5;241m0\u001b[39m \u001b[38;5;28;01melse\u001b[39;00m colbert_dim\n\u001b[0;32m     77\u001b[0m )\n",
      "File \u001b[1;32mc:\\Users\\2ndro\\anaconda3\\envs\\bge-m3\\lib\\site-packages\\huggingface_hub\\utils\\_validators.py:114\u001b[0m, in \u001b[0;36mvalidate_hf_hub_args.<locals>._inner_fn\u001b[1;34m(*args, **kwargs)\u001b[0m\n\u001b[0;32m    111\u001b[0m \u001b[38;5;28;01mif\u001b[39;00m check_use_auth_token:\n\u001b[0;32m    112\u001b[0m     kwargs \u001b[38;5;241m=\u001b[39m smoothly_deprecate_use_auth_token(fn_name\u001b[38;5;241m=\u001b[39mfn\u001b[38;5;241m.\u001b[39m\u001b[38;5;18m__name__\u001b[39m, has_token\u001b[38;5;241m=\u001b[39mhas_token, kwargs\u001b[38;5;241m=\u001b[39mkwargs)\n\u001b[1;32m--> 114\u001b[0m \u001b[38;5;28;01mreturn\u001b[39;00m fn(\u001b[38;5;241m*\u001b[39margs, \u001b[38;5;241m*\u001b[39m\u001b[38;5;241m*\u001b[39mkwargs)\n",
      "File \u001b[1;32mc:\\Users\\2ndro\\anaconda3\\envs\\bge-m3\\lib\\site-packages\\huggingface_hub\\_snapshot_download.py:327\u001b[0m, in \u001b[0;36msnapshot_download\u001b[1;34m(repo_id, repo_type, revision, cache_dir, local_dir, library_name, library_version, user_agent, proxies, etag_timeout, force_download, token, local_files_only, allow_patterns, ignore_patterns, max_workers, tqdm_class, headers, endpoint, local_dir_use_symlinks, resume_download)\u001b[0m\n\u001b[0;32m    325\u001b[0m         _inner_hf_hub_download(file)\n\u001b[0;32m    326\u001b[0m \u001b[38;5;28;01melse\u001b[39;00m:\n\u001b[1;32m--> 327\u001b[0m     \u001b[43mthread_map\u001b[49m\u001b[43m(\u001b[49m\n\u001b[0;32m    328\u001b[0m \u001b[43m        \u001b[49m\u001b[43m_inner_hf_hub_download\u001b[49m\u001b[43m,\u001b[49m\n\u001b[0;32m    329\u001b[0m \u001b[43m        \u001b[49m\u001b[43mfiltered_repo_files\u001b[49m\u001b[43m,\u001b[49m\n\u001b[0;32m    330\u001b[0m \u001b[43m        \u001b[49m\u001b[43mdesc\u001b[49m\u001b[38;5;241;43m=\u001b[39;49m\u001b[43mtqdm_desc\u001b[49m\u001b[43m,\u001b[49m\n\u001b[0;32m    331\u001b[0m \u001b[43m        \u001b[49m\u001b[43mmax_workers\u001b[49m\u001b[38;5;241;43m=\u001b[39;49m\u001b[43mmax_workers\u001b[49m\u001b[43m,\u001b[49m\n\u001b[0;32m    332\u001b[0m \u001b[43m        \u001b[49m\u001b[38;5;66;43;03m# User can use its own tqdm class or the default one from `huggingface_hub.utils`\u001b[39;49;00m\n\u001b[0;32m    333\u001b[0m \u001b[43m        \u001b[49m\u001b[43mtqdm_class\u001b[49m\u001b[38;5;241;43m=\u001b[39;49m\u001b[43mtqdm_class\u001b[49m\u001b[43m \u001b[49m\u001b[38;5;129;43;01mor\u001b[39;49;00m\u001b[43m \u001b[49m\u001b[43mhf_tqdm\u001b[49m\u001b[43m,\u001b[49m\n\u001b[0;32m    334\u001b[0m \u001b[43m    \u001b[49m\u001b[43m)\u001b[49m\n\u001b[0;32m    336\u001b[0m \u001b[38;5;28;01mif\u001b[39;00m local_dir \u001b[38;5;129;01mis\u001b[39;00m \u001b[38;5;129;01mnot\u001b[39;00m \u001b[38;5;28;01mNone\u001b[39;00m:\n\u001b[0;32m    337\u001b[0m     \u001b[38;5;28;01mreturn\u001b[39;00m \u001b[38;5;28mstr\u001b[39m(os\u001b[38;5;241m.\u001b[39mpath\u001b[38;5;241m.\u001b[39mrealpath(local_dir))\n",
      "File \u001b[1;32mc:\\Users\\2ndro\\anaconda3\\envs\\bge-m3\\lib\\site-packages\\tqdm\\contrib\\concurrent.py:69\u001b[0m, in \u001b[0;36mthread_map\u001b[1;34m(fn, *iterables, **tqdm_kwargs)\u001b[0m\n\u001b[0;32m     55\u001b[0m \u001b[38;5;250m\u001b[39m\u001b[38;5;124;03m\"\"\"\u001b[39;00m\n\u001b[0;32m     56\u001b[0m \u001b[38;5;124;03mEquivalent of `list(map(fn, *iterables))`\u001b[39;00m\n\u001b[0;32m     57\u001b[0m \u001b[38;5;124;03mdriven by `concurrent.futures.ThreadPoolExecutor`.\u001b[39;00m\n\u001b[1;32m   (...)\u001b[0m\n\u001b[0;32m     66\u001b[0m \u001b[38;5;124;03m    [default: max(32, cpu_count() + 4)].\u001b[39;00m\n\u001b[0;32m     67\u001b[0m \u001b[38;5;124;03m\"\"\"\u001b[39;00m\n\u001b[0;32m     68\u001b[0m \u001b[38;5;28;01mfrom\u001b[39;00m\u001b[38;5;250m \u001b[39m\u001b[38;5;21;01mconcurrent\u001b[39;00m\u001b[38;5;21;01m.\u001b[39;00m\u001b[38;5;21;01mfutures\u001b[39;00m\u001b[38;5;250m \u001b[39m\u001b[38;5;28;01mimport\u001b[39;00m ThreadPoolExecutor\n\u001b[1;32m---> 69\u001b[0m \u001b[38;5;28;01mreturn\u001b[39;00m _executor_map(ThreadPoolExecutor, fn, \u001b[38;5;241m*\u001b[39miterables, \u001b[38;5;241m*\u001b[39m\u001b[38;5;241m*\u001b[39mtqdm_kwargs)\n",
      "File \u001b[1;32mc:\\Users\\2ndro\\anaconda3\\envs\\bge-m3\\lib\\site-packages\\tqdm\\contrib\\concurrent.py:51\u001b[0m, in \u001b[0;36m_executor_map\u001b[1;34m(PoolExecutor, fn, *iterables, **tqdm_kwargs)\u001b[0m\n\u001b[0;32m     47\u001b[0m \u001b[38;5;28;01mwith\u001b[39;00m ensure_lock(tqdm_class, lock_name\u001b[38;5;241m=\u001b[39mlock_name) \u001b[38;5;28;01mas\u001b[39;00m lk:\n\u001b[0;32m     48\u001b[0m     \u001b[38;5;66;03m# share lock in case workers are already using `tqdm`\u001b[39;00m\n\u001b[0;32m     49\u001b[0m     \u001b[38;5;28;01mwith\u001b[39;00m PoolExecutor(max_workers\u001b[38;5;241m=\u001b[39mmax_workers, initializer\u001b[38;5;241m=\u001b[39mtqdm_class\u001b[38;5;241m.\u001b[39mset_lock,\n\u001b[0;32m     50\u001b[0m                       initargs\u001b[38;5;241m=\u001b[39m(lk,)) \u001b[38;5;28;01mas\u001b[39;00m ex:\n\u001b[1;32m---> 51\u001b[0m         \u001b[38;5;28;01mreturn\u001b[39;00m \u001b[38;5;28;43mlist\u001b[39;49m\u001b[43m(\u001b[49m\u001b[43mtqdm_class\u001b[49m\u001b[43m(\u001b[49m\u001b[43mex\u001b[49m\u001b[38;5;241;43m.\u001b[39;49m\u001b[43mmap\u001b[49m\u001b[43m(\u001b[49m\u001b[43mfn\u001b[49m\u001b[43m,\u001b[49m\u001b[43m \u001b[49m\u001b[38;5;241;43m*\u001b[39;49m\u001b[43miterables\u001b[49m\u001b[43m,\u001b[49m\u001b[43m \u001b[49m\u001b[43mchunksize\u001b[49m\u001b[38;5;241;43m=\u001b[39;49m\u001b[43mchunksize\u001b[49m\u001b[43m)\u001b[49m\u001b[43m,\u001b[49m\u001b[43m \u001b[49m\u001b[38;5;241;43m*\u001b[39;49m\u001b[38;5;241;43m*\u001b[39;49m\u001b[43mkwargs\u001b[49m\u001b[43m)\u001b[49m\u001b[43m)\u001b[49m\n",
      "File \u001b[1;32mc:\\Users\\2ndro\\anaconda3\\envs\\bge-m3\\lib\\site-packages\\tqdm\\std.py:1181\u001b[0m, in \u001b[0;36mtqdm.__iter__\u001b[1;34m(self)\u001b[0m\n\u001b[0;32m   1178\u001b[0m time \u001b[38;5;241m=\u001b[39m \u001b[38;5;28mself\u001b[39m\u001b[38;5;241m.\u001b[39m_time\n\u001b[0;32m   1180\u001b[0m \u001b[38;5;28;01mtry\u001b[39;00m:\n\u001b[1;32m-> 1181\u001b[0m     \u001b[38;5;28;01mfor\u001b[39;00m obj \u001b[38;5;129;01min\u001b[39;00m iterable:\n\u001b[0;32m   1182\u001b[0m         \u001b[38;5;28;01myield\u001b[39;00m obj\n\u001b[0;32m   1183\u001b[0m         \u001b[38;5;66;03m# Update and possibly print the progressbar.\u001b[39;00m\n\u001b[0;32m   1184\u001b[0m         \u001b[38;5;66;03m# Note: does not call self.update(1) for speed optimisation.\u001b[39;00m\n",
      "File \u001b[1;32mc:\\Users\\2ndro\\anaconda3\\envs\\bge-m3\\lib\\concurrent\\futures\\_base.py:609\u001b[0m, in \u001b[0;36mExecutor.map.<locals>.result_iterator\u001b[1;34m()\u001b[0m\n\u001b[0;32m    606\u001b[0m \u001b[38;5;28;01mwhile\u001b[39;00m fs:\n\u001b[0;32m    607\u001b[0m     \u001b[38;5;66;03m# Careful not to keep a reference to the popped future\u001b[39;00m\n\u001b[0;32m    608\u001b[0m     \u001b[38;5;28;01mif\u001b[39;00m timeout \u001b[38;5;129;01mis\u001b[39;00m \u001b[38;5;28;01mNone\u001b[39;00m:\n\u001b[1;32m--> 609\u001b[0m         \u001b[38;5;28;01myield\u001b[39;00m \u001b[43mfs\u001b[49m\u001b[38;5;241;43m.\u001b[39;49m\u001b[43mpop\u001b[49m\u001b[43m(\u001b[49m\u001b[43m)\u001b[49m\u001b[38;5;241;43m.\u001b[39;49m\u001b[43mresult\u001b[49m\u001b[43m(\u001b[49m\u001b[43m)\u001b[49m\n\u001b[0;32m    610\u001b[0m     \u001b[38;5;28;01melse\u001b[39;00m:\n\u001b[0;32m    611\u001b[0m         \u001b[38;5;28;01myield\u001b[39;00m fs\u001b[38;5;241m.\u001b[39mpop()\u001b[38;5;241m.\u001b[39mresult(end_time \u001b[38;5;241m-\u001b[39m time\u001b[38;5;241m.\u001b[39mmonotonic())\n",
      "File \u001b[1;32mc:\\Users\\2ndro\\anaconda3\\envs\\bge-m3\\lib\\concurrent\\futures\\_base.py:441\u001b[0m, in \u001b[0;36mFuture.result\u001b[1;34m(self, timeout)\u001b[0m\n\u001b[0;32m    438\u001b[0m \u001b[38;5;28;01melif\u001b[39;00m \u001b[38;5;28mself\u001b[39m\u001b[38;5;241m.\u001b[39m_state \u001b[38;5;241m==\u001b[39m FINISHED:\n\u001b[0;32m    439\u001b[0m     \u001b[38;5;28;01mreturn\u001b[39;00m \u001b[38;5;28mself\u001b[39m\u001b[38;5;241m.\u001b[39m__get_result()\n\u001b[1;32m--> 441\u001b[0m \u001b[38;5;28;43mself\u001b[39;49m\u001b[38;5;241;43m.\u001b[39;49m\u001b[43m_condition\u001b[49m\u001b[38;5;241;43m.\u001b[39;49m\u001b[43mwait\u001b[49m\u001b[43m(\u001b[49m\u001b[43mtimeout\u001b[49m\u001b[43m)\u001b[49m\n\u001b[0;32m    443\u001b[0m \u001b[38;5;28;01mif\u001b[39;00m \u001b[38;5;28mself\u001b[39m\u001b[38;5;241m.\u001b[39m_state \u001b[38;5;129;01min\u001b[39;00m [CANCELLED, CANCELLED_AND_NOTIFIED]:\n\u001b[0;32m    444\u001b[0m     \u001b[38;5;28;01mraise\u001b[39;00m CancelledError()\n",
      "File \u001b[1;32mc:\\Users\\2ndro\\anaconda3\\envs\\bge-m3\\lib\\threading.py:312\u001b[0m, in \u001b[0;36mCondition.wait\u001b[1;34m(self, timeout)\u001b[0m\n\u001b[0;32m    310\u001b[0m \u001b[38;5;28;01mtry\u001b[39;00m:    \u001b[38;5;66;03m# restore state no matter what (e.g., KeyboardInterrupt)\u001b[39;00m\n\u001b[0;32m    311\u001b[0m     \u001b[38;5;28;01mif\u001b[39;00m timeout \u001b[38;5;129;01mis\u001b[39;00m \u001b[38;5;28;01mNone\u001b[39;00m:\n\u001b[1;32m--> 312\u001b[0m         \u001b[43mwaiter\u001b[49m\u001b[38;5;241;43m.\u001b[39;49m\u001b[43macquire\u001b[49m\u001b[43m(\u001b[49m\u001b[43m)\u001b[49m\n\u001b[0;32m    313\u001b[0m         gotit \u001b[38;5;241m=\u001b[39m \u001b[38;5;28;01mTrue\u001b[39;00m\n\u001b[0;32m    314\u001b[0m     \u001b[38;5;28;01melse\u001b[39;00m:\n",
      "\u001b[1;31mKeyboardInterrupt\u001b[0m: "
     ]
    }
   ],
   "source": [
    "from FlagEmbedding import BGEM3FlagModel\n",
    "import tqdm as notebook_tqdm\n",
    "\n",
    "model = BGEM3FlagModel('BAAI/bge-m3',  \n",
    "                       use_fp16=True) # Setting use_fp16 to True speeds up computation with a slight performance degradation\n",
    "\n",
    "print(model)"
   ]
  },
  {
   "cell_type": "code",
   "execution_count": 4,
   "id": "72c0e762",
   "metadata": {},
   "outputs": [
    {
     "name": "stdout",
     "output_type": "stream",
     "text": [
      "[0.51898307 0.39796674]\n"
     ]
    }
   ],
   "source": [
    "e1 = \"Pusat studi budaya Islam-Jawa Demak: Budaya merupakan faktor utama dalam pengembangan dunia arsitektur, seringkali keberadaan budaya ditampilkan melalui tempelan-tempelan belaka dan hanya memperlhatkan keberadaan yang kosong akan makna. Keberadaan proyek ini berusaha menggali kembali makna budaya yang terkubur. Pusat studi budaya Islam-Jawa Demak merupakan salah satu wadah arsitektural, fasilitas pendidkan, fasilitas teater, fasilitas perpustakaan dan fasilitas asrama. Konsep yang digali merupakan konsep dari atap Masjid Agung Demak yaitu konsep Islam, Iman dan Ihsan. Pengembangan konsep yang dilakukan adalah konsep perjalanan manusia menuju kesempurnaan. Pengadaan ruang studi bagi pelajar merupakan satu upaya untuk mencapai kesadaran berbudaya, sehingga para pelajar dapat mengerti tentang budaya. Masyarakat diupayakan dapat menikmati keberadaan budaya setempat. keberadaan bangunan selain digunakan untuk pagelaran pameran, seni drama atau seni musik, namun digunakan sebagai pembelajaran dan pengkajian budaya dengan keberadaan perpustakaan sebagai sarana penggaliannya dan ruang koderensi sebagai ruang penyebarannya/pembahanya\"\n",
    "e2 = [\n",
    "    \"Budaya Islam-Jawa\", \n",
    "    \"Pengembangan Sistem Informasi Geografis\"\n",
    "]\n",
    "\n",
    "embeddings_1 = model.encode(e1, \n",
    "                            batch_size=12, \n",
    "                            max_length=8192, # If you don't need such a long length, you can set a smaller value to speed up the encoding process.\n",
    "                            )['dense_vecs']\n",
    "embeddings_2 = model.encode(e2)['dense_vecs']\n",
    "similarity = embeddings_1 @ embeddings_2.T\n",
    "print(similarity)"
   ]
  }
 ],
 "metadata": {
  "kernelspec": {
   "display_name": "bge-m3",
   "language": "python",
   "name": "python3"
  },
  "language_info": {
   "codemirror_mode": {
    "name": "ipython",
    "version": 3
   },
   "file_extension": ".py",
   "mimetype": "text/x-python",
   "name": "python",
   "nbconvert_exporter": "python",
   "pygments_lexer": "ipython3",
   "version": "3.9.21"
  }
 },
 "nbformat": 4,
 "nbformat_minor": 5
}
