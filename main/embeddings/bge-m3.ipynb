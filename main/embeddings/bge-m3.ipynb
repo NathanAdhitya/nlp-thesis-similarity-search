{
 "cells": [
  {
   "cell_type": "code",
   "execution_count": 2,
   "id": "8d0568d0",
   "metadata": {},
   "outputs": [
    {
     "name": "stdout",
     "output_type": "stream",
     "text": [
      "Requirement already satisfied: FlagEmbedding in c:\\users\\nathan adhitya\\documents\\nlp-thesis-similarity-search\\.venv\\lib\\site-packages (1.3.4)\n",
      "Collecting transformers==4.51.3\n",
      "  Downloading transformers-4.51.3-py3-none-any.whl.metadata (38 kB)\n",
      "Requirement already satisfied: filelock in c:\\users\\nathan adhitya\\documents\\nlp-thesis-similarity-search\\.venv\\lib\\site-packages (from transformers==4.51.3) (3.18.0)\n",
      "Requirement already satisfied: huggingface-hub<1.0,>=0.30.0 in c:\\users\\nathan adhitya\\documents\\nlp-thesis-similarity-search\\.venv\\lib\\site-packages (from transformers==4.51.3) (0.32.0)\n",
      "Requirement already satisfied: numpy>=1.17 in c:\\users\\nathan adhitya\\documents\\nlp-thesis-similarity-search\\.venv\\lib\\site-packages (from transformers==4.51.3) (2.2.6)\n",
      "Requirement already satisfied: packaging>=20.0 in c:\\users\\nathan adhitya\\documents\\nlp-thesis-similarity-search\\.venv\\lib\\site-packages (from transformers==4.51.3) (25.0)\n",
      "Requirement already satisfied: pyyaml>=5.1 in c:\\users\\nathan adhitya\\documents\\nlp-thesis-similarity-search\\.venv\\lib\\site-packages (from transformers==4.51.3) (6.0.2)\n",
      "Requirement already satisfied: regex!=2019.12.17 in c:\\users\\nathan adhitya\\documents\\nlp-thesis-similarity-search\\.venv\\lib\\site-packages (from transformers==4.51.3) (2024.11.6)\n",
      "Requirement already satisfied: requests in c:\\users\\nathan adhitya\\documents\\nlp-thesis-similarity-search\\.venv\\lib\\site-packages (from transformers==4.51.3) (2.32.3)\n",
      "Requirement already satisfied: tokenizers<0.22,>=0.21 in c:\\users\\nathan adhitya\\documents\\nlp-thesis-similarity-search\\.venv\\lib\\site-packages (from transformers==4.51.3) (0.21.1)\n",
      "Requirement already satisfied: safetensors>=0.4.3 in c:\\users\\nathan adhitya\\documents\\nlp-thesis-similarity-search\\.venv\\lib\\site-packages (from transformers==4.51.3) (0.5.3)\n",
      "Requirement already satisfied: tqdm>=4.27 in c:\\users\\nathan adhitya\\documents\\nlp-thesis-similarity-search\\.venv\\lib\\site-packages (from transformers==4.51.3) (4.67.1)\n",
      "Requirement already satisfied: fsspec>=2023.5.0 in c:\\users\\nathan adhitya\\documents\\nlp-thesis-similarity-search\\.venv\\lib\\site-packages (from huggingface-hub<1.0,>=0.30.0->transformers==4.51.3) (2025.3.0)\n",
      "Requirement already satisfied: typing-extensions>=3.7.4.3 in c:\\users\\nathan adhitya\\documents\\nlp-thesis-similarity-search\\.venv\\lib\\site-packages (from huggingface-hub<1.0,>=0.30.0->transformers==4.51.3) (4.13.2)\n",
      "Requirement already satisfied: torch>=1.6.0 in c:\\users\\nathan adhitya\\documents\\nlp-thesis-similarity-search\\.venv\\lib\\site-packages (from FlagEmbedding) (2.7.0)\n",
      "Requirement already satisfied: datasets>=2.19.0 in c:\\users\\nathan adhitya\\documents\\nlp-thesis-similarity-search\\.venv\\lib\\site-packages (from FlagEmbedding) (3.6.0)\n",
      "Requirement already satisfied: accelerate>=0.20.1 in c:\\users\\nathan adhitya\\documents\\nlp-thesis-similarity-search\\.venv\\lib\\site-packages (from FlagEmbedding) (1.7.0)\n",
      "Requirement already satisfied: sentence_transformers in c:\\users\\nathan adhitya\\documents\\nlp-thesis-similarity-search\\.venv\\lib\\site-packages (from FlagEmbedding) (4.1.0)\n",
      "Requirement already satisfied: peft in c:\\users\\nathan adhitya\\documents\\nlp-thesis-similarity-search\\.venv\\lib\\site-packages (from FlagEmbedding) (0.15.2)\n",
      "Requirement already satisfied: ir-datasets in c:\\users\\nathan adhitya\\documents\\nlp-thesis-similarity-search\\.venv\\lib\\site-packages (from FlagEmbedding) (0.5.10)\n",
      "Requirement already satisfied: sentencepiece in c:\\users\\nathan adhitya\\documents\\nlp-thesis-similarity-search\\.venv\\lib\\site-packages (from FlagEmbedding) (0.2.0)\n",
      "Requirement already satisfied: protobuf in c:\\users\\nathan adhitya\\documents\\nlp-thesis-similarity-search\\.venv\\lib\\site-packages (from FlagEmbedding) (6.31.0)\n",
      "Requirement already satisfied: psutil in c:\\users\\nathan adhitya\\documents\\nlp-thesis-similarity-search\\.venv\\lib\\site-packages (from accelerate>=0.20.1->FlagEmbedding) (7.0.0)\n",
      "Requirement already satisfied: pyarrow>=15.0.0 in c:\\users\\nathan adhitya\\documents\\nlp-thesis-similarity-search\\.venv\\lib\\site-packages (from datasets>=2.19.0->FlagEmbedding) (20.0.0)\n",
      "Requirement already satisfied: dill<0.3.9,>=0.3.0 in c:\\users\\nathan adhitya\\documents\\nlp-thesis-similarity-search\\.venv\\lib\\site-packages (from datasets>=2.19.0->FlagEmbedding) (0.3.8)\n",
      "Requirement already satisfied: pandas in c:\\users\\nathan adhitya\\documents\\nlp-thesis-similarity-search\\.venv\\lib\\site-packages (from datasets>=2.19.0->FlagEmbedding) (2.2.3)\n",
      "Requirement already satisfied: xxhash in c:\\users\\nathan adhitya\\documents\\nlp-thesis-similarity-search\\.venv\\lib\\site-packages (from datasets>=2.19.0->FlagEmbedding) (3.5.0)\n",
      "Requirement already satisfied: multiprocess<0.70.17 in c:\\users\\nathan adhitya\\documents\\nlp-thesis-similarity-search\\.venv\\lib\\site-packages (from datasets>=2.19.0->FlagEmbedding) (0.70.16)\n",
      "Requirement already satisfied: aiohttp!=4.0.0a0,!=4.0.0a1 in c:\\users\\nathan adhitya\\documents\\nlp-thesis-similarity-search\\.venv\\lib\\site-packages (from fsspec[http]<=2025.3.0,>=2023.1.0->datasets>=2.19.0->FlagEmbedding) (3.12.0)\n",
      "Requirement already satisfied: aiohappyeyeballs>=2.5.0 in c:\\users\\nathan adhitya\\documents\\nlp-thesis-similarity-search\\.venv\\lib\\site-packages (from aiohttp!=4.0.0a0,!=4.0.0a1->fsspec[http]<=2025.3.0,>=2023.1.0->datasets>=2.19.0->FlagEmbedding) (2.6.1)\n",
      "Requirement already satisfied: aiosignal>=1.1.2 in c:\\users\\nathan adhitya\\documents\\nlp-thesis-similarity-search\\.venv\\lib\\site-packages (from aiohttp!=4.0.0a0,!=4.0.0a1->fsspec[http]<=2025.3.0,>=2023.1.0->datasets>=2.19.0->FlagEmbedding) (1.3.2)\n",
      "Requirement already satisfied: attrs>=17.3.0 in c:\\users\\nathan adhitya\\documents\\nlp-thesis-similarity-search\\.venv\\lib\\site-packages (from aiohttp!=4.0.0a0,!=4.0.0a1->fsspec[http]<=2025.3.0,>=2023.1.0->datasets>=2.19.0->FlagEmbedding) (25.3.0)\n",
      "Requirement already satisfied: frozenlist>=1.1.1 in c:\\users\\nathan adhitya\\documents\\nlp-thesis-similarity-search\\.venv\\lib\\site-packages (from aiohttp!=4.0.0a0,!=4.0.0a1->fsspec[http]<=2025.3.0,>=2023.1.0->datasets>=2.19.0->FlagEmbedding) (1.6.0)\n",
      "Requirement already satisfied: multidict<7.0,>=4.5 in c:\\users\\nathan adhitya\\documents\\nlp-thesis-similarity-search\\.venv\\lib\\site-packages (from aiohttp!=4.0.0a0,!=4.0.0a1->fsspec[http]<=2025.3.0,>=2023.1.0->datasets>=2.19.0->FlagEmbedding) (6.4.4)\n",
      "Requirement already satisfied: propcache>=0.2.0 in c:\\users\\nathan adhitya\\documents\\nlp-thesis-similarity-search\\.venv\\lib\\site-packages (from aiohttp!=4.0.0a0,!=4.0.0a1->fsspec[http]<=2025.3.0,>=2023.1.0->datasets>=2.19.0->FlagEmbedding) (0.3.1)\n",
      "Requirement already satisfied: yarl<2.0,>=1.17.0 in c:\\users\\nathan adhitya\\documents\\nlp-thesis-similarity-search\\.venv\\lib\\site-packages (from aiohttp!=4.0.0a0,!=4.0.0a1->fsspec[http]<=2025.3.0,>=2023.1.0->datasets>=2.19.0->FlagEmbedding) (1.20.0)\n",
      "Requirement already satisfied: idna>=2.0 in c:\\users\\nathan adhitya\\documents\\nlp-thesis-similarity-search\\.venv\\lib\\site-packages (from yarl<2.0,>=1.17.0->aiohttp!=4.0.0a0,!=4.0.0a1->fsspec[http]<=2025.3.0,>=2023.1.0->datasets>=2.19.0->FlagEmbedding) (3.10)\n",
      "Requirement already satisfied: charset-normalizer<4,>=2 in c:\\users\\nathan adhitya\\documents\\nlp-thesis-similarity-search\\.venv\\lib\\site-packages (from requests->transformers==4.51.3) (3.4.2)\n",
      "Requirement already satisfied: urllib3<3,>=1.21.1 in c:\\users\\nathan adhitya\\documents\\nlp-thesis-similarity-search\\.venv\\lib\\site-packages (from requests->transformers==4.51.3) (2.4.0)\n",
      "Requirement already satisfied: certifi>=2017.4.17 in c:\\users\\nathan adhitya\\documents\\nlp-thesis-similarity-search\\.venv\\lib\\site-packages (from requests->transformers==4.51.3) (2025.4.26)\n",
      "Requirement already satisfied: sympy>=1.13.3 in c:\\users\\nathan adhitya\\documents\\nlp-thesis-similarity-search\\.venv\\lib\\site-packages (from torch>=1.6.0->FlagEmbedding) (1.14.0)\n",
      "Requirement already satisfied: networkx in c:\\users\\nathan adhitya\\documents\\nlp-thesis-similarity-search\\.venv\\lib\\site-packages (from torch>=1.6.0->FlagEmbedding) (3.4.2)\n",
      "Requirement already satisfied: jinja2 in c:\\users\\nathan adhitya\\documents\\nlp-thesis-similarity-search\\.venv\\lib\\site-packages (from torch>=1.6.0->FlagEmbedding) (3.1.6)\n",
      "Requirement already satisfied: setuptools in c:\\users\\nathan adhitya\\documents\\nlp-thesis-similarity-search\\.venv\\lib\\site-packages (from torch>=1.6.0->FlagEmbedding) (80.8.0)\n",
      "Requirement already satisfied: mpmath<1.4,>=1.1.0 in c:\\users\\nathan adhitya\\documents\\nlp-thesis-similarity-search\\.venv\\lib\\site-packages (from sympy>=1.13.3->torch>=1.6.0->FlagEmbedding) (1.3.0)\n",
      "Requirement already satisfied: colorama in c:\\users\\nathan adhitya\\documents\\nlp-thesis-similarity-search\\.venv\\lib\\site-packages (from tqdm>=4.27->transformers==4.51.3) (0.4.6)\n",
      "Requirement already satisfied: beautifulsoup4>=4.4.1 in c:\\users\\nathan adhitya\\documents\\nlp-thesis-similarity-search\\.venv\\lib\\site-packages (from ir-datasets->FlagEmbedding) (4.13.4)\n",
      "Requirement already satisfied: inscriptis>=2.2.0 in c:\\users\\nathan adhitya\\documents\\nlp-thesis-similarity-search\\.venv\\lib\\site-packages (from ir-datasets->FlagEmbedding) (2.6.0)\n",
      "Requirement already satisfied: lxml>=4.5.2 in c:\\users\\nathan adhitya\\documents\\nlp-thesis-similarity-search\\.venv\\lib\\site-packages (from ir-datasets->FlagEmbedding) (5.4.0)\n",
      "Requirement already satisfied: trec-car-tools>=2.5.4 in c:\\users\\nathan adhitya\\documents\\nlp-thesis-similarity-search\\.venv\\lib\\site-packages (from ir-datasets->FlagEmbedding) (2.6)\n",
      "Requirement already satisfied: lz4>=3.1.10 in c:\\users\\nathan adhitya\\documents\\nlp-thesis-similarity-search\\.venv\\lib\\site-packages (from ir-datasets->FlagEmbedding) (4.4.4)\n",
      "Requirement already satisfied: warc3-wet>=0.2.3 in c:\\users\\nathan adhitya\\documents\\nlp-thesis-similarity-search\\.venv\\lib\\site-packages (from ir-datasets->FlagEmbedding) (0.2.5)\n",
      "Requirement already satisfied: warc3-wet-clueweb09>=0.2.5 in c:\\users\\nathan adhitya\\documents\\nlp-thesis-similarity-search\\.venv\\lib\\site-packages (from ir-datasets->FlagEmbedding) (0.2.5)\n",
      "Requirement already satisfied: zlib-state>=0.1.3 in c:\\users\\nathan adhitya\\documents\\nlp-thesis-similarity-search\\.venv\\lib\\site-packages (from ir-datasets->FlagEmbedding) (0.1.9)\n",
      "Requirement already satisfied: ijson>=3.1.3 in c:\\users\\nathan adhitya\\documents\\nlp-thesis-similarity-search\\.venv\\lib\\site-packages (from ir-datasets->FlagEmbedding) (3.4.0)\n",
      "Requirement already satisfied: unlzw3>=0.2.1 in c:\\users\\nathan adhitya\\documents\\nlp-thesis-similarity-search\\.venv\\lib\\site-packages (from ir-datasets->FlagEmbedding) (0.2.3)\n",
      "Requirement already satisfied: soupsieve>1.2 in c:\\users\\nathan adhitya\\documents\\nlp-thesis-similarity-search\\.venv\\lib\\site-packages (from beautifulsoup4>=4.4.1->ir-datasets->FlagEmbedding) (2.7)\n",
      "Requirement already satisfied: cbor>=1.0.0 in c:\\users\\nathan adhitya\\documents\\nlp-thesis-similarity-search\\.venv\\lib\\site-packages (from trec-car-tools>=2.5.4->ir-datasets->FlagEmbedding) (1.0.0)\n",
      "Requirement already satisfied: MarkupSafe>=2.0 in c:\\users\\nathan adhitya\\documents\\nlp-thesis-similarity-search\\.venv\\lib\\site-packages (from jinja2->torch>=1.6.0->FlagEmbedding) (3.0.2)\n",
      "Requirement already satisfied: python-dateutil>=2.8.2 in c:\\users\\nathan adhitya\\documents\\nlp-thesis-similarity-search\\.venv\\lib\\site-packages (from pandas->datasets>=2.19.0->FlagEmbedding) (2.9.0.post0)\n",
      "Requirement already satisfied: pytz>=2020.1 in c:\\users\\nathan adhitya\\documents\\nlp-thesis-similarity-search\\.venv\\lib\\site-packages (from pandas->datasets>=2.19.0->FlagEmbedding) (2025.2)\n",
      "Requirement already satisfied: tzdata>=2022.7 in c:\\users\\nathan adhitya\\documents\\nlp-thesis-similarity-search\\.venv\\lib\\site-packages (from pandas->datasets>=2.19.0->FlagEmbedding) (2025.2)\n",
      "Requirement already satisfied: six>=1.5 in c:\\users\\nathan adhitya\\documents\\nlp-thesis-similarity-search\\.venv\\lib\\site-packages (from python-dateutil>=2.8.2->pandas->datasets>=2.19.0->FlagEmbedding) (1.17.0)\n",
      "Requirement already satisfied: scikit-learn in c:\\users\\nathan adhitya\\documents\\nlp-thesis-similarity-search\\.venv\\lib\\site-packages (from sentence_transformers->FlagEmbedding) (1.6.1)\n",
      "Requirement already satisfied: scipy in c:\\users\\nathan adhitya\\documents\\nlp-thesis-similarity-search\\.venv\\lib\\site-packages (from sentence_transformers->FlagEmbedding) (1.15.3)\n",
      "Requirement already satisfied: Pillow in c:\\users\\nathan adhitya\\documents\\nlp-thesis-similarity-search\\.venv\\lib\\site-packages (from sentence_transformers->FlagEmbedding) (11.2.1)\n",
      "Requirement already satisfied: joblib>=1.2.0 in c:\\users\\nathan adhitya\\documents\\nlp-thesis-similarity-search\\.venv\\lib\\site-packages (from scikit-learn->sentence_transformers->FlagEmbedding) (1.5.1)\n",
      "Requirement already satisfied: threadpoolctl>=3.1.0 in c:\\users\\nathan adhitya\\documents\\nlp-thesis-similarity-search\\.venv\\lib\\site-packages (from scikit-learn->sentence_transformers->FlagEmbedding) (3.6.0)\n",
      "Downloading transformers-4.51.3-py3-none-any.whl (10.4 MB)\n",
      "   ---------------------------------------- 0.0/10.4 MB ? eta -:--:--\n",
      "   ---------- ----------------------------- 2.6/10.4 MB 21.4 MB/s eta 0:00:01\n",
      "   ---------------------------------------  10.2/10.4 MB 33.5 MB/s eta 0:00:01\n",
      "   ---------------------------------------  10.2/10.4 MB 33.5 MB/s eta 0:00:01\n",
      "   ---------------------------------------- 10.4/10.4 MB 17.0 MB/s eta 0:00:00\n",
      "Installing collected packages: transformers\n",
      "  Attempting uninstall: transformers\n",
      "    Found existing installation: transformers 4.52.3\n",
      "    Uninstalling transformers-4.52.3:\n",
      "      Successfully uninstalled transformers-4.52.3\n",
      "Successfully installed transformers-4.51.3\n",
      "Note: you may need to restart the kernel to use updated packages.\n"
     ]
    }
   ],
   "source": [
    "%pip install -U FlagEmbedding transformers==4.51.3"
   ]
  },
  {
   "cell_type": "code",
   "execution_count": 1,
   "id": "a88d9ead",
   "metadata": {},
   "outputs": [
    {
     "name": "stderr",
     "output_type": "stream",
     "text": [
      "c:\\Users\\2ndro\\anaconda3\\envs\\bge-m3\\lib\\site-packages\\tqdm\\auto.py:21: TqdmWarning: IProgress not found. Please update jupyter and ipywidgets. See https://ipywidgets.readthedocs.io/en/stable/user_install.html\n",
      "  from .autonotebook import tqdm as notebook_tqdm\n",
      "Fetching 30 files: 100%|██████████| 30/30 [00:00<?, ?it/s]\n"
     ]
    },
    {
     "name": "stdout",
     "output_type": "stream",
     "text": [
      "<FlagEmbedding.inference.embedder.encoder_only.m3.M3Embedder object at 0x000001FFD9BE8B80>\n"
     ]
    }
   ],
   "source": [
    "from FlagEmbedding import BGEM3FlagModel\n",
    "import tqdm as notebook_tqdm\n",
    "\n",
    "model = BGEM3FlagModel('BAAI/bge-m3',  \n",
    "                       use_fp16=True) # Setting use_fp16 to True speeds up computation with a slight performance degradation\n",
    "\n",
    "print(model)"
   ]
  },
  {
   "cell_type": "code",
   "execution_count": 2,
   "id": "72c0e762",
   "metadata": {},
   "outputs": [
    {
     "name": "stderr",
     "output_type": "stream",
     "text": [
      "You're using a XLMRobertaTokenizerFast tokenizer. Please note that with a fast tokenizer, using the `__call__` method is faster than using a method to encode the text followed by a call to the `pad` method to get a padded encoding.\n"
     ]
    },
    {
     "name": "stdout",
     "output_type": "stream",
     "text": [
      "[0.51898307 0.39796674]\n"
     ]
    }
   ],
   "source": [
    "e1 = \"Pusat studi budaya Islam-Jawa Demak: Budaya merupakan faktor utama dalam pengembangan dunia arsitektur, seringkali keberadaan budaya ditampilkan melalui tempelan-tempelan belaka dan hanya memperlhatkan keberadaan yang kosong akan makna. Keberadaan proyek ini berusaha menggali kembali makna budaya yang terkubur. Pusat studi budaya Islam-Jawa Demak merupakan salah satu wadah arsitektural, fasilitas pendidkan, fasilitas teater, fasilitas perpustakaan dan fasilitas asrama. Konsep yang digali merupakan konsep dari atap Masjid Agung Demak yaitu konsep Islam, Iman dan Ihsan. Pengembangan konsep yang dilakukan adalah konsep perjalanan manusia menuju kesempurnaan. Pengadaan ruang studi bagi pelajar merupakan satu upaya untuk mencapai kesadaran berbudaya, sehingga para pelajar dapat mengerti tentang budaya. Masyarakat diupayakan dapat menikmati keberadaan budaya setempat. keberadaan bangunan selain digunakan untuk pagelaran pameran, seni drama atau seni musik, namun digunakan sebagai pembelajaran dan pengkajian budaya dengan keberadaan perpustakaan sebagai sarana penggaliannya dan ruang koderensi sebagai ruang penyebarannya/pembahanya\"\n",
    "e2 = [\n",
    "    \"Budaya Islam-Jawa\", \n",
    "    \"Pengembangan Sistem Informasi Geografis\"\n",
    "]\n",
    "\n",
    "embeddings_1 = model.encode(e1, \n",
    "                            batch_size=12, \n",
    "                            max_length=8192, # If you don't need such a long length, you can set a smaller value to speed up the encoding process.\n",
    "                            )['dense_vecs']\n",
    "embeddings_2 = model.encode(e2)['dense_vecs']\n",
    "similarity = embeddings_1 @ embeddings_2.T\n",
    "print(similarity)"
   ]
  }
 ],
 "metadata": {
  "kernelspec": {
   "display_name": "bge-m3",
   "language": "python",
   "name": "python3"
  },
  "language_info": {
   "codemirror_mode": {
    "name": "ipython",
    "version": 3
   },
   "file_extension": ".py",
   "mimetype": "text/x-python",
   "name": "python",
   "nbconvert_exporter": "python",
   "pygments_lexer": "ipython3",
   "version": "3.9.21"
  }
 },
 "nbformat": 4,
 "nbformat_minor": 5
}
