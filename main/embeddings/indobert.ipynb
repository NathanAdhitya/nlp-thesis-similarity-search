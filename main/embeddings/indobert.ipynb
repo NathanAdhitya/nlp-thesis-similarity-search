{
 "cells": [
  {
   "cell_type": "code",
   "execution_count": null,
   "id": "4fb86408",
   "metadata": {},
   "outputs": [],
   "source": [
    "%pip install sentence-transformers torch torchvision torchaudio\n",
    "%pip install iprogress tqdm ipywidgets"
   ]
  },
  {
   "cell_type": "code",
   "execution_count": 7,
   "id": "9464e520",
   "metadata": {},
   "outputs": [],
   "source": [
    "from sentence_transformers import SentenceTransformer, util\n",
    "model = SentenceTransformer('rahmanfadhil/indobert-finetuned-indonli')"
   ]
  },
  {
   "cell_type": "code",
   "execution_count": 2,
   "id": "f515c9df",
   "metadata": {},
   "outputs": [
    {
     "name": "stdout",
     "output_type": "stream",
     "text": [
      "SentenceTransformer(\n",
      "  (0): Transformer({'max_seq_length': 75, 'do_lower_case': False}) with Transformer model: BertModel \n",
      "  (1): Pooling({'word_embedding_dimension': 768, 'pooling_mode_cls_token': False, 'pooling_mode_mean_tokens': True, 'pooling_mode_max_tokens': False, 'pooling_mode_mean_sqrt_len_tokens': False, 'pooling_mode_weightedmean_tokens': False, 'pooling_mode_lasttoken': False, 'include_prompt': True})\n",
      ")\n"
     ]
    }
   ],
   "source": [
    "# Show model structure\n",
    "print(model)"
   ]
  },
  {
   "cell_type": "code",
   "execution_count": 10,
   "id": "d5a5fb1c",
   "metadata": {},
   "outputs": [
    {
     "name": "stdout",
     "output_type": "stream",
     "text": [
      "Similarity: tensor([[202.5046, 113.7171]])\n",
      "Cosine similarity: tensor([[0.5054, 0.2819]])\n"
     ]
    }
   ],
   "source": [
    "# Encode\n",
    "e1 = model.encode(\"Pusat studi budaya Islam-Jawa Demak: Budaya merupakan faktor utama dalam pengembangan dunia arsitektur, seringkali keberadaan budaya ditampilkan melalui tempelan-tempelan belaka dan hanya memperlhatkan keberadaan yang kosong akan makna. Keberadaan proyek ini berusaha menggali kembali makna budaya yang terkubur. Pusat studi budaya Islam-Jawa Demak merupakan salah satu wadah arsitektural, fasilitas pendidkan, fasilitas teater, fasilitas perpustakaan dan fasilitas asrama. Konsep yang digali merupakan konsep dari atap Masjid Agung Demak yaitu konsep Islam, Iman dan Ihsan. Pengembangan konsep yang dilakukan adalah konsep perjalanan manusia menuju kesempurnaan. Pengadaan ruang studi bagi pelajar merupakan satu upaya untuk mencapai kesadaran berbudaya, sehingga para pelajar dapat mengerti tentang budaya. Masyarakat diupayakan dapat menikmati keberadaan budaya setempat. keberadaan bangunan selain digunakan untuk pagelaran pameran, seni drama atau seni musik, namun digunakan sebagai pembelajaran dan pengkajian budaya dengan keberadaan perpustakaan sebagai sarana penggaliannya dan ruang koderensi sebagai ruang penyebarannya/pembahanya\")\n",
    "e2 = model.encode([\n",
    "    \"Budaya Islam-Jawa\", \n",
    "    \"Pengembangan Sistem Informasi Geografis\"\n",
    "])\n",
    "\n",
    "\n",
    "# Calculate similarity\n",
    "print(\"Similarity:\", util.dot_score(e1, e2))\n",
    "print(\"Cosine similarity:\", util.cos_sim(e1, e2))"
   ]
  }
 ],
 "metadata": {
  "kernelspec": {
   "display_name": ".venv",
   "language": "python",
   "name": "python3"
  },
  "language_info": {
   "codemirror_mode": {
    "name": "ipython",
    "version": 3
   },
   "file_extension": ".py",
   "mimetype": "text/x-python",
   "name": "python",
   "nbconvert_exporter": "python",
   "pygments_lexer": "ipython3",
   "version": "3.12.1"
  }
 },
 "nbformat": 4,
 "nbformat_minor": 5
}
