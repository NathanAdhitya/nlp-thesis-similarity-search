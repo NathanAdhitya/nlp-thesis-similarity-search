{
 "cells": [
  {
   "cell_type": "code",
   "execution_count": 8,
   "id": "2dcb1764",
   "metadata": {},
   "outputs": [
    {
     "name": "stdout",
     "output_type": "stream",
     "text": [
      "Collecting translate\n",
      "  Downloading translate-3.6.1-py2.py3-none-any.whl.metadata (7.7 kB)\n",
      "Collecting click (from translate)\n",
      "  Downloading click-8.2.1-py3-none-any.whl.metadata (2.5 kB)\n",
      "Collecting lxml (from translate)\n",
      "  Downloading lxml-5.4.0-cp313-cp313-win_amd64.whl.metadata (3.6 kB)\n",
      "Requirement already satisfied: requests in c:\\users\\2ndro\\anaconda3\\envs\\nlp-thesis-similarity\\lib\\site-packages (from translate) (2.32.3)\n",
      "Collecting libretranslatepy==2.1.1 (from translate)\n",
      "  Downloading libretranslatepy-2.1.1-py3-none-any.whl.metadata (233 bytes)\n",
      "Requirement already satisfied: colorama in c:\\users\\2ndro\\anaconda3\\envs\\nlp-thesis-similarity\\lib\\site-packages (from click->translate) (0.4.6)\n",
      "Requirement already satisfied: charset-normalizer<4,>=2 in c:\\users\\2ndro\\anaconda3\\envs\\nlp-thesis-similarity\\lib\\site-packages (from requests->translate) (3.4.2)\n",
      "Requirement already satisfied: idna<4,>=2.5 in c:\\users\\2ndro\\anaconda3\\envs\\nlp-thesis-similarity\\lib\\site-packages (from requests->translate) (3.10)\n",
      "Requirement already satisfied: urllib3<3,>=1.21.1 in c:\\users\\2ndro\\anaconda3\\envs\\nlp-thesis-similarity\\lib\\site-packages (from requests->translate) (2.4.0)\n",
      "Requirement already satisfied: certifi>=2017.4.17 in c:\\users\\2ndro\\anaconda3\\envs\\nlp-thesis-similarity\\lib\\site-packages (from requests->translate) (2025.4.26)\n",
      "Downloading translate-3.6.1-py2.py3-none-any.whl (12 kB)\n",
      "Downloading libretranslatepy-2.1.1-py3-none-any.whl (3.2 kB)\n",
      "Downloading click-8.2.1-py3-none-any.whl (102 kB)\n",
      "Downloading lxml-5.4.0-cp313-cp313-win_amd64.whl (3.8 MB)\n",
      "   ---------------------------------------- 0.0/3.8 MB ? eta -:--:--\n",
      "   ---------------------------------------- 0.0/3.8 MB ? eta -:--:--\n",
      "   ---------------------------------------- 0.0/3.8 MB ? eta -:--:--\n",
      "   -- ------------------------------------- 0.3/3.8 MB ? eta -:--:--\n",
      "   -- ------------------------------------- 0.3/3.8 MB ? eta -:--:--\n",
      "   ----- ---------------------------------- 0.5/3.8 MB 795.3 kB/s eta 0:00:05\n",
      "   ----- ---------------------------------- 0.5/3.8 MB 795.3 kB/s eta 0:00:05\n",
      "   ----- ---------------------------------- 0.5/3.8 MB 795.3 kB/s eta 0:00:05\n",
      "   -------- ------------------------------- 0.8/3.8 MB 581.6 kB/s eta 0:00:06\n",
      "   -------- ------------------------------- 0.8/3.8 MB 581.6 kB/s eta 0:00:06\n",
      "   ---------- ----------------------------- 1.0/3.8 MB 523.2 kB/s eta 0:00:06\n",
      "   ---------- ----------------------------- 1.0/3.8 MB 523.2 kB/s eta 0:00:06\n",
      "   ---------- ----------------------------- 1.0/3.8 MB 523.2 kB/s eta 0:00:06\n",
      "   ------------- -------------------------- 1.3/3.8 MB 543.6 kB/s eta 0:00:05\n",
      "   ---------------- ----------------------- 1.6/3.8 MB 565.5 kB/s eta 0:00:04\n",
      "   ---------------- ----------------------- 1.6/3.8 MB 565.5 kB/s eta 0:00:04\n",
      "   ------------------- -------------------- 1.8/3.8 MB 565.9 kB/s eta 0:00:04\n",
      "   ------------------- -------------------- 1.8/3.8 MB 565.9 kB/s eta 0:00:04\n",
      "   --------------------- ------------------ 2.1/3.8 MB 576.0 kB/s eta 0:00:03\n",
      "   --------------------- ------------------ 2.1/3.8 MB 576.0 kB/s eta 0:00:03\n",
      "   --------------------- ------------------ 2.1/3.8 MB 576.0 kB/s eta 0:00:03\n",
      "   ------------------------ --------------- 2.4/3.8 MB 576.2 kB/s eta 0:00:03\n",
      "   ------------------------ --------------- 2.4/3.8 MB 576.2 kB/s eta 0:00:03\n",
      "   --------------------------- ------------ 2.6/3.8 MB 561.3 kB/s eta 0:00:03\n",
      "   --------------------------- ------------ 2.6/3.8 MB 561.3 kB/s eta 0:00:03\n",
      "   --------------------------- ------------ 2.6/3.8 MB 561.3 kB/s eta 0:00:03\n",
      "   ------------------------------ --------- 2.9/3.8 MB 550.2 kB/s eta 0:00:02\n",
      "   ------------------------------ --------- 2.9/3.8 MB 550.2 kB/s eta 0:00:02\n",
      "   -------------------------------- ------- 3.1/3.8 MB 552.0 kB/s eta 0:00:02\n",
      "   -------------------------------- ------- 3.1/3.8 MB 552.0 kB/s eta 0:00:02\n",
      "   ----------------------------------- ---- 3.4/3.8 MB 561.8 kB/s eta 0:00:01\n",
      "   ----------------------------------- ---- 3.4/3.8 MB 561.8 kB/s eta 0:00:01\n",
      "   -------------------------------------- - 3.7/3.8 MB 561.1 kB/s eta 0:00:01\n",
      "   ---------------------------------------- 3.8/3.8 MB 564.6 kB/s eta 0:00:00\n",
      "Installing collected packages: libretranslatepy, lxml, click, translate\n",
      "\n",
      "   ---------- ----------------------------- 1/4 [lxml]\n",
      "   -------------------- ------------------- 2/4 [click]\n",
      "   ---------------------------------------- 4/4 [translate]\n",
      "\n",
      "Successfully installed click-8.2.1 libretranslatepy-2.1.1 lxml-5.4.0 translate-3.6.1\n",
      "Note: you may need to restart the kernel to use updated packages.\n"
     ]
    }
   ],
   "source": [
    "%pip install translate"
   ]
  },
  {
   "cell_type": "code",
   "execution_count": 16,
   "id": "b415f42a",
   "metadata": {},
   "outputs": [
    {
     "name": "stdout",
     "output_type": "stream",
     "text": [
      "Collecting deep-translator\n",
      "  Downloading deep_translator-1.11.4-py3-none-any.whl.metadata (30 kB)\n",
      "Requirement already satisfied: beautifulsoup4<5.0.0,>=4.9.1 in c:\\users\\2ndro\\anaconda3\\envs\\nlp-thesis-similarity\\lib\\site-packages (from deep-translator) (4.13.4)\n",
      "Requirement already satisfied: requests<3.0.0,>=2.23.0 in c:\\users\\2ndro\\anaconda3\\envs\\nlp-thesis-similarity\\lib\\site-packages (from deep-translator) (2.32.3)\n",
      "Requirement already satisfied: soupsieve>1.2 in c:\\users\\2ndro\\anaconda3\\envs\\nlp-thesis-similarity\\lib\\site-packages (from beautifulsoup4<5.0.0,>=4.9.1->deep-translator) (2.7)\n",
      "Requirement already satisfied: typing-extensions>=4.0.0 in c:\\users\\2ndro\\anaconda3\\envs\\nlp-thesis-similarity\\lib\\site-packages (from beautifulsoup4<5.0.0,>=4.9.1->deep-translator) (4.13.2)\n",
      "Requirement already satisfied: charset-normalizer<4,>=2 in c:\\users\\2ndro\\anaconda3\\envs\\nlp-thesis-similarity\\lib\\site-packages (from requests<3.0.0,>=2.23.0->deep-translator) (3.4.2)\n",
      "Requirement already satisfied: idna<4,>=2.5 in c:\\users\\2ndro\\anaconda3\\envs\\nlp-thesis-similarity\\lib\\site-packages (from requests<3.0.0,>=2.23.0->deep-translator) (3.10)\n",
      "Requirement already satisfied: urllib3<3,>=1.21.1 in c:\\users\\2ndro\\anaconda3\\envs\\nlp-thesis-similarity\\lib\\site-packages (from requests<3.0.0,>=2.23.0->deep-translator) (2.4.0)\n",
      "Requirement already satisfied: certifi>=2017.4.17 in c:\\users\\2ndro\\anaconda3\\envs\\nlp-thesis-similarity\\lib\\site-packages (from requests<3.0.0,>=2.23.0->deep-translator) (2025.4.26)\n",
      "Downloading deep_translator-1.11.4-py3-none-any.whl (42 kB)\n",
      "Installing collected packages: deep-translator\n",
      "Successfully installed deep-translator-1.11.4\n",
      "Note: you may need to restart the kernel to use updated packages.\n"
     ]
    }
   ],
   "source": [
    "pip install -U deep-translator"
   ]
  },
  {
   "cell_type": "code",
   "execution_count": 2,
   "id": "afb6cdbc",
   "metadata": {},
   "outputs": [
    {
     "name": "stdout",
     "output_type": "stream",
     "text": [
      "Collecting langdetect\n",
      "  Using cached langdetect-1.0.9.tar.gz (981 kB)\n",
      "  Installing build dependencies: started\n",
      "  Installing build dependencies: finished with status 'done'\n",
      "  Getting requirements to build wheel: started\n",
      "  Getting requirements to build wheel: finished with status 'done'\n",
      "  Preparing metadata (pyproject.toml): started\n",
      "  Preparing metadata (pyproject.toml): finished with status 'done'\n",
      "Requirement already satisfied: six in c:\\users\\2ndro\\anaconda3\\envs\\nlp-thesis-similarity\\lib\\site-packages (from langdetect) (1.17.0)\n",
      "Building wheels for collected packages: langdetect\n",
      "  Building wheel for langdetect (pyproject.toml): started\n",
      "  Building wheel for langdetect (pyproject.toml): finished with status 'done'\n",
      "  Created wheel for langdetect: filename=langdetect-1.0.9-py3-none-any.whl size=993363 sha256=ede340295d6fb119e3a7f0454452be9c411dd8c027dcf9423ec5832148bf951c\n",
      "  Stored in directory: c:\\users\\2ndro\\appdata\\local\\pip\\cache\\wheels\\eb\\87\\25\\2dddf1c94e1786054e25022ec5530bfed52bad86d882999c48\n",
      "Successfully built langdetect\n",
      "Installing collected packages: langdetect\n",
      "Successfully installed langdetect-1.0.9\n",
      "Note: you may need to restart the kernel to use updated packages.\n"
     ]
    }
   ],
   "source": [
    "%pip install langdetect"
   ]
  },
  {
   "cell_type": "code",
   "execution_count": 13,
   "id": "147b8c24",
   "metadata": {},
   "outputs": [],
   "source": [
    "import langdetect\n",
    "from translate import Translator"
   ]
  },
  {
   "cell_type": "code",
   "execution_count": 7,
   "id": "d55f5ef7",
   "metadata": {},
   "outputs": [
    {
     "data": {
      "text/plain": [
       "[en:0.8571412072883811, id:0.14285649107567744]"
      ]
     },
     "execution_count": 7,
     "metadata": {},
     "output_type": "execute_result"
    }
   ],
   "source": [
    "langdetect.detect_langs(\"Sistem pengembangan RFID berbasis Chain Of Thought Architecture\")"
   ]
  },
  {
   "cell_type": "code",
   "execution_count": 15,
   "id": "8b2511f7",
   "metadata": {},
   "outputs": [
    {
     "name": "stdout",
     "output_type": "stream",
     "text": [
      "这是一支笔\n"
     ]
    }
   ],
   "source": [
    "translator= Translator(to_lang=\"zh\")\n",
    "translation = translator.translate(\"This is a pen.\")\n",
    "print(translation)"
   ]
  },
  {
   "cell_type": "code",
   "execution_count": null,
   "id": "ebf67a02",
   "metadata": {},
   "outputs": [
    {
     "name": "stdout",
     "output_type": "stream",
     "text": [
      "Subtitle Indonesia dari ucapan -ucapan bahasa Inggris yang diucapkan oleh karakter dalam kecantikan Amerika: tesis ini khususnya tentang terjemahan yang dilakukan pada subtitle film berjudul American Beauty. Dalam melakukan penelitian, penulis ingin mencari tahu (1) jenis kesalahan apa yang muncul dalam subtitle yang tidak menyampaikan makna ucapan asli, (2) yang sebagian besar terjadi kesalahan dalam subtitle (3) apa kualitas subtitle. Untuk melakukan penelitian, penulis ingin memanfaatkan pendekatan kualitatif. Data transkripsi ucapan diperoleh dari Internet dan kemudian dibandingkan dengan VCD (Video Compact Disc) berjudul American Beauty. Tujuh puluh enam adegan dalam film ini memiliki tiga bagian - awal, konflik, dan akhirnya. Subtitle yang dianalisis berasal dari dua belas adegan yang termasuk dalam tiga bagian, memiliki lebih banyak ucapan daripada yang lain. Analisis ini didasarkan pada teori terjemahan. Teori terjemahannya adalah Peter Newmark? S, tentang unit penerjemahan, kriteria audiens, kategorisasi kesalahan terjemahan; dan Christine Durieux tentang kriteria terjemahan yang baik. Temuan analisis mengungkapkan bahwa kesalahan yang terjadi di subtitle terdiri dari dua jenis. Mereka mengalami kesalahan yang menyesatkan dan mengalami kesalahan yang bernuansa. Subtitle yang dapat diterima adalah sampel terbanyak yang ditemukan dalam data. Subtitle memiliki kesalahan yang menyesatkan berada di posisi pertama sementara memiliki kesalahan yang bernuansa di yang kedua. Kualitas subtitle bagus.\n"
     ]
    }
   ],
   "source": [
    "from deep_translator import GoogleTranslator\n",
    "\n",
    "# Use any translator you like, in this example GoogleTranslator\n",
    "translated = GoogleTranslator(source='auto', target='indonesian').translate(\"keep it up, you are awesome\")  # output -> Weiter so, du bist großartig\n",
    "print(translated)"
   ]
  }
 ],
 "metadata": {
  "kernelspec": {
   "display_name": "nlp-thesis-similarity",
   "language": "python",
   "name": "python3"
  },
  "language_info": {
   "codemirror_mode": {
    "name": "ipython",
    "version": 3
   },
   "file_extension": ".py",
   "mimetype": "text/x-python",
   "name": "python",
   "nbconvert_exporter": "python",
   "pygments_lexer": "ipython3",
   "version": "3.13.3"
  }
 },
 "nbformat": 4,
 "nbformat_minor": 5
}
