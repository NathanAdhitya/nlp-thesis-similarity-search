{
 "cells": [
  {
   "cell_type": "code",
   "execution_count": 1,
   "id": "562a32e9",
   "metadata": {},
   "outputs": [
    {
     "name": "stderr",
     "output_type": "stream",
     "text": [
      "c:\\Users\\2ndro\\anaconda3\\envs\\nlp-thesis-similarity\\Lib\\site-packages\\tqdm\\auto.py:21: TqdmWarning: IProgress not found. Please update jupyter and ipywidgets. See https://ipywidgets.readthedocs.io/en/stable/user_install.html\n",
      "  from .autonotebook import tqdm as notebook_tqdm\n"
     ]
    }
   ],
   "source": [
    "import mysql.connector\n",
    "from sentence_transformers import SentenceTransformer\n",
    "from tqdm import tqdm\n",
    "from search_utils import get_embedding, update_embeddings_in_batches"
   ]
  },
  {
   "cell_type": "code",
   "execution_count": 2,
   "id": "05c921c4",
   "metadata": {},
   "outputs": [],
   "source": [
    "database = mysql.connector.connect(\n",
    "    host=\"localhost\",\n",
    "    user=\"root\",\n",
    "    password=\"\",\n",
    ")\n",
    "cursor = database.cursor()\n",
    "cursor.execute(\"USE nlp_thesis_similarity\")"
   ]
  },
  {
   "cell_type": "code",
   "execution_count": 3,
   "id": "0dd685e4",
   "metadata": {},
   "outputs": [],
   "source": [
    "model = SentenceTransformer(\"all-MiniLM-L6-v2\")"
   ]
  },
  {
   "cell_type": "code",
   "execution_count": 5,
   "id": "bedd086d",
   "metadata": {},
   "outputs": [
    {
     "name": "stdout",
     "output_type": "stream",
     "text": [
      "Columns checked and added if needed\n"
     ]
    }
   ],
   "source": [
    "# First, make sure the columns exist\n",
    "try:\n",
    "    # Check if columns exist first\n",
    "    cursor.execute(\"SHOW COLUMNS FROM dewey_papers LIKE 'title_embeddings_all-MiniLM-L6-v2'\")\n",
    "    if not cursor.fetchone():\n",
    "        cursor.execute(\"ALTER TABLE dewey_papers ADD COLUMN `title_embeddings_all-MiniLM-L6-v2` JSON\")\n",
    "        \n",
    "    cursor.execute(\"SHOW COLUMNS FROM dewey_papers LIKE 'abstract_embeddings_all-MiniLM-L6-v2'\")\n",
    "    if not cursor.fetchone():\n",
    "        cursor.execute(\"ALTER TABLE dewey_papers ADD COLUMN `abstract_embeddings_all-MiniLM-L6-v2` JSON\")\n",
    "        \n",
    "    database.commit()\n",
    "    print(\"Columns checked and added if needed\")\n",
    "except Exception as e:\n",
    "    print(f\"Error managing columns: {e}\")\n",
    "    database.rollback()  # Rollback in case of error"
   ]
  },
  {
   "cell_type": "code",
   "execution_count": 11,
   "id": "289b7203",
   "metadata": {},
   "outputs": [
    {
     "name": "stdout",
     "output_type": "stream",
     "text": [
      "<class 'list'>\n",
      "3441\n"
     ]
    }
   ],
   "source": [
    "query = \"SELECT id FROM dewey_papers WHERE abstract = ''\"\n",
    "\n",
    "cursor.execute(query)\n",
    "papers = cursor.fetchall()\n",
    "print(type(papers))\n",
    "print(len(papers))"
   ]
  },
  {
   "cell_type": "code",
   "execution_count": 4,
   "id": "4fe5f9be",
   "metadata": {},
   "outputs": [
    {
     "name": "stdout",
     "output_type": "stream",
     "text": [
      "Processing 0 papers that need embeddings...\n",
      "No papers need embeddings. Process complete.\n",
      "Embedding process completed\n"
     ]
    }
   ],
   "source": [
    "# Run the update process with the loaded model\n",
    "update_embeddings_in_batches(model, cursor, database)\n",
    "\n",
    "print(\"Embedding process completed\")"
   ]
  }
 ],
 "metadata": {
  "kernelspec": {
   "display_name": "nlp-thesis-similarity",
   "language": "python",
   "name": "python3"
  },
  "language_info": {
   "codemirror_mode": {
    "name": "ipython",
    "version": 3
   },
   "file_extension": ".py",
   "mimetype": "text/x-python",
   "name": "python",
   "nbconvert_exporter": "python",
   "pygments_lexer": "ipython3",
   "version": "3.13.3"
  }
 },
 "nbformat": 4,
 "nbformat_minor": 5
}
